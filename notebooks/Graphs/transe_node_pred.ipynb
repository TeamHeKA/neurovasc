{
 "cells": [
  {
   "cell_type": "markdown",
   "metadata": {},
   "source": [
    "# Outcome Prediction (Node Classification) with TransE Model + MLP"
   ]
  },
  {
   "cell_type": "code",
   "execution_count": 1,
   "metadata": {},
   "outputs": [],
   "source": [
    "import os\n",
    "import joblib\n",
    "\n",
    "import numpy as np\n",
    "import pandas as pd\n",
    "\n",
    "from pykeen.triples import TriplesFactory\n",
    "from pykeen.predict import predict_target\n",
    "from pykeen.pipeline import pipeline"
   ]
  },
  {
   "cell_type": "markdown",
   "metadata": {},
   "source": [
    "## 1. Load KG and remove outcomes"
   ]
  },
  {
   "cell_type": "code",
   "execution_count": 2,
   "metadata": {},
   "outputs": [
    {
     "name": "stdout",
     "output_type": "stream",
     "text": [
      "<http://nvasc.org/d20f37d2-0e80-4513-8669-0da9f2cb1787> <http://sphn.org/hasCode> <http://nvasc.org/code_hta_1.0> .\n",
      "\n",
      "                                                   s  \\\n",
      "0  <http://nvasc.org/ff01c758-13fe-439f-bcd3-55a9...   \n",
      "1  <http://nvasc.org/2f779c25-760f-4add-b1f2-0897...   \n",
      "2  <http://nvasc.org/915c2f88-a47c-41e3-97e8-98d7...   \n",
      "3  <http://nvasc.org/ff6c601c-ee07-4bab-ac9e-35d5...   \n",
      "4  <http://nvasc.org/1b0177ae-c7bc-4c0d-adde-abec...   \n",
      "\n",
      "                                                   r  \\\n",
      "0  <http://www.w3.org/1999/02/22-rdf-syntax-ns#type>   \n",
      "1  <http://www.w3.org/1999/02/22-rdf-syntax-ns#type>   \n",
      "2  <http://www.w3.org/1999/02/22-rdf-syntax-ns#type>   \n",
      "3       <http://sphn.org/hasSubjectPseudoIdentifier>   \n",
      "4       <http://sphn.org/hasSubjectPseudoIdentifier>   \n",
      "\n",
      "                                      d  \n",
      "0           <http://sphn.org/Diagnosis>  \n",
      "1           <http://sphn.org/Diagnosis>  \n",
      "2           <http://sphn.org/Diagnosis>  \n",
      "3  <http://nvasc.org/synth_patient_413>  \n",
      "4  <http://nvasc.org/synth_patient_315>  \n"
     ]
    }
   ],
   "source": [
    "dataset = '../Data Generation/sphn_transductive_1000_0.nt'\n",
    "num_patients = 1000\n",
    "\n",
    "def preprocess(data_name):\n",
    "    s_list, r_list, d_list = [], [], []\n",
    "    \n",
    "    with open(data_name) as f:\n",
    "        s = next(f)\n",
    "        print(s)\n",
    "        for idx, line in enumerate(f):\n",
    "            e = line.strip().split(' ')\n",
    "            s = e[0]\n",
    "            r = e[1]\n",
    "            d = e[2]            \n",
    "            \n",
    "            s_list.append(s)\n",
    "            r_list.append(r)\n",
    "            d_list.append(d)            \n",
    "            \n",
    "    return pd.DataFrame({\n",
    "        's':s_list, \n",
    "        'r':r_list, \n",
    "        'd':d_list,                          \n",
    "        })\n",
    "\n",
    "df = preprocess(dataset)\n",
    "print(df.head())"
   ]
  },
  {
   "cell_type": "markdown",
   "metadata": {},
   "source": [
    "### Remove outcomes from KG"
   ]
  },
  {
   "cell_type": "code",
   "execution_count": 3,
   "metadata": {},
   "outputs": [],
   "source": [
    "outcome = df['d'].str.contains('outcome_0.0|outcome_1.0|outcome_2.0')\n",
    "node_df = df[~outcome]\n",
    "node_df = node_df.reset_index(drop=True)\n",
    "outcome = node_df['s'].str.contains('outcome_0.0|outcome_1.0|outcome_2.0')\n",
    "node_df = node_df[~outcome]\n",
    "node_df = node_df.reset_index(drop=True)"
   ]
  },
  {
   "cell_type": "code",
   "execution_count": 4,
   "metadata": {},
   "outputs": [
    {
     "name": "stdout",
     "output_type": "stream",
     "text": [
      "                                                   s  \\\n",
      "0  <http://nvasc.org/ff01c758-13fe-439f-bcd3-55a9...   \n",
      "1  <http://nvasc.org/2f779c25-760f-4add-b1f2-0897...   \n",
      "2  <http://nvasc.org/915c2f88-a47c-41e3-97e8-98d7...   \n",
      "3  <http://nvasc.org/ff6c601c-ee07-4bab-ac9e-35d5...   \n",
      "4  <http://nvasc.org/1b0177ae-c7bc-4c0d-adde-abec...   \n",
      "\n",
      "                                                   r  \\\n",
      "0  <http://www.w3.org/1999/02/22-rdf-syntax-ns#type>   \n",
      "1  <http://www.w3.org/1999/02/22-rdf-syntax-ns#type>   \n",
      "2  <http://www.w3.org/1999/02/22-rdf-syntax-ns#type>   \n",
      "3       <http://sphn.org/hasSubjectPseudoIdentifier>   \n",
      "4       <http://sphn.org/hasSubjectPseudoIdentifier>   \n",
      "\n",
      "                                      d  \n",
      "0           <http://sphn.org/Diagnosis>  \n",
      "1           <http://sphn.org/Diagnosis>  \n",
      "2           <http://sphn.org/Diagnosis>  \n",
      "3  <http://nvasc.org/synth_patient_413>  \n",
      "4  <http://nvasc.org/synth_patient_315>  \n"
     ]
    }
   ],
   "source": [
    "print(node_df.head())"
   ]
  },
  {
   "cell_type": "code",
   "execution_count": 5,
   "metadata": {},
   "outputs": [],
   "source": [
    "ent_to_id = {k: v for v, k in enumerate(set(node_df['s']).union(set(node_df['d'])), start=0)}\n",
    "rel_to_id = {k: v for v, k in enumerate(set(node_df['r']), start=0)}\n",
    "\n",
    "patients = [f\"<http://nvasc.org/synth_patient_{i}>\" for i in range(num_patients)]\n",
    "patient_id = []\n",
    "for patient in patients:\n",
    "    patient_id.append(ent_to_id[patient])\n",
    "\n",
    "num_nodes = max(ent_to_id.values()) + 1\n",
    "num_rels = max(rel_to_id.values()) + 1\n",
    "\n",
    "events = node_df.copy()\n",
    "events[\"s\"] = node_df.s.map(ent_to_id)\n",
    "events[\"d\"] = node_df.d.map(ent_to_id)\n",
    "events[\"r\"] = node_df.r.map(rel_to_id)\n",
    "\n",
    "ent_to_id = pd.DataFrame.from_dict(ent_to_id, orient='index')\n",
    "rel_to_id = pd.DataFrame.from_dict(rel_to_id, orient='index')"
   ]
  },
  {
   "cell_type": "markdown",
   "metadata": {},
   "source": [
    "### Save events, entities and relations to 'processed_data' folder"
   ]
  },
  {
   "cell_type": "code",
   "execution_count": 6,
   "metadata": {},
   "outputs": [],
   "source": [
    "path = 'processed_data'\n",
    "if not os.path.exists(path):\n",
    "    os.makedirs(path)\n",
    "\n",
    "events.to_csv(f'{path}/sphn_events_noOutcome.tsv', sep='\\t', index=False, header=None)\n",
    "ent_to_id.to_csv(f'{path}/sphn_entities_noOutcome.tsv', sep='\\t', header=None)\n",
    "rel_to_id.to_csv(f'{path}/sphn_relations_noOutcome.tsv', sep='\\t', header=None)"
   ]
  },
  {
   "cell_type": "markdown",
   "metadata": {},
   "source": [
    "## 2. Training the model"
   ]
  },
  {
   "cell_type": "code",
   "execution_count": 7,
   "metadata": {},
   "outputs": [],
   "source": [
    "tf = TriplesFactory.from_path(f'{path}/sphn_events_noOutcome.tsv', create_inverse_triples=True)"
   ]
  },
  {
   "cell_type": "code",
   "execution_count": 8,
   "metadata": {},
   "outputs": [
    {
     "name": "stdout",
     "output_type": "stream",
     "text": [
      "TriplesFactory(num_entities=32562, num_relations=16, create_inverse_triples=True, num_triples=111934, path=\"/home/baical77/projects/neurovasc/notebooks/Graphs/processed_data/sphn_events_noOutcome.tsv\")\n"
     ]
    }
   ],
   "source": [
    "print(tf)"
   ]
  },
  {
   "cell_type": "code",
   "execution_count": 9,
   "metadata": {},
   "outputs": [
    {
     "name": "stderr",
     "output_type": "stream",
     "text": [
      "No random seed is specified. Setting to 3966006011.\n"
     ]
    },
    {
     "name": "stderr",
     "output_type": "stream",
     "text": [
      "INFO:pykeen.triples.triples_factory:Creating inverse triples.\n"
     ]
    },
    {
     "data": {
      "application/vnd.jupyter.widget-view+json": {
       "model_id": "5d232ba464f042228b15af3b916c61c8",
       "version_major": 2,
       "version_minor": 0
      },
      "text/plain": [
       "Training epochs on cuda:0:   0%|          | 0/50 [00:00<?, ?epoch/s]"
      ]
     },
     "metadata": {},
     "output_type": "display_data"
    },
    {
     "name": "stderr",
     "output_type": "stream",
     "text": [
      "INFO:pykeen.triples.triples_factory:Creating inverse triples.\n"
     ]
    },
    {
     "data": {
      "application/vnd.jupyter.widget-view+json": {
       "model_id": "8532731ba27140dabb971ef961ddec5f",
       "version_major": 2,
       "version_minor": 0
      },
      "text/plain": [
       "Evaluating on cuda:0:   0%|          | 0.00/112k [00:00<?, ?triple/s]"
      ]
     },
     "metadata": {},
     "output_type": "display_data"
    },
    {
     "name": "stderr",
     "output_type": "stream",
     "text": [
      "INFO:pykeen.evaluation.evaluator:Evaluation took 157.75s seconds\n"
     ]
    },
    {
     "data": {
      "image/png": "[encoded data removed]",
      "text/plain": [
       "<Figure size 640x480 with 1 Axes>"
      ]
     },
     "metadata": {},
     "output_type": "display_data"
    }
   ],
   "source": [
    "model_name = 'TransE'\n",
    "embedding_dim = 16\n",
    "epochs = 50\n",
    "\n",
    "result = pipeline(\n",
    "    training=tf,\n",
    "    testing=tf,\n",
    "    model=model_name,\n",
    "    model_kwargs=dict(\n",
    "        embedding_dim=embedding_dim,\n",
    "        loss=\"softplus\",\n",
    "    ),\n",
    "    training_kwargs=dict(\n",
    "        num_epochs=epochs,\n",
    "        use_tqdm_batch=False,\n",
    "    ),\n",
    "    optimizer_kwargs=dict(\n",
    "        lr=0.001,\n",
    "        weight_decay=1e-5,\n",
    "    ),\n",
    "    training_loop='sLCWA',\n",
    "    negative_sampler='basic',\n",
    "    device='gpu',\n",
    "    use_tqdm=True,\n",
    ")\n",
    "\n",
    "#plot loss\n",
    "loss_plot = result.plot_losses()"
   ]
  },
  {
   "cell_type": "code",
   "execution_count": 10,
   "metadata": {},
   "outputs": [
    {
     "name": "stdout",
     "output_type": "stream",
     "text": [
      "Patient embedding size: torch.Size([1000, 16])\n"
     ]
    }
   ],
   "source": [
    "import torch\n",
    "import torch.nn as nn\n",
    "import torch.nn.functional as F\n",
    "\n",
    "device = torch.device('cuda' if torch.cuda.is_available() else 'cpu')\n",
    "\n",
    "model = result.model\n",
    "entity_embedding = model.entity_representations[0](indices=None).detach().cpu()\n",
    "patient_embedding = entity_embedding[patient_id]\n",
    "print(f'Patient embedding size: {patient_embedding.shape}')\n",
    "\n",
    "patient_embedding = patient_embedding.to(device)\n",
    "y = joblib.load('../Data Generation/outcomes_1000_0.joblib')\n",
    "y = torch.Tensor(y).long().to(device)\n",
    "\n",
    "train_x, train_y = patient_embedding[:int(num_patients*0.8)], y[:int(num_patients*0.8)]\n",
    "val_x, val_y = patient_embedding[int(num_patients*0.8):int(num_patients*0.9)], y[int(num_patients*0.8):int(num_patients*0.9)]\n",
    "test_x, test_y = patient_embedding[int(num_patients*0.9):], y[int(num_patients*0.9):]"
   ]
  },
  {
   "cell_type": "code",
   "execution_count": 11,
   "metadata": {},
   "outputs": [
    {
     "name": "stdout",
     "output_type": "stream",
     "text": [
      "Epoch: 01, Loss: 1.1898, Val_Loss: 1.1763, Train: 0.1575, Val: 0.2000 Test: 0.1500\n",
      "Epoch: 02, Loss: 1.1718, Val_Loss: 1.1603, Train: 0.4300, Val: 0.4400 Test: 0.4600\n",
      "Epoch: 03, Loss: 1.1564, Val_Loss: 1.1471, Train: 0.4512, Val: 0.4500 Test: 0.5000\n",
      "Epoch: 04, Loss: 1.1441, Val_Loss: 1.1347, Train: 0.4512, Val: 0.4500 Test: 0.5000\n",
      "Epoch: 05, Loss: 1.1327, Val_Loss: 1.1230, Train: 0.4512, Val: 0.4500 Test: 0.5000\n",
      "Epoch: 06, Loss: 1.1220, Val_Loss: 1.1113, Train: 0.4512, Val: 0.4500 Test: 0.5000\n",
      "Epoch: 07, Loss: 1.1115, Val_Loss: 1.0997, Train: 0.4512, Val: 0.4500 Test: 0.5000\n",
      "Epoch: 08, Loss: 1.1010, Val_Loss: 1.0881, Train: 0.4512, Val: 0.4500 Test: 0.5000\n",
      "Epoch: 09, Loss: 1.0905, Val_Loss: 1.0765, Train: 0.4512, Val: 0.4500 Test: 0.5000\n",
      "Epoch: 10, Loss: 1.0800, Val_Loss: 1.0649, Train: 0.4512, Val: 0.4500 Test: 0.5000\n",
      "Epoch: 11, Loss: 1.0696, Val_Loss: 1.0533, Train: 0.4512, Val: 0.4500 Test: 0.5000\n",
      "Epoch: 12, Loss: 1.0592, Val_Loss: 1.0419, Train: 0.4512, Val: 0.4500 Test: 0.5000\n",
      "Epoch: 13, Loss: 1.0491, Val_Loss: 1.0309, Train: 0.4525, Val: 0.4500 Test: 0.5000\n",
      "Epoch: 14, Loss: 1.0393, Val_Loss: 1.0202, Train: 0.4512, Val: 0.4500 Test: 0.5000\n",
      "Epoch: 15, Loss: 1.0301, Val_Loss: 1.0101, Train: 0.4650, Val: 0.4600 Test: 0.5100\n",
      "Epoch: 16, Loss: 1.0215, Val_Loss: 1.0007, Train: 0.4712, Val: 0.4600 Test: 0.5000\n",
      "Epoch: 17, Loss: 1.0136, Val_Loss: 0.9920, Train: 0.4712, Val: 0.4600 Test: 0.4900\n",
      "Epoch: 18, Loss: 1.0065, Val_Loss: 0.9840, Train: 0.4700, Val: 0.4700 Test: 0.4900\n",
      "Epoch: 19, Loss: 1.0002, Val_Loss: 0.9769, Train: 0.4712, Val: 0.4600 Test: 0.4900\n",
      "Epoch: 20, Loss: 0.9946, Val_Loss: 0.9705, Train: 0.4688, Val: 0.4600 Test: 0.4900\n",
      "Epoch: 21, Loss: 0.9896, Val_Loss: 0.9649, Train: 0.4688, Val: 0.4600 Test: 0.4900\n",
      "Epoch: 22, Loss: 0.9851, Val_Loss: 0.9600, Train: 0.4688, Val: 0.4600 Test: 0.4900\n",
      "Epoch: 23, Loss: 0.9809, Val_Loss: 0.9555, Train: 0.4688, Val: 0.4600 Test: 0.4900\n",
      "Epoch: 24, Loss: 0.9770, Val_Loss: 0.9516, Train: 0.4700, Val: 0.4600 Test: 0.4900\n",
      "Epoch: 25, Loss: 0.9733, Val_Loss: 0.9486, Train: 0.4712, Val: 0.4600 Test: 0.4900\n",
      "Epoch: 26, Loss: 0.9702, Val_Loss: 0.9468, Train: 0.4712, Val: 0.4600 Test: 0.4900\n",
      "Epoch: 27, Loss: 0.9678, Val_Loss: 0.9461, Train: 0.4725, Val: 0.4600 Test: 0.4900\n",
      "Epoch: 28, Loss: 0.9662, Val_Loss: 0.9466, Train: 0.4750, Val: 0.4600 Test: 0.5200\n",
      "Epoch: 29, Loss: 0.9654, Val_Loss: 0.9480, Train: 0.4500, Val: 0.4800 Test: 0.4100\n",
      "Epoch: 30, Loss: 0.9652, Val_Loss: 0.9498, Train: 0.4512, Val: 0.4700 Test: 0.4100\n",
      "Epoch: 31, Loss: 0.9652, Val_Loss: 0.9518, Train: 0.4550, Val: 0.4700 Test: 0.4000\n",
      "Epoch: 32, Loss: 0.9653, Val_Loss: 0.9536, Train: 0.4562, Val: 0.4700 Test: 0.4000\n",
      "Epoch: 33, Loss: 0.9651, Val_Loss: 0.9553, Train: 0.4525, Val: 0.4700 Test: 0.4100\n",
      "Epoch: 34, Loss: 0.9648, Val_Loss: 0.9569, Train: 0.4525, Val: 0.4800 Test: 0.4100\n",
      "Epoch: 35, Loss: 0.9643, Val_Loss: 0.9584, Train: 0.4562, Val: 0.4900 Test: 0.4300\n",
      "Epoch: 36, Loss: 0.9639, Val_Loss: 0.9599, Train: 0.4762, Val: 0.4800 Test: 0.5200\n",
      "Early stopping...\n",
      "Median time per epoch: 0.0027s\n"
     ]
    }
   ],
   "source": [
    "# MLP classifier\n",
    "class NeuralNetwork(nn.Module):\n",
    "    def __init__(self):\n",
    "        super().__init__()\n",
    "        self.linear_relu_stack = nn.Sequential(\n",
    "            nn.Linear(16, 16),\n",
    "            nn.ReLU(),\n",
    "            nn.Linear(16, 3),\n",
    "        )\n",
    "\n",
    "    def forward(self, x):\n",
    "        x = self.linear_relu_stack(x)\n",
    "        return F.log_softmax(x, dim=1)\n",
    "    \n",
    "model = NeuralNetwork().to(device)\n",
    "optimizer = torch.optim.Adam(model.parameters(), lr=0.01, weight_decay=0.0005)\n",
    "\n",
    "\n",
    "def train():\n",
    "    model.train()\n",
    "    optimizer.zero_grad()\n",
    "    out = model(train_x)\n",
    "    loss = F.nll_loss(out, train_y)\n",
    "    loss.backward()\n",
    "    optimizer.step()\n",
    "    # Validation\n",
    "    model.eval()  # Set model to evaluation mode\n",
    "    with torch.no_grad():  # Disable gradient calculation for validation\n",
    "        val_output = model(val_x)\n",
    "        val_loss = F.nll_loss(val_output, val_y)\n",
    "    return float(loss), float(val_loss)\n",
    "\n",
    "@torch.no_grad()\n",
    "def test():\n",
    "    model.eval()\n",
    "    pred = model(patient_embedding).argmax(dim=-1)\n",
    "    train_acc = float((pred[:int(num_patients*0.8)] == train_y).float().mean())\n",
    "    val_acc = float((pred[int(num_patients*0.8):int(num_patients*0.9)] == val_y).float().mean())\n",
    "    test_acc = float((pred[int(num_patients*0.9):] == test_y).float().mean())\n",
    "    return train_acc, val_acc, test_acc\n",
    "\n",
    "import time\n",
    "\n",
    "times = []\n",
    "best_loss = float('inf')\n",
    "\n",
    "for epoch in range(1, 1001):\n",
    "    start = time.time()\n",
    "    loss, val_loss = train()\n",
    "    # Early stopping\n",
    "    if val_loss < best_loss:\n",
    "        best_loss = val_loss\n",
    "        patience = 10  # Reset patience counter\n",
    "    else:\n",
    "        patience -= 1\n",
    "        if patience == 0:\n",
    "            print(\"Early stopping...\")\n",
    "            break\n",
    "    train_acc, val_acc, test_acc = test()\n",
    "    print(f'Epoch: {epoch:02d}, Loss: {loss:.4f}, Val_Loss: {val_loss:.4f}, Train: {train_acc:.4f}, Val: {val_acc:.4f} '\n",
    "        f'Test: {test_acc:.4f}')\n",
    "        \n",
    "    times.append(time.time() - start)\n",
    "print(f\"Median time per epoch: {torch.tensor(times).median():.4f}s\")"
   ]
  },
  {
   "cell_type": "code",
   "execution_count": 12,
   "metadata": {},
   "outputs": [
    {
     "name": "stdout",
     "output_type": "stream",
     "text": [
      "ROC AUC score: 0.5576\n"
     ]
    }
   ],
   "source": [
    "from sklearn.metrics import roc_auc_score\n",
    "\n",
    "model.eval()\n",
    "with torch.no_grad():\n",
    "    out = model(patient_embedding).cpu()\n",
    "    prob = F.softmax(out, dim=1)\n",
    "auc = roc_auc_score(test_y.cpu(), prob[int(num_patients*0.9):], multi_class='ovr')\n",
    "print(f'ROC AUC score: {auc:.4f}')"
   ]
  }
 ],
 "metadata": {
  "kernelspec": {
   "display_name": "neurovasc",
   "language": "python",
   "name": "python3"
  },
  "language_info": {
   "codemirror_mode": {
    "name": "ipython",
    "version": 3
   },
   "file_extension": ".py",
   "mimetype": "text/x-python",
   "name": "python",
   "nbconvert_exporter": "python",
   "pygments_lexer": "ipython3",
   "version": "3.11.9"
  }
 },
 "nbformat": 4,
 "nbformat_minor": 2
}
