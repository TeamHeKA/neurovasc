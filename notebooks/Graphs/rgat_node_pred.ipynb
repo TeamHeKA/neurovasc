{
 "cells": [
  {
   "cell_type": "markdown",
   "metadata": {},
   "source": [
    "# Outcome Prediction with RGAT Model"
   ]
  },
  {
   "cell_type": "markdown",
   "metadata": {},
   "source": [
    "## 1. Load data from \"processed_data\" folder"
   ]
  },
  {
   "cell_type": "code",
   "execution_count": 1,
   "metadata": {},
   "outputs": [],
   "source": [
    "import time\n",
    "import joblib\n",
    "import numpy as np\n",
    "import pandas as pd\n",
    "from sklearn.model_selection import StratifiedKFold\n",
    "\n",
    "import torch\n",
    "import torch.nn.functional as F\n",
    "\n",
    "from torch_geometric.data import Data\n",
    "from torch_geometric.nn import RGATConv\n",
    "from torch_geometric.utils import to_undirected"
   ]
  },
  {
   "cell_type": "code",
   "execution_count": 2,
   "metadata": {},
   "outputs": [
    {
     "name": "stdout",
     "output_type": "stream",
     "text": [
      "Data(edge_index=[2, 223868], edge_type=[223868], train_idx=[800], train_y=[800], test_idx=[200], test_y=[200], num_nodes=32564, x=[32564, 32], num_relations=8, num_classes=3)\n"
     ]
    }
   ],
   "source": [
    "num_patients = 1000\n",
    "inverse_triples = True\n",
    "embed_dim = 32\n",
    "num_heads = 2\n",
    "\n",
    "entity = pd.read_csv('processed_data/sphn_entities_noOutcome.tsv', sep='\\t', index_col=0, header=None)\n",
    "entity = entity.to_dict()[1]\n",
    "\n",
    "indices = []\n",
    "for i in range(num_patients):\n",
    "    idx = f'<http://nvasc.org/synth_patient_{i}>'\n",
    "    indices.append(entity[idx])\n",
    "\n",
    "events = pd.read_csv('processed_data/sphn_events_noOutcome.tsv', sep='\\t', header=None)\n",
    "y = joblib.load('../Data Generation/outcomes_1000_0.joblib')\n",
    "\n",
    "skf = StratifiedKFold(n_splits=5)\n",
    "train_idx, test_idx = next(iter(skf.split(indices, y)))\n",
    "indices = np.asarray(indices)\n",
    "y = np.asarray(y)\n",
    "\n",
    "edge_index = torch.vstack((torch.Tensor(events[0]).long(),torch.Tensor(events[2]).long()))\n",
    "edge_type = torch.Tensor(events[1]).long()\n",
    "train_x = torch.Tensor(indices[train_idx]).long()\n",
    "train_y = torch.Tensor(y[train_idx]).long()\n",
    "test_x = torch.Tensor(indices[test_idx]).long()\n",
    "test_y = torch.Tensor(y[test_idx]).long()\n",
    "num_nodes = len(entity)\n",
    "\n",
    "if inverse_triples == True:\n",
    "    edge_index = to_undirected(edge_index)\n",
    "    edge_type = torch.cat((edge_type, edge_type))\n",
    "\n",
    "data = Data(\n",
    "    edge_index=edge_index,\n",
    "    edge_type=edge_type,\n",
    "    train_idx=train_x,\n",
    "    train_y=train_y,\n",
    "    test_idx=test_x,\n",
    "    test_y=test_y,\n",
    "    num_nodes=num_nodes,\n",
    ")\n",
    "embedding = torch.nn.Embedding(data.num_nodes, embed_dim)\n",
    "data.x = embedding.weight\n",
    "data.num_relations = data.num_edge_types\n",
    "data.num_classes = 3\n",
    "print(data)"
   ]
  },
  {
   "cell_type": "code",
   "execution_count": 3,
   "metadata": {},
   "outputs": [
    {
     "data": {
      "text/plain": [
       "0\n",
       "0    456\n",
       "1    429\n",
       "2    115\n",
       "Name: count, dtype: int64"
      ]
     },
     "execution_count": 3,
     "metadata": {},
     "output_type": "execute_result"
    }
   ],
   "source": [
    "pd.DataFrame(y).value_counts()"
   ]
  },
  {
   "cell_type": "markdown",
   "metadata": {},
   "source": [
    "## 2. Training the model"
   ]
  },
  {
   "cell_type": "code",
   "execution_count": 4,
   "metadata": {},
   "outputs": [],
   "source": [
    "class RGAT(torch.nn.Module):\n",
    "    def __init__(self, in_channels, hidden_channels, out_channels,\n",
    "                 num_relations):\n",
    "        super().__init__()\n",
    "        self.conv1 = RGATConv(in_channels, hidden_channels, num_relations, heads=num_heads)\n",
    "        self.conv2 = RGATConv(hidden_channels*num_heads, hidden_channels, num_relations, heads=num_heads)\n",
    "        self.lin = torch.nn.Linear(hidden_channels*num_heads, out_channels)\n",
    "\n",
    "    def forward(self, x, edge_index, edge_type):\n",
    "        x = self.conv1(x, edge_index, edge_type)\n",
    "        x = F.leaky_relu(x)\n",
    "        x = F.dropout(x, p=0.3)\n",
    "        x = self.conv2(x, edge_index, edge_type)\n",
    "        x = F.leaky_relu(x)\n",
    "        x = F.dropout(x, p=0.3)\n",
    "        x = self.lin(x)\n",
    "        return F.log_softmax(x, dim=-1)\n",
    "\n",
    "\n",
    "device = torch.device('cuda' if torch.cuda.is_available() else 'cpu')\n",
    "data = data.to(device)\n",
    "\n",
    "num_classes = 3\n",
    "num_relations = data.num_edge_types\n",
    "model = RGAT(embed_dim, 32, num_classes, num_relations).to(device)\n",
    "optimizer = torch.optim.Adam(model.parameters(), lr=0.01, weight_decay=0.0005)\n",
    "class_weight = torch.Tensor([456/456, 456/429, 456/115]).to(device)"
   ]
  },
  {
   "cell_type": "code",
   "execution_count": 5,
   "metadata": {},
   "outputs": [],
   "source": [
    "def train():\n",
    "    model.train()\n",
    "    optimizer.zero_grad()\n",
    "    out = model(data.x, data.edge_index, data.edge_type)\n",
    "    loss = F.nll_loss(out[data.train_idx], data.train_y, weight=class_weight)\n",
    "    loss.backward()\n",
    "    optimizer.step()\n",
    "    return float(loss)\n",
    "\n",
    "\n",
    "@torch.no_grad()\n",
    "def test():\n",
    "    model.eval()\n",
    "    pred = model(data.x, data.edge_index, data.edge_type).argmax(dim=-1)\n",
    "    train_acc = float((pred[data.train_idx] == data.train_y).float().mean())\n",
    "    test_acc = float((pred[data.test_idx] == data.test_y).float().mean())\n",
    "    return train_acc, test_acc"
   ]
  },
  {
   "cell_type": "code",
   "execution_count": 7,
   "metadata": {},
   "outputs": [
    {
     "name": "stdout",
     "output_type": "stream",
     "text": [
      "Epoch: 05, Loss: 0.0529, Train: 0.9825 Test: 0.4200\n",
      "Epoch: 10, Loss: 0.0364, Train: 0.9862 Test: 0.4650\n",
      "Epoch: 15, Loss: 0.0778, Train: 0.9800 Test: 0.4400\n",
      "Epoch: 20, Loss: 0.0383, Train: 0.9762 Test: 0.4000\n",
      "Epoch: 25, Loss: 0.0353, Train: 0.9925 Test: 0.4250\n",
      "Epoch: 30, Loss: 0.0513, Train: 0.9825 Test: 0.4400\n",
      "Epoch: 35, Loss: 0.0344, Train: 0.9887 Test: 0.4600\n",
      "Epoch: 40, Loss: 0.0328, Train: 0.9837 Test: 0.4300\n",
      "Epoch: 45, Loss: 0.0269, Train: 0.9887 Test: 0.4400\n",
      "Epoch: 50, Loss: 0.0231, Train: 0.9887 Test: 0.4900\n",
      "Epoch: 55, Loss: 0.0231, Train: 0.9925 Test: 0.4300\n",
      "Epoch: 60, Loss: 0.0208, Train: 0.9925 Test: 0.4150\n",
      "Epoch: 65, Loss: 0.0219, Train: 0.9925 Test: 0.4050\n",
      "Epoch: 70, Loss: 0.0297, Train: 0.9937 Test: 0.4150\n",
      "Epoch: 75, Loss: 0.0413, Train: 0.9862 Test: 0.4000\n",
      "Epoch: 80, Loss: 0.0201, Train: 0.9875 Test: 0.4000\n",
      "Epoch: 85, Loss: 0.0308, Train: 0.9850 Test: 0.4250\n",
      "Epoch: 90, Loss: 0.0157, Train: 0.9900 Test: 0.4650\n",
      "Epoch: 95, Loss: 0.0373, Train: 0.9900 Test: 0.4400\n",
      "Epoch: 100, Loss: 0.0174, Train: 0.9950 Test: 0.4450\n",
      "Median time per epoch: 12.9439s\n"
     ]
    }
   ],
   "source": [
    "times = []\n",
    "for epoch in range(1, 101):\n",
    "    start = time.time()\n",
    "    loss = train()\n",
    "    if epoch % 5 ==0:\n",
    "        train_acc, test_acc = test()\n",
    "        print(f'Epoch: {epoch:02d}, Loss: {loss:.4f}, Train: {train_acc:.4f} '\n",
    "            f'Test: {test_acc:.4f}')\n",
    "    times.append(time.time() - start)\n",
    "print(f\"Median time per epoch: {torch.tensor(times).median():.4f}s\")"
   ]
  },
  {
   "cell_type": "code",
   "execution_count": 8,
   "metadata": {},
   "outputs": [
    {
     "name": "stdout",
     "output_type": "stream",
     "text": [
      "ROC AUC score: 0.5110\n"
     ]
    }
   ],
   "source": [
    "from sklearn.metrics import roc_auc_score\n",
    "\n",
    "model.eval()\n",
    "with torch.no_grad():\n",
    "    out = model(data.x, data.edge_index, data.edge_type).cpu()\n",
    "    prob = F.softmax(out, dim=1)\n",
    "auc = roc_auc_score(data.test_y.cpu(), prob[data.test_idx.cpu()], multi_class='ovr')\n",
    "print(f'ROC AUC score: {auc:.4f}')\n",
    "# print(prob.shape)"
   ]
  }
 ],
 "metadata": {
  "kernelspec": {
   "display_name": "neurovasc",
   "language": "python",
   "name": "python3"
  },
  "language_info": {
   "codemirror_mode": {
    "name": "ipython",
    "version": 3
   },
   "file_extension": ".py",
   "mimetype": "text/x-python",
   "name": "python",
   "nbconvert_exporter": "python",
   "pygments_lexer": "ipython3",
   "version": "3.11.9"
  }
 },
 "nbformat": 4,
 "nbformat_minor": 2
}
