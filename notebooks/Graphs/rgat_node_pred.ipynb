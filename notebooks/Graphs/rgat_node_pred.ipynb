{
 "cells": [
  {
   "cell_type": "markdown",
   "metadata": {},
   "source": [
    "# Outcome Prediction with RGAT Model"
   ]
  },
  {
   "cell_type": "markdown",
   "metadata": {},
   "source": [
    "## 1. Load data from \"processed_data\" folder"
   ]
  },
  {
   "cell_type": "code",
   "execution_count": 1,
   "metadata": {},
   "outputs": [],
   "source": [
    "import time\n",
    "import joblib\n",
    "import numpy as np\n",
    "import pandas as pd\n",
    "from sklearn.model_selection import StratifiedKFold\n",
    "\n",
    "import torch\n",
    "import torch.nn.functional as F\n",
    "\n",
    "from torch_geometric.data import Data\n",
    "from torch_geometric.nn import RGATConv\n",
    "from torch_geometric.utils import to_undirected"
   ]
  },
  {
   "cell_type": "code",
   "execution_count": 12,
   "metadata": {},
   "outputs": [
    {
     "name": "stdout",
     "output_type": "stream",
     "text": [
      "Data(edge_index=[2, 221870], edge_type=[221870], train_idx=[800], train_y=[800], test_idx=[200], test_y=[200], num_nodes=33563, x=[33563, 32], num_relations=10, num_classes=3)\n"
     ]
    }
   ],
   "source": [
    "num_patients = 1000\n",
    "inverse_triples = True\n",
    "embed_dim = 32\n",
    "num_heads = 2\n",
    "\n",
    "entity = pd.read_csv(f'processed_data/sphn_entities_{num_patients}_noOutcome.tsv', sep='\\t', index_col=0, header=None)\n",
    "entity = entity.to_dict()[1]\n",
    "\n",
    "indices = []\n",
    "for i in range(num_patients):\n",
    "    idx = f'<http://nvasc.org/synth_patient_{i}>'\n",
    "    indices.append(entity[idx])\n",
    "\n",
    "events = pd.read_csv(f'processed_data/sphn_events_{num_patients}_noOutcome.tsv', sep='\\t', header=None)\n",
    "y = joblib.load(f'../Data Generation/outcomes_{num_patients}_0.joblib')\n",
    "\n",
    "skf = StratifiedKFold(n_splits=5)\n",
    "train_idx, test_idx = next(iter(skf.split(indices, y)))\n",
    "indices = np.asarray(indices)\n",
    "y = np.asarray(y)\n",
    "\n",
    "edge_index = torch.vstack((torch.Tensor(events[0]).long(),torch.Tensor(events[2]).long()))\n",
    "edge_type = torch.Tensor(events[1]).long()\n",
    "train_x = torch.Tensor(indices[train_idx]).long()\n",
    "train_y = torch.Tensor(y[train_idx]).long()\n",
    "test_x = torch.Tensor(indices[test_idx]).long()\n",
    "test_y = torch.Tensor(y[test_idx]).long()\n",
    "num_nodes = len(entity)\n",
    "\n",
    "if inverse_triples == True:\n",
    "    edge_index = to_undirected(edge_index)\n",
    "    edge_type = torch.cat((edge_type, edge_type))\n",
    "\n",
    "data = Data(\n",
    "    edge_index=edge_index,\n",
    "    edge_type=edge_type,\n",
    "    train_idx=train_x,\n",
    "    train_y=train_y,\n",
    "    test_idx=test_x,\n",
    "    test_y=test_y,\n",
    "    num_nodes=num_nodes,\n",
    ")\n",
    "embedding = torch.nn.Embedding(data.num_nodes, embed_dim)\n",
    "data.x = embedding.weight\n",
    "data.num_relations = data.num_edge_types\n",
    "data.num_classes = 3\n",
    "print(data)"
   ]
  },
  {
   "cell_type": "code",
   "execution_count": 5,
   "metadata": {},
   "outputs": [
    {
     "data": {
      "text/plain": [
       "0\n",
       "0    456\n",
       "1    429\n",
       "2    115\n",
       "Name: count, dtype: int64"
      ]
     },
     "execution_count": 5,
     "metadata": {},
     "output_type": "execute_result"
    }
   ],
   "source": [
    "pd.DataFrame(y).value_counts()"
   ]
  },
  {
   "cell_type": "markdown",
   "metadata": {},
   "source": [
    "## 2. Training the model"
   ]
  },
  {
   "cell_type": "code",
   "execution_count": 13,
   "metadata": {},
   "outputs": [],
   "source": [
    "class RGAT(torch.nn.Module):\n",
    "    def __init__(self, in_channels, hidden_channels, out_channels,\n",
    "                 num_relations):\n",
    "        super().__init__()\n",
    "        self.conv1 = RGATConv(in_channels, hidden_channels, num_relations, heads=num_heads)\n",
    "        self.conv2 = RGATConv(hidden_channels*num_heads, hidden_channels, num_relations, heads=num_heads)\n",
    "        self.lin = torch.nn.Linear(hidden_channels*num_heads, out_channels)\n",
    "\n",
    "    def forward(self, x, edge_index, edge_type):\n",
    "        x = self.conv1(x, edge_index, edge_type)\n",
    "        x = F.leaky_relu(x)\n",
    "        x = F.dropout(x, p=0.2)\n",
    "        x = self.conv2(x, edge_index, edge_type)\n",
    "        x = F.leaky_relu(x)\n",
    "        # x = F.dropout(x, p=0.3)\n",
    "        x = self.lin(x)\n",
    "        return F.log_softmax(x, dim=-1)\n",
    "\n",
    "\n",
    "device = torch.device('cuda' if torch.cuda.is_available() else 'cpu')\n",
    "data = data.to(device)\n",
    "\n",
    "num_classes = 3\n",
    "num_relations = data.num_edge_types\n",
    "model = RGAT(embed_dim, 32, num_classes, num_relations).to(device)\n",
    "optimizer = torch.optim.Adam(model.parameters(), lr=0.01, weight_decay=0.0005)\n",
    "# class_weight = torch.Tensor([456/456, 456/429, 456/115]).to(device)"
   ]
  },
  {
   "cell_type": "code",
   "execution_count": 14,
   "metadata": {},
   "outputs": [],
   "source": [
    "def train():\n",
    "    model.train()\n",
    "    optimizer.zero_grad()\n",
    "    out = model(data.x, data.edge_index, data.edge_type)\n",
    "    loss = F.nll_loss(out[data.train_idx], data.train_y, \n",
    "                    #   weight=class_weight,\n",
    "                      )\n",
    "    loss.backward()\n",
    "    optimizer.step()\n",
    "    return float(loss)\n",
    "\n",
    "\n",
    "@torch.no_grad()\n",
    "def test():\n",
    "    model.eval()\n",
    "    pred = model(data.x, data.edge_index, data.edge_type).argmax(dim=-1)\n",
    "    train_acc = float((pred[data.train_idx] == data.train_y).float().mean())\n",
    "    test_acc = float((pred[data.test_idx] == data.test_y).float().mean())\n",
    "    return train_acc, test_acc"
   ]
  },
  {
   "cell_type": "code",
   "execution_count": 15,
   "metadata": {},
   "outputs": [
    {
     "name": "stdout",
     "output_type": "stream",
     "text": [
      "Epoch: 05, Loss: 0.9609, Train: 0.5125 Test: 0.4600\n",
      "Epoch: 10, Loss: 0.8645, Train: 0.6087 Test: 0.4300\n",
      "Epoch: 15, Loss: 0.6538, Train: 0.7113 Test: 0.4450\n",
      "Epoch: 20, Loss: 0.4313, Train: 0.8162 Test: 0.4700\n",
      "Epoch: 25, Loss: 0.2810, Train: 0.8975 Test: 0.4650\n",
      "Epoch: 30, Loss: 0.1960, Train: 0.9262 Test: 0.4300\n",
      "Epoch: 35, Loss: 0.1781, Train: 0.9575 Test: 0.4600\n",
      "Epoch: 40, Loss: 0.1375, Train: 0.9575 Test: 0.4250\n",
      "Epoch: 45, Loss: 0.0988, Train: 0.9650 Test: 0.4600\n",
      "Epoch: 50, Loss: 0.0710, Train: 0.9825 Test: 0.3900\n",
      "Epoch: 55, Loss: 0.0518, Train: 0.9875 Test: 0.4250\n",
      "Epoch: 60, Loss: 0.0383, Train: 0.9937 Test: 0.4400\n",
      "Epoch: 65, Loss: 0.0404, Train: 0.9825 Test: 0.4600\n",
      "Epoch: 70, Loss: 0.0441, Train: 0.9825 Test: 0.4700\n",
      "Epoch: 75, Loss: 0.0388, Train: 0.9925 Test: 0.4350\n",
      "Epoch: 80, Loss: 0.0287, Train: 0.9925 Test: 0.4200\n",
      "Epoch: 85, Loss: 0.0315, Train: 0.9925 Test: 0.4450\n",
      "Epoch: 90, Loss: 0.0241, Train: 0.9950 Test: 0.4350\n",
      "Epoch: 95, Loss: 0.0211, Train: 0.9975 Test: 0.4850\n",
      "Epoch: 100, Loss: 0.0237, Train: 0.9937 Test: 0.4600\n",
      "Median time per epoch: 3.8779s\n"
     ]
    }
   ],
   "source": [
    "times = []\n",
    "for epoch in range(1, 101):\n",
    "    start = time.time()\n",
    "    loss = train()\n",
    "    if epoch % 5 ==0:\n",
    "        train_acc, test_acc = test()\n",
    "        print(f'Epoch: {epoch:02d}, Loss: {loss:.4f}, Train: {train_acc:.4f} '\n",
    "            f'Test: {test_acc:.4f}')\n",
    "    times.append(time.time() - start)\n",
    "print(f\"Median time per epoch: {torch.tensor(times).median():.4f}s\")"
   ]
  },
  {
   "cell_type": "code",
   "execution_count": 16,
   "metadata": {},
   "outputs": [
    {
     "name": "stdout",
     "output_type": "stream",
     "text": [
      "ROC AUC score: 0.5534\n"
     ]
    }
   ],
   "source": [
    "from sklearn.metrics import roc_auc_score\n",
    "\n",
    "model.eval()\n",
    "with torch.no_grad():\n",
    "    out = model(data.x, data.edge_index, data.edge_type).cpu()\n",
    "    prob = F.softmax(out, dim=1)\n",
    "auc = roc_auc_score(data.test_y.cpu(), prob[data.test_idx.cpu()], multi_class='ovr')\n",
    "print(f'ROC AUC score: {auc:.4f}')\n",
    "# print(prob.shape)"
   ]
  }
 ],
 "metadata": {
  "kernelspec": {
   "display_name": "neurovasc",
   "language": "python",
   "name": "python3"
  },
  "language_info": {
   "codemirror_mode": {
    "name": "ipython",
    "version": 3
   },
   "file_extension": ".py",
   "mimetype": "text/x-python",
   "name": "python",
   "nbconvert_exporter": "python",
   "pygments_lexer": "ipython3",
   "version": "3.11.9"
  }
 },
 "nbformat": 4,
 "nbformat_minor": 2
}
