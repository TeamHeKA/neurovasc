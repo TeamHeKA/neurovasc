{
 "cells": [
  {
   "cell_type": "markdown",
   "metadata": {},
   "source": [
    "# Outcome Prediction (Node Classification) with TransE Model + MLP"
   ]
  },
  {
   "cell_type": "code",
   "execution_count": 1,
   "metadata": {},
   "outputs": [],
   "source": [
    "import os\n",
    "import joblib\n",
    "\n",
    "import numpy as np\n",
    "import pandas as pd\n",
    "\n",
    "from pykeen.triples import TriplesFactory\n",
    "from pykeen.predict import predict_target\n",
    "from pykeen.pipeline import pipeline"
   ]
  },
  {
   "cell_type": "markdown",
   "metadata": {},
   "source": [
    "## 1. Load KG and remove outcomes"
   ]
  },
  {
   "cell_type": "code",
   "execution_count": 5,
   "metadata": {},
   "outputs": [
    {
     "name": "stdout",
     "output_type": "stream",
     "text": [
      "<http://nvasc.org/0f87e2fe-4780-40c4-871b-29ec87aac51d> <http://www.w3.org/2000/01/rdf-schema#label> \"ivh\"^^<http://www.w3.org/2001/XMLSchema#string> .\n",
      "\n",
      "                                                   s  \\\n",
      "0  <http://nvasc.org/c0cd82d4-f423-4c27-b03e-da56...   \n",
      "1              _:n9d1f5f1c8da54d4d9b82cb2cee277229b1   \n",
      "2  <http://nvasc.org/57a6fe63-1e8a-40a2-8fa6-779a...   \n",
      "3  <http://nvasc.org/5126b6cd-1d58-4d9c-b6d3-2117...   \n",
      "4  <http://nvasc.org/8d761847-aac8-4171-b7d6-6d70...   \n",
      "\n",
      "                                                   r  \\\n",
      "0       <http://sphn.org/hasSubjectPseudoIdentifier>   \n",
      "1  <http://www.w3.org/1999/02/22-rdf-syntax-ns#type>   \n",
      "2                          <http://sphn.org/hasCode>   \n",
      "3       <http://sphn.org/hasSubjectPseudoIdentifier>   \n",
      "4       <http://www.w3.org/2000/01/rdf-schema#label>   \n",
      "\n",
      "                                                   d  \n",
      "0               <http://nvasc.org/synth_patient_372>  \n",
      "1                         <http://sphn.org/Quantity>  \n",
      "2                    <http://nvasc.org/code_00P6X0Z>  \n",
      "3               <http://nvasc.org/synth_patient_427>  \n",
      "4  \"diabete\"^^<http://www.w3.org/2001/XMLSchema#s...  \n"
     ]
    }
   ],
   "source": [
    "dataset = '../Data Generation/sphn_transductive_1000_0.nt'\n",
    "num_patients = 1000\n",
    "\n",
    "def preprocess(data_name):\n",
    "    s_list, r_list, d_list = [], [], []\n",
    "    \n",
    "    with open(data_name) as f:\n",
    "        s = next(f)\n",
    "        print(s)\n",
    "        for idx, line in enumerate(f):\n",
    "            e = line.strip().split(' ')\n",
    "            s = e[0]\n",
    "            r = e[1]\n",
    "            d = e[2]            \n",
    "            \n",
    "            s_list.append(s)\n",
    "            r_list.append(r)\n",
    "            d_list.append(d)            \n",
    "            \n",
    "    return pd.DataFrame({\n",
    "        's':s_list, \n",
    "        'r':r_list, \n",
    "        'd':d_list,                          \n",
    "        })\n",
    "\n",
    "df = preprocess(dataset)\n",
    "print(df.head())"
   ]
  },
  {
   "cell_type": "markdown",
   "metadata": {},
   "source": [
    "### Remove outcomes from KG"
   ]
  },
  {
   "cell_type": "code",
   "execution_count": 6,
   "metadata": {},
   "outputs": [],
   "source": [
    "outcome = df['d'].str.contains('outcome_0.0|outcome_1.0|outcome_2.0')\n",
    "node_df = df[~outcome]\n",
    "node_df = node_df.reset_index(drop=True)\n",
    "outcome = node_df['s'].str.contains('outcome_0.0|outcome_1.0|outcome_2.0')\n",
    "node_df = node_df[~outcome]\n",
    "node_df = node_df.reset_index(drop=True)"
   ]
  },
  {
   "cell_type": "code",
   "execution_count": 7,
   "metadata": {},
   "outputs": [
    {
     "name": "stdout",
     "output_type": "stream",
     "text": [
      "                                                   s  \\\n",
      "0  <http://nvasc.org/c0cd82d4-f423-4c27-b03e-da56...   \n",
      "1              _:n9d1f5f1c8da54d4d9b82cb2cee277229b1   \n",
      "2  <http://nvasc.org/57a6fe63-1e8a-40a2-8fa6-779a...   \n",
      "3  <http://nvasc.org/5126b6cd-1d58-4d9c-b6d3-2117...   \n",
      "4  <http://nvasc.org/8d761847-aac8-4171-b7d6-6d70...   \n",
      "\n",
      "                                                   r  \\\n",
      "0       <http://sphn.org/hasSubjectPseudoIdentifier>   \n",
      "1  <http://www.w3.org/1999/02/22-rdf-syntax-ns#type>   \n",
      "2                          <http://sphn.org/hasCode>   \n",
      "3       <http://sphn.org/hasSubjectPseudoIdentifier>   \n",
      "4       <http://www.w3.org/2000/01/rdf-schema#label>   \n",
      "\n",
      "                                                   d  \n",
      "0               <http://nvasc.org/synth_patient_372>  \n",
      "1                         <http://sphn.org/Quantity>  \n",
      "2                    <http://nvasc.org/code_00P6X0Z>  \n",
      "3               <http://nvasc.org/synth_patient_427>  \n",
      "4  \"diabete\"^^<http://www.w3.org/2001/XMLSchema#s...  \n"
     ]
    }
   ],
   "source": [
    "print(node_df.head())"
   ]
  },
  {
   "cell_type": "code",
   "execution_count": 9,
   "metadata": {},
   "outputs": [],
   "source": [
    "ent_to_id = {k: v for v, k in enumerate(set(node_df['s']).union(set(node_df['d'])), start=0)}\n",
    "rel_to_id = {k: v for v, k in enumerate(set(node_df['r']), start=0)}\n",
    "\n",
    "patients = [f\"<http://nvasc.org/synth_patient_{i}>\" for i in range(num_patients)]\n",
    "patient_id = []\n",
    "for patient in patients:\n",
    "    patient_id.append(ent_to_id[patient])\n",
    "\n",
    "num_nodes = max(ent_to_id.values()) + 1\n",
    "num_rels = max(rel_to_id.values()) + 1\n",
    "\n",
    "events = node_df.copy()\n",
    "events[\"s\"] = node_df.s.map(ent_to_id)\n",
    "events[\"d\"] = node_df.d.map(ent_to_id)\n",
    "events[\"r\"] = node_df.r.map(rel_to_id)\n",
    "\n",
    "ent_to_id = pd.DataFrame.from_dict(ent_to_id, orient='index')\n",
    "rel_to_id = pd.DataFrame.from_dict(rel_to_id, orient='index')"
   ]
  },
  {
   "cell_type": "markdown",
   "metadata": {},
   "source": [
    "### Save events, entities and relations to 'processed_data' folder"
   ]
  },
  {
   "cell_type": "code",
   "execution_count": 10,
   "metadata": {},
   "outputs": [],
   "source": [
    "path = 'processed_data'\n",
    "if not os.path.exists(path):\n",
    "    os.makedirs(path)\n",
    "\n",
    "events.to_csv(f'{path}/sphn_events_noOutcome.tsv', sep='\\t', index=False, header=None)\n",
    "ent_to_id.to_csv(f'{path}/sphn_entities_noOutcome.tsv', sep='\\t', header=None)\n",
    "rel_to_id.to_csv(f'{path}/sphn_relations_noOutcome.tsv', sep='\\t', header=None)"
   ]
  },
  {
   "cell_type": "markdown",
   "metadata": {},
   "source": [
    "## 2. Training the model"
   ]
  },
  {
   "cell_type": "code",
   "execution_count": 11,
   "metadata": {},
   "outputs": [],
   "source": [
    "tf = TriplesFactory.from_path(f'{path}/sphn_events_noOutcome.tsv', create_inverse_triples=False)"
   ]
  },
  {
   "cell_type": "code",
   "execution_count": 17,
   "metadata": {},
   "outputs": [
    {
     "name": "stderr",
     "output_type": "stream",
     "text": [
      "WARNING:pykeen.pipeline.api:No random seed is specified. Setting to 1756950807.\n",
      "INFO:pykeen.pipeline.api:Using device: gpu\n"
     ]
    },
    {
     "data": {
      "application/vnd.jupyter.widget-view+json": {
       "model_id": "cfcd20dbe6d04a24acf9937dae7dff7d",
       "version_major": 2,
       "version_minor": 0
      },
      "text/plain": [
       "Training epochs on cuda:0:   0%|          | 0/100 [00:00<?, ?epoch/s]"
      ]
     },
     "metadata": {},
     "output_type": "display_data"
    },
    {
     "data": {
      "application/vnd.jupyter.widget-view+json": {
       "model_id": "b37c6d89dbe049bf8f750d54d47bf234",
       "version_major": 2,
       "version_minor": 0
      },
      "text/plain": [
       "Evaluating on cuda:0:   0%|          | 0.00/112k [00:00<?, ?triple/s]"
      ]
     },
     "metadata": {},
     "output_type": "display_data"
    },
    {
     "name": "stderr",
     "output_type": "stream",
     "text": [
      "INFO:pykeen.evaluation.evaluator:Evaluation took 137.41s seconds\n"
     ]
    },
    {
     "data": {
      "image/png": "[encoded data removed]",
      "text/plain": [
       "<Figure size 640x480 with 1 Axes>"
      ]
     },
     "metadata": {},
     "output_type": "display_data"
    }
   ],
   "source": [
    "model_name = 'TransE'\n",
    "embedding_dim = 16\n",
    "epochs = 100\n",
    "\n",
    "result = pipeline(\n",
    "    training=tf,\n",
    "    testing=tf,\n",
    "    model=model_name,\n",
    "    model_kwargs=dict(\n",
    "        embedding_dim=embedding_dim,\n",
    "        loss=\"softplus\",\n",
    "    ),\n",
    "    training_kwargs=dict(\n",
    "        num_epochs=epochs,\n",
    "        use_tqdm_batch=False,\n",
    "    ),\n",
    "    optimizer_kwargs=dict(\n",
    "        lr=0.001,\n",
    "        weight_decay=1e-5,\n",
    "    ),\n",
    "    training_loop='sLCWA',\n",
    "    negative_sampler='basic',\n",
    "    device='gpu',\n",
    "    use_tqdm=True,\n",
    ")\n",
    "\n",
    "#plot loss\n",
    "loss_plot = result.plot_losses()"
   ]
  },
  {
   "cell_type": "code",
   "execution_count": 18,
   "metadata": {},
   "outputs": [
    {
     "name": "stdout",
     "output_type": "stream",
     "text": [
      "Patient embedding size: torch.Size([1000, 16])\n"
     ]
    }
   ],
   "source": [
    "import torch\n",
    "import torch.nn as nn\n",
    "import torch.nn.functional as F\n",
    "\n",
    "device = torch.device('cuda' if torch.cuda.is_available() else 'cpu')\n",
    "\n",
    "model = result.model\n",
    "entity_embedding = model.entity_representations[0](indices=None).detach().cpu()\n",
    "patient_embedding = entity_embedding[patient_id]\n",
    "print(f'Patient embedding size: {patient_embedding.shape}')\n",
    "\n",
    "patient_embedding = patient_embedding.to(device)\n",
    "y = joblib.load('../Data Generation/outcomes_1000_0.joblib')\n",
    "y = torch.Tensor(y).long().to(device)\n",
    "\n",
    "train_x, train_y = patient_embedding[:int(num_patients*0.8)], y[:int(num_patients*0.8)]\n",
    "val_x, val_y = patient_embedding[int(num_patients*0.8):int(num_patients*0.9)], y[int(num_patients*0.8):int(num_patients*0.9)]\n",
    "test_x, test_y = patient_embedding[int(num_patients*0.9):], y[int(num_patients*0.9):]"
   ]
  },
  {
   "cell_type": "code",
   "execution_count": 19,
   "metadata": {},
   "outputs": [
    {
     "name": "stdout",
     "output_type": "stream",
     "text": [
      "Epoch: 01, Loss: 1.0449, Val_Loss: 1.0272, Train: 0.4512, Val: 0.4500 Test: 0.5000\n",
      "Epoch: 02, Loss: 1.0310, Val_Loss: 1.0124, Train: 0.4512, Val: 0.4500 Test: 0.5000\n",
      "Epoch: 03, Loss: 1.0187, Val_Loss: 0.9994, Train: 0.4512, Val: 0.4500 Test: 0.5000\n",
      "Epoch: 04, Loss: 1.0078, Val_Loss: 0.9881, Train: 0.4512, Val: 0.4500 Test: 0.5000\n",
      "Epoch: 05, Loss: 0.9985, Val_Loss: 0.9780, Train: 0.4512, Val: 0.4500 Test: 0.5000\n",
      "Epoch: 06, Loss: 0.9903, Val_Loss: 0.9691, Train: 0.4512, Val: 0.4500 Test: 0.5000\n",
      "Epoch: 07, Loss: 0.9832, Val_Loss: 0.9617, Train: 0.4612, Val: 0.4500 Test: 0.4900\n",
      "Epoch: 08, Loss: 0.9777, Val_Loss: 0.9563, Train: 0.4612, Val: 0.4500 Test: 0.4900\n",
      "Epoch: 09, Loss: 0.9740, Val_Loss: 0.9528, Train: 0.4625, Val: 0.4500 Test: 0.5000\n",
      "Epoch: 10, Loss: 0.9719, Val_Loss: 0.9510, Train: 0.4625, Val: 0.4500 Test: 0.5000\n",
      "Epoch: 11, Loss: 0.9713, Val_Loss: 0.9506, Train: 0.4688, Val: 0.4400 Test: 0.4700\n",
      "Epoch: 12, Loss: 0.9717, Val_Loss: 0.9509, Train: 0.4712, Val: 0.4300 Test: 0.4500\n",
      "Epoch: 13, Loss: 0.9724, Val_Loss: 0.9514, Train: 0.4712, Val: 0.4200 Test: 0.4500\n",
      "Epoch: 14, Loss: 0.9731, Val_Loss: 0.9518, Train: 0.4775, Val: 0.4200 Test: 0.4500\n",
      "Epoch: 15, Loss: 0.9733, Val_Loss: 0.9521, Train: 0.4787, Val: 0.4200 Test: 0.4500\n",
      "Epoch: 16, Loss: 0.9730, Val_Loss: 0.9521, Train: 0.4775, Val: 0.4200 Test: 0.4500\n",
      "Epoch: 17, Loss: 0.9724, Val_Loss: 0.9521, Train: 0.4737, Val: 0.4200 Test: 0.4500\n",
      "Epoch: 18, Loss: 0.9713, Val_Loss: 0.9519, Train: 0.4750, Val: 0.4200 Test: 0.4500\n",
      "Epoch: 19, Loss: 0.9701, Val_Loss: 0.9518, Train: 0.4812, Val: 0.4300 Test: 0.4400\n",
      "Epoch: 20, Loss: 0.9688, Val_Loss: 0.9519, Train: 0.4800, Val: 0.4300 Test: 0.4400\n",
      "Early stopping...\n",
      "Median time per epoch: 0.0051s\n"
     ]
    }
   ],
   "source": [
    "# MLP classifier\n",
    "class NeuralNetwork(nn.Module):\n",
    "    def __init__(self):\n",
    "        super().__init__()\n",
    "        self.linear_relu_stack = nn.Sequential(\n",
    "            nn.Linear(16, 16),\n",
    "            nn.ReLU(),\n",
    "            nn.Linear(16, 3),\n",
    "        )\n",
    "\n",
    "    def forward(self, x):\n",
    "        x = self.linear_relu_stack(x)\n",
    "        return F.log_softmax(x, dim=1)\n",
    "    \n",
    "model = NeuralNetwork().to(device)\n",
    "optimizer = torch.optim.Adam(model.parameters(), lr=0.01, weight_decay=0.0005)\n",
    "\n",
    "\n",
    "def train():\n",
    "    model.train()\n",
    "    optimizer.zero_grad()\n",
    "    out = model(train_x)\n",
    "    loss = F.nll_loss(out, train_y)\n",
    "    loss.backward()\n",
    "    optimizer.step()\n",
    "    # Validation\n",
    "    model.eval()  # Set model to evaluation mode\n",
    "    with torch.no_grad():  # Disable gradient calculation for validation\n",
    "        val_output = model(val_x)\n",
    "        val_loss = F.nll_loss(val_output, val_y)\n",
    "    return float(loss), float(val_loss)\n",
    "\n",
    "@torch.no_grad()\n",
    "def test():\n",
    "    model.eval()\n",
    "    pred = model(patient_embedding).argmax(dim=-1)\n",
    "    train_acc = float((pred[:int(num_patients*0.8)] == train_y).float().mean())\n",
    "    val_acc = float((pred[int(num_patients*0.8):int(num_patients*0.9)] == val_y).float().mean())\n",
    "    test_acc = float((pred[int(num_patients*0.9):] == test_y).float().mean())\n",
    "    return train_acc, val_acc, test_acc\n",
    "\n",
    "import time\n",
    "\n",
    "times = []\n",
    "best_loss = float('inf')\n",
    "\n",
    "for epoch in range(1, 1001):\n",
    "    start = time.time()\n",
    "    loss, val_loss = train()\n",
    "    # Early stopping\n",
    "    if val_loss < best_loss:\n",
    "        best_loss = val_loss\n",
    "        patience = 10  # Reset patience counter\n",
    "    else:\n",
    "        patience -= 1\n",
    "        if patience == 0:\n",
    "            print(\"Early stopping...\")\n",
    "            break\n",
    "    train_acc, val_acc, test_acc = test()\n",
    "    print(f'Epoch: {epoch:02d}, Loss: {loss:.4f}, Val_Loss: {val_loss:.4f}, Train: {train_acc:.4f}, Val: {val_acc:.4f} '\n",
    "        f'Test: {test_acc:.4f}')\n",
    "        \n",
    "    times.append(time.time() - start)\n",
    "print(f\"Median time per epoch: {torch.tensor(times).median():.4f}s\")"
   ]
  },
  {
   "cell_type": "code",
   "execution_count": 41,
   "metadata": {},
   "outputs": [
    {
     "name": "stdout",
     "output_type": "stream",
     "text": [
      "ROC AUC score: 0.5244\n"
     ]
    }
   ],
   "source": [
    "from sklearn.metrics import roc_auc_score\n",
    "\n",
    "model.eval()\n",
    "with torch.no_grad():\n",
    "    out = model(patient_embedding).cpu()\n",
    "    prob = F.softmax(out, dim=1)\n",
    "auc = roc_auc_score(test_y.cpu(), prob[int(num_patients*0.9):], multi_class='ovr')\n",
    "print(f'ROC AUC score: {auc:.4f}')"
   ]
  }
 ],
 "metadata": {
  "kernelspec": {
   "display_name": "neurovasc",
   "language": "python",
   "name": "python3"
  },
  "language_info": {
   "codemirror_mode": {
    "name": "ipython",
    "version": 3
   },
   "file_extension": ".py",
   "mimetype": "text/x-python",
   "name": "python",
   "nbconvert_exporter": "python",
   "pygments_lexer": "ipython3",
   "version": "3.11.9"
  }
 },
 "nbformat": 4,
 "nbformat_minor": 2
}
