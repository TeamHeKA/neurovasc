{
 "cells": [
  {
   "cell_type": "markdown",
   "metadata": {},
   "source": [
    "# SPHN KG Data Preprocessing for Node Classification"
   ]
  },
  {
   "cell_type": "code",
   "execution_count": 1,
   "metadata": {},
   "outputs": [],
   "source": [
    "import os\n",
    "from datetime import datetime\n",
    "\n",
    "import numpy as np\n",
    "import pandas as pd"
   ]
  },
  {
   "cell_type": "markdown",
   "metadata": {},
   "source": [
    "## 1. Load KG and remove outcomes"
   ]
  },
  {
   "cell_type": "code",
   "execution_count": 2,
   "metadata": {},
   "outputs": [
    {
     "data": {
      "text/html": [
       "<div>\n",
       "<style scoped>\n",
       "    .dataframe tbody tr th:only-of-type {\n",
       "        vertical-align: middle;\n",
       "    }\n",
       "\n",
       "    .dataframe tbody tr th {\n",
       "        vertical-align: top;\n",
       "    }\n",
       "\n",
       "    .dataframe thead th {\n",
       "        text-align: right;\n",
       "    }\n",
       "</style>\n",
       "<table border=\"1\" class=\"dataframe\">\n",
       "  <thead>\n",
       "    <tr style=\"text-align: right;\">\n",
       "      <th></th>\n",
       "      <th>s</th>\n",
       "      <th>r</th>\n",
       "      <th>d</th>\n",
       "    </tr>\n",
       "  </thead>\n",
       "  <tbody>\n",
       "    <tr>\n",
       "      <th>0</th>\n",
       "      <td>&lt;http://nvasc.org/age_304&gt;</td>\n",
       "      <td>&lt;http://sphn.org/hasDeterminationDateTime&gt;</td>\n",
       "      <td>2022-07-27T20:12:00^^&lt;http://www.w3.org/2001/X...</td>\n",
       "    </tr>\n",
       "    <tr>\n",
       "      <th>1</th>\n",
       "      <td>&lt;http://nvasc.org/114de294-412d-43a9-8745-e611...</td>\n",
       "      <td>&lt;http://www.w3.org/2000/01/rdf-schema#label&gt;</td>\n",
       "      <td>gcs</td>\n",
       "    </tr>\n",
       "    <tr>\n",
       "      <th>2</th>\n",
       "      <td>&lt;http://nvasc.org/d2740e1b-05fb-4d1b-8e84-2375...</td>\n",
       "      <td>&lt;http://sphn.org/hasSubjectPseudoIdentifier&gt;</td>\n",
       "      <td>&lt;http://nvasc.org/synth_patient_286&gt;</td>\n",
       "    </tr>\n",
       "    <tr>\n",
       "      <th>3</th>\n",
       "      <td>&lt;http://nvasc.org/efa01174-3617-43a6-8d1d-22df...</td>\n",
       "      <td>&lt;http://www.w3.org/1999/02/22-rdf-syntax-ns#type&gt;</td>\n",
       "      <td>&lt;http://sphn.org/Diagnosis&gt;</td>\n",
       "    </tr>\n",
       "    <tr>\n",
       "      <th>4</th>\n",
       "      <td>&lt;http://nvasc.org/85949f5d-21f5-4841-83c5-638e...</td>\n",
       "      <td>&lt;http://www.w3.org/2000/01/rdf-schema#label&gt;</td>\n",
       "      <td>gcs</td>\n",
       "    </tr>\n",
       "    <tr>\n",
       "      <th>...</th>\n",
       "      <td>...</td>\n",
       "      <td>...</td>\n",
       "      <td>...</td>\n",
       "    </tr>\n",
       "    <tr>\n",
       "      <th>104595</th>\n",
       "      <td>&lt;http://nvasc.org/552a9f45-43d6-4ca3-9954-242d...</td>\n",
       "      <td>&lt;http://www.w3.org/2000/01/rdf-schema#label&gt;</td>\n",
       "      <td>ttt^^&lt;http://www.w3.org/2001/XMLSchema#string&gt;</td>\n",
       "    </tr>\n",
       "    <tr>\n",
       "      <th>104596</th>\n",
       "      <td>&lt;http://nvasc.org/6431a192-0c80-4573-8af3-ff22...</td>\n",
       "      <td>&lt;http://www.w3.org/1999/02/22-rdf-syntax-ns#type&gt;</td>\n",
       "      <td>&lt;http://sphn.org/Procedure&gt;</td>\n",
       "    </tr>\n",
       "    <tr>\n",
       "      <th>104597</th>\n",
       "      <td>&lt;http://nvasc.org/f4bf5497-6ccc-412b-9fc7-4463...</td>\n",
       "      <td>&lt;http://www.w3.org/2000/01/rdf-schema#label&gt;</td>\n",
       "      <td>etOH^^&lt;http://www.w3.org/2001/XMLSchema#string&gt;</td>\n",
       "    </tr>\n",
       "    <tr>\n",
       "      <th>104598</th>\n",
       "      <td>&lt;http://nvasc.org/d582fb82-4498-4262-a4fc-2133...</td>\n",
       "      <td>&lt;http://sphn.org/hasCode&gt;</td>\n",
       "      <td>&lt;http://nvasc.org/code_vasospasme_0.0&gt;</td>\n",
       "    </tr>\n",
       "    <tr>\n",
       "      <th>104599</th>\n",
       "      <td>&lt;http://nvasc.org/175ed225-5ef8-40da-89e7-a431...</td>\n",
       "      <td>&lt;http://sphn.org/hasCode&gt;</td>\n",
       "      <td>&lt;http://nvasc.org/code_diabete_1.0&gt;</td>\n",
       "    </tr>\n",
       "  </tbody>\n",
       "</table>\n",
       "<p>104600 rows × 3 columns</p>\n",
       "</div>"
      ],
      "text/plain": [
       "                                                        s  \\\n",
       "0                              <http://nvasc.org/age_304>   \n",
       "1       <http://nvasc.org/114de294-412d-43a9-8745-e611...   \n",
       "2       <http://nvasc.org/d2740e1b-05fb-4d1b-8e84-2375...   \n",
       "3       <http://nvasc.org/efa01174-3617-43a6-8d1d-22df...   \n",
       "4       <http://nvasc.org/85949f5d-21f5-4841-83c5-638e...   \n",
       "...                                                   ...   \n",
       "104595  <http://nvasc.org/552a9f45-43d6-4ca3-9954-242d...   \n",
       "104596  <http://nvasc.org/6431a192-0c80-4573-8af3-ff22...   \n",
       "104597  <http://nvasc.org/f4bf5497-6ccc-412b-9fc7-4463...   \n",
       "104598  <http://nvasc.org/d582fb82-4498-4262-a4fc-2133...   \n",
       "104599  <http://nvasc.org/175ed225-5ef8-40da-89e7-a431...   \n",
       "\n",
       "                                                        r  \\\n",
       "0              <http://sphn.org/hasDeterminationDateTime>   \n",
       "1            <http://www.w3.org/2000/01/rdf-schema#label>   \n",
       "2            <http://sphn.org/hasSubjectPseudoIdentifier>   \n",
       "3       <http://www.w3.org/1999/02/22-rdf-syntax-ns#type>   \n",
       "4            <http://www.w3.org/2000/01/rdf-schema#label>   \n",
       "...                                                   ...   \n",
       "104595       <http://www.w3.org/2000/01/rdf-schema#label>   \n",
       "104596  <http://www.w3.org/1999/02/22-rdf-syntax-ns#type>   \n",
       "104597       <http://www.w3.org/2000/01/rdf-schema#label>   \n",
       "104598                          <http://sphn.org/hasCode>   \n",
       "104599                          <http://sphn.org/hasCode>   \n",
       "\n",
       "                                                        d  \n",
       "0       2022-07-27T20:12:00^^<http://www.w3.org/2001/X...  \n",
       "1                                                     gcs  \n",
       "2                    <http://nvasc.org/synth_patient_286>  \n",
       "3                             <http://sphn.org/Diagnosis>  \n",
       "4                                                     gcs  \n",
       "...                                                   ...  \n",
       "104595     ttt^^<http://www.w3.org/2001/XMLSchema#string>  \n",
       "104596                        <http://sphn.org/Procedure>  \n",
       "104597    etOH^^<http://www.w3.org/2001/XMLSchema#string>  \n",
       "104598             <http://nvasc.org/code_vasospasme_0.0>  \n",
       "104599                <http://nvasc.org/code_diabete_1.0>  \n",
       "\n",
       "[104600 rows x 3 columns]"
      ]
     },
     "execution_count": 2,
     "metadata": {},
     "output_type": "execute_result"
    }
   ],
   "source": [
    "num_patients = 1000\n",
    "df = pd.read_csv(f\"../Data Generation/sphn_transductive_{num_patients}_0.nt\", sep=\" \", header=None)\n",
    "df.drop(columns=df.columns[-1], axis=1, inplace=True)\n",
    "df.columns=['s', 'r', 'd']\n",
    "df"
   ]
  },
  {
   "cell_type": "markdown",
   "metadata": {},
   "source": [
    "### Remove outcomes from KG"
   ]
  },
  {
   "cell_type": "code",
   "execution_count": 3,
   "metadata": {},
   "outputs": [],
   "source": [
    "outcome = df['d'].str.contains('outcome_0.0|outcome_1.0|outcome_2.0')\n",
    "node_df = df[~outcome]\n",
    "node_df = node_df.reset_index(drop=True)\n",
    "outcome = node_df['s'].str.contains('outcome_0.0|outcome_1.0|outcome_2.0')\n",
    "node_df = node_df[~outcome]\n",
    "node_df = node_df.reset_index(drop=True)\n",
    "\n",
    "ent_to_id = {k: v for v, k in enumerate(set(node_df['s']).union(set(node_df['d'])), start=0)}\n",
    "rel_to_id = {k: v for v, k in enumerate(set(node_df['r']), start=0)}\n",
    "\n",
    "patients = [f\"<http://nvasc.org/synth_patient_{i}>\" for i in range(num_patients)]\n",
    "patient_id = []\n",
    "for patient in patients:\n",
    "    patient_id.append(ent_to_id[patient])\n",
    "\n",
    "num_nodes = max(ent_to_id.values()) + 1\n",
    "num_rels = max(rel_to_id.values()) + 1\n",
    "\n",
    "events = node_df.copy()\n",
    "events[\"s\"] = node_df.s.map(ent_to_id)\n",
    "events[\"d\"] = node_df.d.map(ent_to_id)\n",
    "events[\"r\"] = node_df.r.map(rel_to_id)\n",
    "\n",
    "ent_to_id = pd.DataFrame.from_dict(ent_to_id, orient='index')\n",
    "rel_to_id = pd.DataFrame.from_dict(rel_to_id, orient='index')"
   ]
  },
  {
   "cell_type": "markdown",
   "metadata": {},
   "source": [
    "### Save events, entities and relations to 'processed_data'"
   ]
  },
  {
   "cell_type": "code",
   "execution_count": 4,
   "metadata": {},
   "outputs": [],
   "source": [
    "path = 'processed_data'\n",
    "if not os.path.exists(path):\n",
    "    os.makedirs(path)\n",
    "\n",
    "events.to_csv(f'{path}/sphn_events_{num_patients}_noOutcome.tsv', sep='\\t', index=False, header=None)\n",
    "ent_to_id.to_csv(f'{path}/sphn_entities_{num_patients}_noOutcome.tsv', sep='\\t', header=None)\n",
    "rel_to_id.to_csv(f'{path}/sphn_relations_{num_patients}_noOutcome.tsv', sep='\\t', header=None)"
   ]
  },
  {
   "cell_type": "markdown",
   "metadata": {},
   "source": [
    "### Get numerical literals (including timestamps) and save to 'processed_data'"
   ]
  },
  {
   "cell_type": "code",
   "execution_count": 5,
   "metadata": {},
   "outputs": [
    {
     "name": "stdout",
     "output_type": "stream",
     "text": [
      "[[0.        ]\n",
      " [0.        ]\n",
      " [0.27736318]\n",
      " ...\n",
      " [0.        ]\n",
      " [0.        ]\n",
      " [0.        ]]\n"
     ]
    }
   ],
   "source": [
    "ent_to_id = pd.read_csv(f'{path}/sphn_entities_{num_patients}_noOutcome.tsv', sep='\\t', header=None)\n",
    "entity = pd.DataFrame({'id': ent_to_id[1].values, 'ent': ent_to_id[0].values})\n",
    "\n",
    "# Get numeric values\n",
    "numeric = node_df[node_df['r'] == '<http://sphn.org/hasValue>'].copy()\n",
    "\n",
    "\n",
    "times = node_df[node_df['r'].str.contains('<http://sphn.org/hasStartDateTime>|<http://sphn.org/hasDeterminationDateTime>')].copy()\n",
    "time = times.d.str.removesuffix('^^<http://www.w3.org/2001/XMLSchema#dateTime>')\n",
    "for i, t in time.items():\n",
    "    td = datetime.strptime(t, '%Y-%m-%dT%H:%M:%S') - datetime(2020,1,1)\n",
    "    times.d.loc[i] = td.total_seconds()\n",
    "\n",
    "from sklearn.preprocessing import QuantileTransformer, PowerTransformer\n",
    "qt = QuantileTransformer(n_quantiles=10, random_state=0)\n",
    "scaled_ages = qt.fit_transform(numeric.d.values.reshape(-1,1))\n",
    "numeric['age'] = list(scaled_ages.reshape(-1,))\n",
    "\n",
    "numeric_embedding = np.zeros((len(entity), 1))\n",
    "for i, v in numeric.d.items():\n",
    "    idx = entity[entity.ent == v].id\n",
    "    numeric_embedding[idx] = numeric.age.loc[i]\n",
    "\n",
    "# pt = PowerTransformer()\n",
    "# scaled_times = pt.fit_transform(np.asarray(secs).reshape(-1,1))\n",
    "qt = QuantileTransformer(n_quantiles=10, random_state=0)\n",
    "scaled_times = qt.fit_transform(times.d.values.reshape(-1,1))\n",
    "times['sec'] = list(scaled_times.reshape(-1,))\n",
    "for i, v in times.d.items():\n",
    "    idx = entity[entity.ent == v].id\n",
    "    numeric_embedding[idx] = times.sec.loc[i]\n",
    "\n",
    "print(numeric_embedding)\n",
    "np.save(f\"processed_data/sphn_numeric_{num_patients}.npy\", numeric_embedding)"
   ]
  }
 ],
 "metadata": {
  "kernelspec": {
   "display_name": "neurovasc",
   "language": "python",
   "name": "python3"
  },
  "language_info": {
   "codemirror_mode": {
    "name": "ipython",
    "version": 3
   },
   "file_extension": ".py",
   "mimetype": "text/x-python",
   "name": "python",
   "nbconvert_exporter": "python",
   "pygments_lexer": "ipython3",
   "version": "3.11.9"
  }
 },
 "nbformat": 4,
 "nbformat_minor": 2
}
