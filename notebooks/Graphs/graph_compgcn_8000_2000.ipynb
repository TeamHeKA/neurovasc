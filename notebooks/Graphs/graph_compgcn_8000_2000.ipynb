{
 "cells": [
  {
   "cell_type": "markdown",
   "metadata": {},
   "source": [
    "# CompGCN Graph Model Training - 800 - 200"
   ]
  },
  {
   "cell_type": "code",
   "execution_count": 2,
   "metadata": {},
   "outputs": [],
   "source": [
    "#!pip install pykeen\n",
    "#!pip install seaborn"
   ]
  },
  {
   "cell_type": "code",
   "execution_count": 12,
   "metadata": {},
   "outputs": [],
   "source": [
    "import numpy as np\n",
    "import pandas as pd\n",
    "from pykeen.triples import TriplesFactory\n",
    "from pykeen.pipeline import pipeline\n",
    "from pykeen.predict import predict_target\n",
    "import joblib\n",
    "from sklearn.manifold import TSNE\n",
    "from itertools import cycle\n",
    "from sklearn.metrics import RocCurveDisplay, auc, roc_curve, accuracy_score, confusion_matrix, ConfusionMatrixDisplay, precision_score, recall_score, f1_score, roc_auc_score, classification_report\n",
    "from sklearn.preprocessing import LabelBinarizer\n",
    "from sklearn.decomposition import PCA\n",
    "import matplotlib.pyplot as plt\n",
    "from scipy.stats import mode\n",
    "from scipy.special import softmax\n",
    "from tqdm.notebook import tqdm\n",
    "from datetime import datetime"
   ]
  },
  {
   "cell_type": "code",
   "execution_count": 13,
   "metadata": {},
   "outputs": [
    {
     "name": "stdout",
     "output_type": "stream",
     "text": [
      "MPS device not found.\n"
     ]
    }
   ],
   "source": [
    "import torch\n",
    "if torch.backends.mps.is_available():\n",
    "    mps_device = torch.device(\"mps\")\n",
    "    x = torch.ones(1, device=mps_device)\n",
    "    print (x)\n",
    "    # output expected:\n",
    "    # tensor([1.], device='mps:0')\n",
    "\n",
    "\n",
    "else:\n",
    "    print (\"MPS device not found.\")"
   ]
  },
  {
   "cell_type": "code",
   "execution_count": 14,
   "metadata": {},
   "outputs": [],
   "source": [
    "size_train = 8000\n",
    "y = joblib.load(\"../Data Generation/outcomes_8000_2000.joblib\")\n",
    "y_train = y[:size_train]\n",
    "y_test = y[size_train:]\n",
    "size_test = len(y_test)"
   ]
  },
  {
   "cell_type": "code",
   "execution_count": 15,
   "metadata": {},
   "outputs": [
    {
     "data": {
      "text/plain": [
       "0\n",
       "0    4414\n",
       "1    4333\n",
       "2    1253\n",
       "Name: count, dtype: int64"
      ]
     },
     "execution_count": 15,
     "metadata": {},
     "output_type": "execute_result"
    }
   ],
   "source": [
    "pd.DataFrame(y).value_counts()"
   ]
  },
  {
   "cell_type": "code",
   "execution_count": 16,
   "metadata": {},
   "outputs": [
    {
     "data": {
      "text/plain": [
       "0\n",
       "0    3526\n",
       "1    3476\n",
       "2     998\n",
       "Name: count, dtype: int64"
      ]
     },
     "execution_count": 16,
     "metadata": {},
     "output_type": "execute_result"
    }
   ],
   "source": [
    "pd.DataFrame(y_train).value_counts()"
   ]
  },
  {
   "cell_type": "code",
   "execution_count": 17,
   "metadata": {},
   "outputs": [
    {
     "data": {
      "text/plain": [
       "0\n",
       "0    888\n",
       "1    857\n",
       "2    255\n",
       "Name: count, dtype: int64"
      ]
     },
     "execution_count": 17,
     "metadata": {},
     "output_type": "execute_result"
    }
   ],
   "source": [
    "pd.DataFrame(y_test).value_counts()"
   ]
  },
  {
   "cell_type": "code",
   "execution_count": 18,
   "metadata": {},
   "outputs": [
    {
     "data": {
      "text/html": [
       "<div>\n",
       "<style scoped>\n",
       "    .dataframe tbody tr th:only-of-type {\n",
       "        vertical-align: middle;\n",
       "    }\n",
       "\n",
       "    .dataframe tbody tr th {\n",
       "        vertical-align: top;\n",
       "    }\n",
       "\n",
       "    .dataframe thead th {\n",
       "        text-align: right;\n",
       "    }\n",
       "</style>\n",
       "<table border=\"1\" class=\"dataframe\">\n",
       "  <thead>\n",
       "    <tr style=\"text-align: right;\">\n",
       "      <th></th>\n",
       "      <th>&lt;http://nvasc.org/701dfec7-6cff-4ac4-9a35-97a4a2b122e9&gt;</th>\n",
       "      <th>&lt;http://sphn.org/hasCode&gt;</th>\n",
       "      <th>&lt;http://nvasc.org/code_0BH17EZ&gt;</th>\n",
       "    </tr>\n",
       "  </thead>\n",
       "  <tbody>\n",
       "    <tr>\n",
       "      <th>0</th>\n",
       "      <td>&lt;http://nvasc.org/dc5c8a38-19f7-408c-8c72-2cf7...</td>\n",
       "      <td>&lt;http://www.w3.org/1999/02/22-rdf-syntax-ns#type&gt;</td>\n",
       "      <td>&lt;http://sphn.org/Diagnosis&gt;</td>\n",
       "    </tr>\n",
       "    <tr>\n",
       "      <th>1</th>\n",
       "      <td>&lt;http://nvasc.org/synth_patient_3910&gt;</td>\n",
       "      <td>&lt;http://nvasc.org/hasOutcome&gt;</td>\n",
       "      <td>&lt;http://nvasc.org/outcome_0.0&gt;</td>\n",
       "    </tr>\n",
       "    <tr>\n",
       "      <th>2</th>\n",
       "      <td>&lt;http://nvasc.org/07cd2286-b13a-4863-b2df-087e...</td>\n",
       "      <td>&lt;http://www.w3.org/1999/02/22-rdf-syntax-ns#type&gt;</td>\n",
       "      <td>&lt;http://sphn.org/Diagnosis&gt;</td>\n",
       "    </tr>\n",
       "    <tr>\n",
       "      <th>3</th>\n",
       "      <td>&lt;http://nvasc.org/1c759c29-9aa2-4abc-8b97-cf34...</td>\n",
       "      <td>&lt;http://www.w3.org/2000/01/rdf-schema#label&gt;</td>\n",
       "      <td>paracetamol^^&lt;http://www.w3.org/2001/XMLSchema...</td>\n",
       "    </tr>\n",
       "    <tr>\n",
       "      <th>4</th>\n",
       "      <td>&lt;http://nvasc.org/175d9e2b-6ad3-4a62-ba76-83be...</td>\n",
       "      <td>&lt;http://www.w3.org/1999/02/22-rdf-syntax-ns#type&gt;</td>\n",
       "      <td>&lt;http://sphn.org/Diagnosis&gt;</td>\n",
       "    </tr>\n",
       "    <tr>\n",
       "      <th>...</th>\n",
       "      <td>...</td>\n",
       "      <td>...</td>\n",
       "      <td>...</td>\n",
       "    </tr>\n",
       "    <tr>\n",
       "      <th>1132569</th>\n",
       "      <td>&lt;http://nvasc.org/66571b9a-d99f-432c-a329-0ae8...</td>\n",
       "      <td>&lt;http://www.w3.org/2000/01/rdf-schema#label&gt;</td>\n",
       "      <td>tabagisme^^&lt;http://www.w3.org/2001/XMLSchema#s...</td>\n",
       "    </tr>\n",
       "    <tr>\n",
       "      <th>1132570</th>\n",
       "      <td>&lt;http://nvasc.org/1550726e-0c56-41c4-85c8-9eea...</td>\n",
       "      <td>&lt;http://sphn.org/hasSubjectPseudoIdentifier&gt;</td>\n",
       "      <td>&lt;http://nvasc.org/synth_patient_1527&gt;</td>\n",
       "    </tr>\n",
       "    <tr>\n",
       "      <th>1132571</th>\n",
       "      <td>&lt;http://nvasc.org/ebed5629-8932-484c-adce-7d33...</td>\n",
       "      <td>&lt;http://www.w3.org/2000/01/rdf-schema#label&gt;</td>\n",
       "      <td>ica^^&lt;http://www.w3.org/2001/XMLSchema#string&gt;</td>\n",
       "    </tr>\n",
       "    <tr>\n",
       "      <th>1132572</th>\n",
       "      <td>&lt;http://nvasc.org/46c72eac-299c-4f8a-b6d3-b594...</td>\n",
       "      <td>&lt;http://www.w3.org/1999/02/22-rdf-syntax-ns#type&gt;</td>\n",
       "      <td>&lt;http://sphn.org/Diagnosis&gt;</td>\n",
       "    </tr>\n",
       "    <tr>\n",
       "      <th>1132573</th>\n",
       "      <td>&lt;http://nvasc.org/c673c26b-8219-441c-9edf-4c50...</td>\n",
       "      <td>&lt;http://www.w3.org/1999/02/22-rdf-syntax-ns#type&gt;</td>\n",
       "      <td>&lt;http://sphn.org/Diagnosis&gt;</td>\n",
       "    </tr>\n",
       "  </tbody>\n",
       "</table>\n",
       "<p>1132574 rows × 3 columns</p>\n",
       "</div>"
      ],
      "text/plain": [
       "        <http://nvasc.org/701dfec7-6cff-4ac4-9a35-97a4a2b122e9>  \\\n",
       "0        <http://nvasc.org/dc5c8a38-19f7-408c-8c72-2cf7...        \n",
       "1                    <http://nvasc.org/synth_patient_3910>        \n",
       "2        <http://nvasc.org/07cd2286-b13a-4863-b2df-087e...        \n",
       "3        <http://nvasc.org/1c759c29-9aa2-4abc-8b97-cf34...        \n",
       "4        <http://nvasc.org/175d9e2b-6ad3-4a62-ba76-83be...        \n",
       "...                                                    ...        \n",
       "1132569  <http://nvasc.org/66571b9a-d99f-432c-a329-0ae8...        \n",
       "1132570  <http://nvasc.org/1550726e-0c56-41c4-85c8-9eea...        \n",
       "1132571  <http://nvasc.org/ebed5629-8932-484c-adce-7d33...        \n",
       "1132572  <http://nvasc.org/46c72eac-299c-4f8a-b6d3-b594...        \n",
       "1132573  <http://nvasc.org/c673c26b-8219-441c-9edf-4c50...        \n",
       "\n",
       "                                 <http://sphn.org/hasCode>  \\\n",
       "0        <http://www.w3.org/1999/02/22-rdf-syntax-ns#type>   \n",
       "1                            <http://nvasc.org/hasOutcome>   \n",
       "2        <http://www.w3.org/1999/02/22-rdf-syntax-ns#type>   \n",
       "3             <http://www.w3.org/2000/01/rdf-schema#label>   \n",
       "4        <http://www.w3.org/1999/02/22-rdf-syntax-ns#type>   \n",
       "...                                                    ...   \n",
       "1132569       <http://www.w3.org/2000/01/rdf-schema#label>   \n",
       "1132570       <http://sphn.org/hasSubjectPseudoIdentifier>   \n",
       "1132571       <http://www.w3.org/2000/01/rdf-schema#label>   \n",
       "1132572  <http://www.w3.org/1999/02/22-rdf-syntax-ns#type>   \n",
       "1132573  <http://www.w3.org/1999/02/22-rdf-syntax-ns#type>   \n",
       "\n",
       "                           <http://nvasc.org/code_0BH17EZ>  \n",
       "0                              <http://sphn.org/Diagnosis>  \n",
       "1                           <http://nvasc.org/outcome_0.0>  \n",
       "2                              <http://sphn.org/Diagnosis>  \n",
       "3        paracetamol^^<http://www.w3.org/2001/XMLSchema...  \n",
       "4                              <http://sphn.org/Diagnosis>  \n",
       "...                                                    ...  \n",
       "1132569  tabagisme^^<http://www.w3.org/2001/XMLSchema#s...  \n",
       "1132570              <http://nvasc.org/synth_patient_1527>  \n",
       "1132571     ica^^<http://www.w3.org/2001/XMLSchema#string>  \n",
       "1132572                        <http://sphn.org/Diagnosis>  \n",
       "1132573                        <http://sphn.org/Diagnosis>  \n",
       "\n",
       "[1132574 rows x 3 columns]"
      ]
     },
     "execution_count": 18,
     "metadata": {},
     "output_type": "execute_result"
    }
   ],
   "source": [
    "preproc_df = pd.read_csv(\"../Data Generation/sphn_transductive_8000_2000.nt\", sep=\" \")\n",
    "preproc_df.drop(columns=preproc_df.columns[-1], axis=1, inplace=True)\n",
    "preproc_df.to_csv(\"../Data Generation/sphn_transductive_8000_2000.tsv\", sep=\"\\t\", index=False)\n",
    "preproc_df"
   ]
  },
  {
   "cell_type": "code",
   "execution_count": 19,
   "metadata": {},
   "outputs": [],
   "source": [
    "# tf = TriplesFactory.from_path(\"syn_data_graph.xml\")\n",
    "tf = TriplesFactory.from_path(\"../Data Generation/sphn_transductive_8000_2000.tsv\")"
   ]
  },
  {
   "cell_type": "code",
   "execution_count": 20,
   "metadata": {},
   "outputs": [],
   "source": [
    "n_runs = 1\n",
    "epochs = 5\n",
    "\n",
    "y_pred = np.zeros((n_runs, len(y_test)))\n",
    "#y_pred = np.zeros((n_runs, len(y_train)))\n",
    "y_probs = np.zeros((n_runs, len(y_test), 3))\n",
    "#y_probs = np.zeros((n_runs, len(y_train), 3))\n",
    "log_loss = np.zeros((n_runs, epochs))\n",
    "hits = np.zeros((n_runs, 4))"
   ]
  },
  {
   "cell_type": "code",
   "execution_count": null,
   "metadata": {},
   "outputs": [
    {
     "name": "stderr",
     "output_type": "stream",
     "text": [
      "No random seed is specified. Setting to 1970608614.\n"
     ]
    },
    {
     "name": "stdout",
     "output_type": "stream",
     "text": [
      "start: 2024-09-26T17:18:12.931136\n"
     ]
    },
    {
     "name": "stderr",
     "output_type": "stream",
     "text": [
      "SingleCompGCNRepresentation(\n",
      "  (combined): CombinedCompGCNRepresentations(\n",
      "    (entity_representations): Embedding(\n",
      "      (_embeddings): Embedding(320877, 80)\n",
      "    )\n",
      "    (relation_representations): Embedding(\n",
      "      (_embeddings): Embedding(18, 80)\n",
      "    )\n",
      "    (layers): ModuleList(\n",
      "      (0): CompGCNLayer(\n",
      "        (composition): MultiplicationCompositionModule()\n",
      "        (edge_weighting): SymmetricEdgeWeighting()\n",
      "        (w_rel): Linear(in_features=80, out_features=80, bias=False)\n",
      "        (drop): Dropout(p=0.0, inplace=False)\n",
      "        (bn): BatchNorm1d(80, eps=1e-05, momentum=0.1, affine=True, track_running_stats=True)\n",
      "        (bias): Bias()\n",
      "        (activation): Identity()\n",
      "      )\n",
      "    )\n",
      "  )\n",
      ") provides 18 relation representations, although only 9 are needed.While this is not necessarily wrong, it can indicate an error where the number of relation representations was chosen wrong.\n",
      "INFO:pykeen.triples.triples_factory:Creating inverse triples.\n",
      "INFO:pykeen.triples.triples_factory:Creating inverse triples.\n",
      "INFO:pykeen.training.training_loop:Dropping last (incomplete) batch each epoch (1/8848 (0.01%) batches).\n"
     ]
    }
   ],
   "source": [
    "print(\"start: \" + str(datetime.now().isoformat()))\n",
    "for run in range(n_runs):\n",
    "    model_name = 'CompGCN'\n",
    "    dataset = 'RIA'\n",
    "    embedding_dim = 80\n",
    "\n",
    "    tf.create_inverse_triples = True\n",
    "\n",
    "    result = pipeline(\n",
    "        model=model_name,       \n",
    "        training=tf,\n",
    "        testing=tf,\n",
    "        model_kwargs=dict(\n",
    "            embedding_dim=embedding_dim,      \n",
    "            loss=\"softplus\",\n",
    "            #interaction=\"TransE\",\n",
    "            #interaction_kwargs=dict(\n",
    "            #    p=2\n",
    "            #)\n",
    "        ),  \n",
    "        optimizer_kwargs=dict(\n",
    "            lr=0.001,\n",
    "            weight_decay=1e-4,\n",
    "        ),  \n",
    "        training_kwargs=dict(\n",
    "            num_epochs=epochs, \n",
    "            use_tqdm_batch=False,\n",
    "        ),  \n",
    "        training_loop='sLCWA',\n",
    "        negative_sampler='basic',\n",
    "        device='gpu',\n",
    "        use_tqdm=False,\n",
    "        \n",
    "    )\n",
    "print(\"end: \" + str(datetime.now().isoformat()))"
   ]
  },
  {
   "cell_type": "code",
   "execution_count": null,
   "metadata": {},
   "outputs": [],
   "source": []
  },
  {
   "cell_type": "code",
   "execution_count": null,
   "metadata": {},
   "outputs": [],
   "source": [
    "#plot loss\n",
    "loss_plot = result.plot_losses()\n",
    "#loss_plot.figure.savefig(f'loss_{model_name}_{embedding_dim}_{epochs}_{time.strftime(\"%Y%m%d-%H%M%S\")}.png',dpi=600)\n",
    "\n",
    "#log_loss[run] = result.losses"
   ]
  },
  {
   "cell_type": "code",
   "execution_count": null,
   "metadata": {},
   "outputs": [],
   "source": [
    "#print(len(y_train))\n",
    "#print(list(range(len(y_train))))"
   ]
  },
  {
   "cell_type": "code",
   "execution_count": null,
   "metadata": {},
   "outputs": [],
   "source": [
    "preds = []\n",
    "#for i in range(len(y_train)):\n",
    "for i in range(len(y_test)):\n",
    "    pred = predict_target(\n",
    "            model=result.model,\n",
    "            head=f\"<http://nvasc.org/synth_patient_{size_train + i}>\",\n",
    "            #head=f\"<http://nvasc.org/synth_patient_{i}>\",\n",
    "            relation=\"<http://nvasc.org/hasOutcome>\",\n",
    "            triples_factory=tf,\n",
    "            targets=[\"<http://nvasc.org/outcome_0.0>\", \"<http://nvasc.org/outcome_1.0>\", \"<http://nvasc.org/outcome_2.0>\"]\n",
    "        )\n",
    "    #print(pred)\n",
    "    preds += [pred]\n",
    "preds[0].df"
   ]
  },
  {
   "cell_type": "code",
   "execution_count": null,
   "metadata": {},
   "outputs": [],
   "source": [
    "run = 0\n",
    "\n",
    "y_pred[run] = np.array([\n",
    "    np.argmin(\n",
    "        [pred.df.reset_index(drop=True)['tail_label'][pred.df.reset_index(drop=True)['tail_label'] == output].index[0] for output in [\"<http://nvasc.org/outcome_0.0>\", \"<http://nvasc.org/outcome_1.0>\", \"<http://nvasc.org/outcome_2.0>\"]]\n",
    "    )\n",
    "    for pred in preds\n",
    "    ])\n",
    "\n",
    "y_probs[run] = np.array([\n",
    "    softmax(\n",
    "        [pred.df.reset_index(drop=True)['score'][pred.df.reset_index(drop=True)['tail_label'] == output].iloc[0] for output in [\"<http://nvasc.org/outcome_0.0>\", \"<http://nvasc.org/outcome_1.0>\", \"<http://nvasc.org/outcome_2.0>\"]]\n",
    "    )\n",
    "    for pred in preds\n",
    "    ])\n",
    "\n",
    "hits[run] = [\n",
    "    round(result.get_metric('hits_at_1'), 2),\n",
    "    round(result.get_metric('hits_at_3'), 2),\n",
    "    round(result.get_metric('hits_at_5'), 2),\n",
    "    round(result.get_metric('hits_at_10'), 2)\n",
    "]"
   ]
  },
  {
   "cell_type": "code",
   "execution_count": null,
   "metadata": {},
   "outputs": [],
   "source": [
    "y_pred = mode(y_pred, axis=0).mode\n",
    "y_score = np.mean(y_probs, axis=0)\n",
    "hits = np.mean(hits, axis=0)"
   ]
  },
  {
   "cell_type": "code",
   "execution_count": null,
   "metadata": {},
   "outputs": [],
   "source": []
  },
  {
   "cell_type": "code",
   "execution_count": null,
   "metadata": {},
   "outputs": [],
   "source": [
    "print(\"EVALUATION\")\n",
    "print(\"Hits@1\", round(hits[0], 2))\n",
    "print(\"Hits@3\", round(hits[1], 2))\n",
    "print(\"Hits@5\", round(hits[2], 2))\n",
    "print(\"Hits@10\", round(hits[3], 2))"
   ]
  },
  {
   "cell_type": "code",
   "execution_count": null,
   "metadata": {},
   "outputs": [],
   "source": [
    "matrix = confusion_matrix(y_test, y_pred)\n",
    "#matrix = confusion_matrix(y_train, y_pred)\n",
    "disp = ConfusionMatrixDisplay(confusion_matrix=matrix, display_labels=[\"Back2Home\", \"Reabilitation\", \"Death\"])\n",
    "disp.plot()\n",
    "plt.show()"
   ]
  },
  {
   "cell_type": "code",
   "execution_count": null,
   "metadata": {},
   "outputs": [],
   "source": [
    "print(classification_report(y_test, y_pred, target_names=[\"Back2Home\", \"Reabilitation\", \"Death\"]))\n",
    "#print(classification_report(y_train, y_pred, target_names=[\"Back2Home\", \"Reabilitation\", \"Death\"]))"
   ]
  },
  {
   "cell_type": "code",
   "execution_count": null,
   "metadata": {},
   "outputs": [],
   "source": [
    "print(\"AUC ROC:\", round(roc_auc_score(y_test, y_score, multi_class='ovr'), 2))"
   ]
  },
  {
   "cell_type": "code",
   "execution_count": null,
   "metadata": {},
   "outputs": [],
   "source": []
  },
  {
   "cell_type": "code",
   "execution_count": null,
   "metadata": {},
   "outputs": [],
   "source": [
    "model = result.model\n",
    "\n",
    "entity_embedding_tensor = model.entity_representations[0](indices=None).cpu()\n",
    "relation_embedding_tensor = model.relation_representations[0](indices=None).cpu()"
   ]
  },
  {
   "cell_type": "code",
   "execution_count": null,
   "metadata": {},
   "outputs": [],
   "source": [
    "colors = [['g', 'r', 'b'][i] for i in y_train]\n",
    "labels = [i for i in y_train]\n",
    "#patients_names = [f\"P{i}\" for i in range(size_train)]\n",
    "patients_names = [f\"<http://nvasc.org/synth_patient_{i}>\" for i in range(size_train)]\n",
    "train_pos = entity_embedding_tensor[tf.entities_to_ids(patients_names)]\n",
    "train_pos = train_pos.detach().numpy()"
   ]
  },
  {
   "cell_type": "code",
   "execution_count": null,
   "metadata": {},
   "outputs": [],
   "source": [
    "out_colors = ['g', 'r', 'b']\n",
    "#outcomes_names = [\"Back2Home\", \"Reabilitation\", \"Death\"]\n",
    "outcomes_names = [\"<http://nvasc.org/outcome_0.0>\", \"<http://nvasc.org/outcome_1.0>\", \"<http://nvasc.org/outcome_2.0>\"]\n",
    "out_pos = entity_embedding_tensor[tf.entities_to_ids(outcomes_names)]\n",
    "out_pos = out_pos.detach().numpy()"
   ]
  },
  {
   "cell_type": "code",
   "execution_count": null,
   "metadata": {},
   "outputs": [],
   "source": [
    "pca = PCA(n_components=2)\n",
    "train_pos = pca.fit_transform(train_pos)\n",
    "out_pos = pca.transform(out_pos)"
   ]
  },
  {
   "cell_type": "code",
   "execution_count": null,
   "metadata": {},
   "outputs": [],
   "source": [
    "print(f\"{round(sum(pca.explained_variance_), 2)}% variance explained\")"
   ]
  },
  {
   "cell_type": "code",
   "execution_count": null,
   "metadata": {},
   "outputs": [],
   "source": [
    "#relation_names = [\"hasOutput\", \"output\"]\n",
    "relation_names = [\"<http://nvasc.org/hasOutcome>\"]\n",
    "rel_pos = relation_embedding_tensor[tf.relations_to_ids(relation_names)]\n",
    "rel_pos = rel_pos.detach().numpy()\n",
    "origin = np.array([[0] * 2, [0] * 2])"
   ]
  },
  {
   "cell_type": "code",
   "execution_count": null,
   "metadata": {},
   "outputs": [],
   "source": [
    "plt.scatter(train_pos[:,0], train_pos[:,1], c=colors)\n",
    "plt.scatter(out_pos[:,0], out_pos[:,1], s=200, marker='X', edgecolors=out_colors, facecolors=['w'] * len(out_colors))\n",
    "plt.quiver(*origin, rel_pos[:,0], rel_pos[:,1], scale=8, color=['b', 'r'])\n",
    "plt.show()"
   ]
  },
  {
   "cell_type": "code",
   "execution_count": null,
   "metadata": {},
   "outputs": [],
   "source": [
    "label_binarizer = LabelBinarizer().fit(y_train)\n",
    "y_onehot_test = label_binarizer.transform(y_test)\n",
    "y_onehot_test.shape"
   ]
  },
  {
   "cell_type": "code",
   "execution_count": null,
   "metadata": {},
   "outputs": [],
   "source": [
    "# store the fpr, tpr, and roc_auc for all averaging strategies\n",
    "fpr, tpr, roc_auc = dict(), dict(), dict()\n",
    "# Compute micro-average ROC curve and ROC area\n",
    "fpr[\"micro\"], tpr[\"micro\"], _ = roc_curve(y_onehot_test.ravel(), y_score.ravel())\n",
    "roc_auc[\"micro\"] = auc(fpr[\"micro\"], tpr[\"micro\"])\n",
    "\n",
    "print(f\"Micro-averaged One-vs-Rest ROC AUC score:\\n{roc_auc['micro']:.2f}\")"
   ]
  },
  {
   "cell_type": "code",
   "execution_count": null,
   "metadata": {},
   "outputs": [],
   "source": [
    "n_classes = 3\n",
    "\n",
    "for i in range(n_classes):\n",
    "    fpr[i], tpr[i], _ = roc_curve(y_onehot_test[:, i], y_score[:, i])\n",
    "    roc_auc[i] = auc(fpr[i], tpr[i])\n",
    "\n",
    "fpr_grid = np.linspace(0.0, 1.0, 1000)\n",
    "\n",
    "# Interpolate all ROC curves at these points\n",
    "mean_tpr = np.zeros_like(fpr_grid)\n",
    "\n",
    "for i in range(n_classes):\n",
    "    mean_tpr += np.interp(fpr_grid, fpr[i], tpr[i])  # linear interpolation\n",
    "\n",
    "# Average it and compute AUC\n",
    "mean_tpr /= n_classes\n",
    "\n",
    "fpr[\"macro\"] = fpr_grid\n",
    "tpr[\"macro\"] = mean_tpr\n",
    "roc_auc[\"macro\"] = auc(fpr[\"macro\"], tpr[\"macro\"])\n",
    "\n",
    "print(f\"Macro-averaged One-vs-Rest ROC AUC score:\\n{roc_auc['macro']:.2f}\")"
   ]
  },
  {
   "cell_type": "code",
   "execution_count": null,
   "metadata": {},
   "outputs": [],
   "source": [
    "class_weights = [0.443396, 0.432075, 0.124529]\n",
    "\n",
    "# Compute ROC curve and ROC area for each class with sample weights\n",
    "for i in range(n_classes):\n",
    "    sample_weight = np.ones(y_onehot_test.shape[0]) * class_weights[i]\n",
    "    fpr[i], tpr[i], _ = roc_curve(y_onehot_test[:, i], y_score[:, i], sample_weight=sample_weight)\n",
    "    roc_auc[i] = auc(fpr[i], tpr[i])\n",
    "\n",
    "# Interpolation grid\n",
    "fpr_grid = np.linspace(0.0, 1.0, 1000)\n",
    "\n",
    "# Interpolate all ROC curves at these points\n",
    "weighted_mean_tpr = np.zeros_like(fpr_grid)\n",
    "\n",
    "for i in range(n_classes):\n",
    "    interp_tpr = np.interp(fpr_grid, fpr[i], tpr[i])  # linear interpolation\n",
    "    weighted_mean_tpr += class_weights[i] * interp_tpr\n",
    "\n",
    "# Compute AUC for the weighted macro-average\n",
    "fpr[\"weighted_macro\"] = fpr_grid\n",
    "tpr[\"weighted_macro\"] = weighted_mean_tpr\n",
    "roc_auc[\"weighted_macro\"] = auc(fpr[\"weighted_macro\"], tpr[\"weighted_macro\"])\n",
    "\n",
    "print(f\"Weighted Macro-averaged One-vs-Rest ROC AUC score:\\n{roc_auc['weighted_macro']:.2f}\")\n"
   ]
  },
  {
   "cell_type": "code",
   "execution_count": null,
   "metadata": {},
   "outputs": [],
   "source": [
    "fig, ax = plt.subplots(figsize=(6, 6))\n",
    "\n",
    "target_names = [\"Back2Home\", \"Reabilitation\", \"Death\"]\n",
    "\n",
    "plt.plot(\n",
    "    fpr[\"micro\"],\n",
    "    tpr[\"micro\"],\n",
    "    label=f\"micro-average (AUC = {roc_auc['micro']:.2f})\",\n",
    "    color=\"green\",\n",
    "    linestyle=\":\",\n",
    "    linewidth=4,\n",
    ")\n",
    "\n",
    "plt.plot(\n",
    "    fpr[\"macro\"],\n",
    "    tpr[\"macro\"],\n",
    "    label=f\"macro-average (AUC = {roc_auc['macro']:.2f})\",\n",
    "    color=\"navy\",\n",
    "    linestyle=\":\",\n",
    "    linewidth=4,\n",
    ")\n",
    "\n",
    "plt.plot(\n",
    "    fpr[\"weighted_macro\"],\n",
    "    tpr[\"weighted_macro\"],\n",
    "    label=f\"weighted-average (AUC = {roc_auc['weighted_macro']:.2f})\",\n",
    "    color=\"deeppink\",\n",
    "    linestyle=\":\",\n",
    "    linewidth=4,\n",
    ")\n",
    "\n",
    "colors = cycle([\"aqua\", \"darkorange\", \"cornflowerblue\"])\n",
    "for class_id, color in zip(range(n_classes), colors):\n",
    "    RocCurveDisplay.from_predictions(\n",
    "        y_onehot_test[:, class_id],\n",
    "        y_score[:, class_id],\n",
    "        name=f\"{target_names[class_id]}\",\n",
    "        color=color,\n",
    "        ax=ax,\n",
    "        plot_chance_level=(class_id == 2),\n",
    "    )\n",
    "\n",
    "_ = ax.set(\n",
    "    xlabel=\"False Positive Rate\",\n",
    "    ylabel=\"True Positive Rate\",\n",
    "    title=\"Extension of Receiver Operating Characteristic\\nto One-vs-Rest multiclass\",\n",
    ")\n",
    "\n",
    "#ax.grid(False)\n",
    "#ax.set_facecolor('white')\n",
    "\n",
    "plt.savefig(\"test.png\")"
   ]
  },
  {
   "cell_type": "code",
   "execution_count": null,
   "metadata": {},
   "outputs": [],
   "source": [
    "plt.plot(\n",
    "    fpr[2],\n",
    "    tpr[2],\n",
    "    label=f\"weighted-average (AUC = {roc_auc['weighted_macro']:.2f})\",\n",
    "    color=\"deeppink\",\n",
    ")"
   ]
  },
  {
   "cell_type": "code",
   "execution_count": null,
   "metadata": {},
   "outputs": [],
   "source": []
  }
 ],
 "metadata": {
  "kernelspec": {
   "display_name": "Python (Data Science) [GLOBAL]",
   "language": "python",
   "name": "python3"
  },
  "language_info": {
   "codemirror_mode": {
    "name": "ipython",
    "version": 3
   },
   "file_extension": ".py",
   "mimetype": "text/x-python",
   "name": "python",
   "nbconvert_exporter": "python",
   "pygments_lexer": "ipython3",
   "version": "3.11.7"
  }
 },
 "nbformat": 4,
 "nbformat_minor": 4
}
