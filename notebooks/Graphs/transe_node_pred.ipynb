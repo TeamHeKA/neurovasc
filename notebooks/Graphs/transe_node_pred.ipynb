{
 "cells": [
  {
   "cell_type": "markdown",
   "metadata": {},
   "source": [
    "# Outcome Prediction (Node Classification) with TransE Model + MLP"
   ]
  },
  {
   "cell_type": "code",
   "execution_count": 22,
   "metadata": {},
   "outputs": [],
   "source": [
    "import os\n",
    "import joblib\n",
    "\n",
    "import numpy as np\n",
    "import pandas as pd\n",
    "\n",
    "from pykeen.triples import TriplesFactory\n",
    "from pykeen.predict import predict_target\n",
    "from pykeen.pipeline import pipeline"
   ]
  },
  {
   "cell_type": "markdown",
   "metadata": {},
   "source": [
    "## 1. Load KG and remove outcomes"
   ]
  },
  {
   "cell_type": "code",
   "execution_count": 2,
   "metadata": {},
   "outputs": [
    {
     "name": "stdout",
     "output_type": "stream",
     "text": [
      "P0\thasOutput\tReabilitation\n",
      "\n",
      "                        s              r                   d\n",
      "0           Reabilitation         output                  P0\n",
      "1           Reabilitation       rdf:type              output\n",
      "2                      P0       rdf:type             patient\n",
      "3  hospital_stay_length_0  value_feature                  P0\n",
      "4  hospital_stay_length_0       hasValue  27.408750107649045\n"
     ]
    }
   ],
   "source": [
    "dataset = 'syn_data_graph.xml'\n",
    "def preprocess(data_name):\n",
    "    s_list, r_list, d_list = [], [], []\n",
    "    \n",
    "    with open(data_name) as f:\n",
    "        s = next(f)\n",
    "        print(s)\n",
    "        for idx, line in enumerate(f):\n",
    "            e = line.strip().split('\\t')\n",
    "            s = e[0]\n",
    "            r = e[1]\n",
    "            d = e[2]            \n",
    "            \n",
    "            s_list.append(s)\n",
    "            r_list.append(r)\n",
    "            d_list.append(d)            \n",
    "            \n",
    "    return pd.DataFrame({\n",
    "        's':s_list, \n",
    "        'r':r_list, \n",
    "        'd':d_list,                          \n",
    "        })\n",
    "\n",
    "df = preprocess(dataset)\n",
    "print(df.head())"
   ]
  },
  {
   "cell_type": "markdown",
   "metadata": {},
   "source": [
    "### Remove outcomes from KG"
   ]
  },
  {
   "cell_type": "code",
   "execution_count": 3,
   "metadata": {},
   "outputs": [],
   "source": [
    "outcome = df['d'].str.contains('Reabilitation|Back2Home|Death')\n",
    "node_df = df[~outcome]\n",
    "node_df = node_df.reset_index(drop=True)\n",
    "outcome = node_df['s'].str.contains('Reabilitation|Back2Home|Death')\n",
    "node_df = node_df[~outcome]\n",
    "node_df = node_df.reset_index(drop=True)"
   ]
  },
  {
   "cell_type": "code",
   "execution_count": 4,
   "metadata": {},
   "outputs": [
    {
     "name": "stdout",
     "output_type": "stream",
     "text": [
      "                        s              r                     d\n",
      "0                      P0       rdf:type               patient\n",
      "1  hospital_stay_length_0  value_feature                    P0\n",
      "2  hospital_stay_length_0       hasValue    27.408750107649045\n",
      "3  hospital_stay_length_0       rdf:type  hospital_stay_length\n",
      "4                   gcs_0  value_feature                    P0\n"
     ]
    }
   ],
   "source": [
    "print(node_df.head())"
   ]
  },
  {
   "cell_type": "code",
   "execution_count": 5,
   "metadata": {},
   "outputs": [],
   "source": [
    "ent_to_id = {k: v for v, k in enumerate(set(node_df['s']).union(set(node_df['d'])), start=0)}\n",
    "rel_to_id = {k: v for v, k in enumerate(set(node_df['r']), start=0)}\n",
    "\n",
    "patients = [f\"P{i}\" for i in range(10000)]\n",
    "patient_id = []\n",
    "for patient in patients:\n",
    "    patient_id.append(ent_to_id[patient])\n",
    "\n",
    "num_nodes = max(ent_to_id.values()) + 1\n",
    "num_rels = max(rel_to_id.values()) + 1\n",
    "\n",
    "events = node_df.copy()\n",
    "events[\"s\"] = node_df.s.map(ent_to_id)\n",
    "events[\"d\"] = node_df.d.map(ent_to_id)\n",
    "events[\"r\"] = node_df.r.map(rel_to_id)\n",
    "\n",
    "ent_to_id = pd.DataFrame.from_dict(ent_to_id, orient='index')\n",
    "rel_to_id = pd.DataFrame.from_dict(rel_to_id, orient='index')"
   ]
  },
  {
   "cell_type": "markdown",
   "metadata": {},
   "source": [
    "### Save events, entities and relations to 'processed_data' folder"
   ]
  },
  {
   "cell_type": "code",
   "execution_count": 6,
   "metadata": {},
   "outputs": [],
   "source": [
    "path = 'processed_data'\n",
    "if not os.path.exists(path):\n",
    "    os.makedirs(path)\n",
    "\n",
    "events.to_csv(f'{path}/sphn_events_noOutcome.tsv', sep='\\t', index=False, header=None)\n",
    "ent_to_id.to_csv(f'{path}/sphn_entities_noOutcome.tsv', sep='\\t', header=None)\n",
    "rel_to_id.to_csv(f'{path}/sphn_relations_noOutcome.tsv', sep='\\t', header=None)"
   ]
  },
  {
   "cell_type": "markdown",
   "metadata": {},
   "source": [
    "## 2. Training the model"
   ]
  },
  {
   "cell_type": "code",
   "execution_count": 8,
   "metadata": {},
   "outputs": [],
   "source": [
    "tf = TriplesFactory.from_path(f'{path}/sphn_events_noOutcome.tsv', create_inverse_triples=False)"
   ]
  },
  {
   "cell_type": "code",
   "execution_count": 10,
   "metadata": {},
   "outputs": [
    {
     "name": "stderr",
     "output_type": "stream",
     "text": [
      "No random seed is specified. Setting to 1288951414.\n"
     ]
    },
    {
     "data": {
      "application/vnd.jupyter.widget-view+json": {
       "model_id": "6785661b971d4ead861412b23334d288",
       "version_major": 2,
       "version_minor": 0
      },
      "text/plain": [
       "Training epochs on cuda:0:   0%|          | 0/10 [00:00<?, ?epoch/s]"
      ]
     },
     "metadata": {},
     "output_type": "display_data"
    },
    {
     "data": {
      "application/vnd.jupyter.widget-view+json": {
       "model_id": "2554f6603e19492d9e8428de358d7d5a",
       "version_major": 2,
       "version_minor": 0
      },
      "text/plain": [
       "Evaluating on cuda:0:   0%|          | 0.00/407k [00:00<?, ?triple/s]"
      ]
     },
     "metadata": {},
     "output_type": "display_data"
    },
    {
     "name": "stderr",
     "output_type": "stream",
     "text": [
      "INFO:pykeen.evaluation.evaluator:Evaluation took 1183.17s seconds\n"
     ]
    },
    {
     "data": {
      "image/png": "[encoded data removed]",
      "text/plain": [
       "<Figure size 640x480 with 1 Axes>"
      ]
     },
     "metadata": {},
     "output_type": "display_data"
    }
   ],
   "source": [
    "model_name = 'TransE'\n",
    "embedding_dim = 16\n",
    "epochs = 10\n",
    "\n",
    "result = pipeline(\n",
    "    training=tf,\n",
    "    testing=tf,\n",
    "    model=model_name,\n",
    "    model_kwargs=dict(\n",
    "        embedding_dim=embedding_dim,\n",
    "        loss=\"softplus\",\n",
    "    ),\n",
    "    training_kwargs=dict(\n",
    "        num_epochs=epochs,\n",
    "        use_tqdm_batch=False,\n",
    "    ),\n",
    "    optimizer_kwargs=dict(\n",
    "        lr=0.001,\n",
    "        weight_decay=1e-5,\n",
    "    ),\n",
    "    training_loop='sLCWA',\n",
    "    negative_sampler='basic',\n",
    "    device='gpu',\n",
    "    use_tqdm=True,\n",
    ")\n",
    "\n",
    "#plot loss\n",
    "loss_plot = result.plot_losses()"
   ]
  },
  {
   "cell_type": "code",
   "execution_count": 31,
   "metadata": {},
   "outputs": [
    {
     "name": "stdout",
     "output_type": "stream",
     "text": [
      "torch.Size([10000, 16])\n"
     ]
    }
   ],
   "source": [
    "import torch\n",
    "import torch.nn as nn\n",
    "import torch.nn.functional as F\n",
    "\n",
    "device = torch.device('cuda' if torch.cuda.is_available() else 'cpu')\n",
    "\n",
    "model = result.model\n",
    "entity_embedding = model.entity_representations[0](indices=None).detach().cpu()\n",
    "patient_embedding = entity_embedding[patient_id]\n",
    "print(patient_embedding.shape)\n",
    "\n",
    "patient_embedding = patient_embedding.to(device)\n",
    "y = joblib.load('ouput.joblib')\n",
    "y = torch.Tensor(y).long().to(device)\n",
    "\n",
    "train_x, train_y = patient_embedding[:8000], y[:8000]\n",
    "val_x, val_y = patient_embedding[8000:9000], y[8000:9000]\n",
    "test_x, test_y = patient_embedding[9000:], y[9000:]"
   ]
  },
  {
   "cell_type": "code",
   "execution_count": 40,
   "metadata": {},
   "outputs": [
    {
     "name": "stdout",
     "output_type": "stream",
     "text": [
      "Epoch: 01, Loss: 1.1842, Val_Loss: 1.1670, Train: 0.1258, Val: 0.1280 Test: 0.1200\n",
      "Epoch: 02, Loss: 1.1656, Val_Loss: 1.1499, Train: 0.1274, Val: 0.1300 Test: 0.1220\n",
      "Epoch: 03, Loss: 1.1483, Val_Loss: 1.1342, Train: 0.1584, Val: 0.1530 Test: 0.1460\n",
      "Epoch: 04, Loss: 1.1322, Val_Loss: 1.1195, Train: 0.2344, Val: 0.2270 Test: 0.2310\n",
      "Epoch: 05, Loss: 1.1171, Val_Loss: 1.1058, Train: 0.3178, Val: 0.3110 Test: 0.3020\n",
      "Epoch: 06, Loss: 1.1030, Val_Loss: 1.0930, Train: 0.3746, Val: 0.3600 Test: 0.3660\n",
      "Epoch: 07, Loss: 1.0897, Val_Loss: 1.0810, Train: 0.4156, Val: 0.4030 Test: 0.4200\n",
      "Epoch: 08, Loss: 1.0771, Val_Loss: 1.0697, Train: 0.4308, Val: 0.4340 Test: 0.4410\n",
      "Epoch: 09, Loss: 1.0653, Val_Loss: 1.0592, Train: 0.4368, Val: 0.4410 Test: 0.4410\n",
      "Epoch: 10, Loss: 1.0542, Val_Loss: 1.0495, Train: 0.4403, Val: 0.4390 Test: 0.4440\n",
      "Epoch: 11, Loss: 1.0440, Val_Loss: 1.0406, Train: 0.4420, Val: 0.4420 Test: 0.4460\n",
      "Epoch: 12, Loss: 1.0345, Val_Loss: 1.0326, Train: 0.4426, Val: 0.4410 Test: 0.4450\n",
      "Epoch: 13, Loss: 1.0258, Val_Loss: 1.0254, Train: 0.4429, Val: 0.4430 Test: 0.4430\n",
      "Epoch: 14, Loss: 1.0181, Val_Loss: 1.0191, Train: 0.4438, Val: 0.4430 Test: 0.4430\n",
      "Epoch: 15, Loss: 1.0112, Val_Loss: 1.0137, Train: 0.4445, Val: 0.4390 Test: 0.4430\n",
      "Epoch: 16, Loss: 1.0052, Val_Loss: 1.0092, Train: 0.4450, Val: 0.4410 Test: 0.4430\n",
      "Epoch: 17, Loss: 1.0001, Val_Loss: 1.0056, Train: 0.4460, Val: 0.4420 Test: 0.4380\n",
      "Epoch: 18, Loss: 0.9959, Val_Loss: 1.0028, Train: 0.4485, Val: 0.4420 Test: 0.4390\n",
      "Epoch: 19, Loss: 0.9925, Val_Loss: 1.0007, Train: 0.4491, Val: 0.4410 Test: 0.4440\n",
      "Epoch: 20, Loss: 0.9899, Val_Loss: 0.9992, Train: 0.4493, Val: 0.4370 Test: 0.4440\n",
      "Epoch: 21, Loss: 0.9879, Val_Loss: 0.9982, Train: 0.4523, Val: 0.4380 Test: 0.4380\n",
      "Epoch: 22, Loss: 0.9865, Val_Loss: 0.9977, Train: 0.4495, Val: 0.4470 Test: 0.4480\n",
      "Epoch: 23, Loss: 0.9857, Val_Loss: 0.9975, Train: 0.4490, Val: 0.4490 Test: 0.4510\n",
      "Epoch: 24, Loss: 0.9852, Val_Loss: 0.9975, Train: 0.4498, Val: 0.4490 Test: 0.4390\n",
      "Epoch: 25, Loss: 0.9851, Val_Loss: 0.9977, Train: 0.4494, Val: 0.4480 Test: 0.4450\n",
      "Epoch: 26, Loss: 0.9852, Val_Loss: 0.9979, Train: 0.4490, Val: 0.4390 Test: 0.4460\n",
      "Epoch: 27, Loss: 0.9854, Val_Loss: 0.9981, Train: 0.4508, Val: 0.4430 Test: 0.4410\n",
      "Epoch: 28, Loss: 0.9856, Val_Loss: 0.9982, Train: 0.4501, Val: 0.4260 Test: 0.4380\n",
      "Epoch: 29, Loss: 0.9858, Val_Loss: 0.9982, Train: 0.4535, Val: 0.4250 Test: 0.4350\n",
      "Epoch: 30, Loss: 0.9859, Val_Loss: 0.9980, Train: 0.4514, Val: 0.4250 Test: 0.4320\n",
      "Epoch: 31, Loss: 0.9859, Val_Loss: 0.9976, Train: 0.4516, Val: 0.4270 Test: 0.4270\n",
      "Epoch: 32, Loss: 0.9858, Val_Loss: 0.9971, Train: 0.4513, Val: 0.4240 Test: 0.4270\n",
      "Epoch: 33, Loss: 0.9855, Val_Loss: 0.9964, Train: 0.4528, Val: 0.4180 Test: 0.4320\n",
      "Epoch: 34, Loss: 0.9851, Val_Loss: 0.9956, Train: 0.4524, Val: 0.4230 Test: 0.4330\n",
      "Epoch: 35, Loss: 0.9846, Val_Loss: 0.9948, Train: 0.4556, Val: 0.4230 Test: 0.4350\n",
      "Epoch: 36, Loss: 0.9841, Val_Loss: 0.9940, Train: 0.4550, Val: 0.4270 Test: 0.4390\n",
      "Epoch: 37, Loss: 0.9836, Val_Loss: 0.9933, Train: 0.4521, Val: 0.4270 Test: 0.4440\n",
      "Epoch: 38, Loss: 0.9831, Val_Loss: 0.9926, Train: 0.4560, Val: 0.4270 Test: 0.4470\n",
      "Epoch: 39, Loss: 0.9827, Val_Loss: 0.9920, Train: 0.4569, Val: 0.4270 Test: 0.4450\n",
      "Epoch: 40, Loss: 0.9823, Val_Loss: 0.9915, Train: 0.4569, Val: 0.4280 Test: 0.4470\n",
      "Epoch: 41, Loss: 0.9819, Val_Loss: 0.9911, Train: 0.4565, Val: 0.4320 Test: 0.4380\n",
      "Epoch: 42, Loss: 0.9817, Val_Loss: 0.9908, Train: 0.4569, Val: 0.4370 Test: 0.4410\n",
      "Epoch: 43, Loss: 0.9815, Val_Loss: 0.9905, Train: 0.4575, Val: 0.4350 Test: 0.4430\n",
      "Epoch: 44, Loss: 0.9813, Val_Loss: 0.9904, Train: 0.4579, Val: 0.4300 Test: 0.4490\n",
      "Epoch: 45, Loss: 0.9813, Val_Loss: 0.9903, Train: 0.4596, Val: 0.4290 Test: 0.4480\n",
      "Epoch: 46, Loss: 0.9812, Val_Loss: 0.9902, Train: 0.4589, Val: 0.4260 Test: 0.4480\n",
      "Epoch: 47, Loss: 0.9812, Val_Loss: 0.9902, Train: 0.4588, Val: 0.4280 Test: 0.4500\n",
      "Epoch: 48, Loss: 0.9812, Val_Loss: 0.9903, Train: 0.4595, Val: 0.4260 Test: 0.4480\n",
      "Epoch: 49, Loss: 0.9812, Val_Loss: 0.9903, Train: 0.4605, Val: 0.4270 Test: 0.4480\n",
      "Epoch: 50, Loss: 0.9812, Val_Loss: 0.9904, Train: 0.4613, Val: 0.4260 Test: 0.4470\n",
      "Epoch: 51, Loss: 0.9811, Val_Loss: 0.9905, Train: 0.4609, Val: 0.4250 Test: 0.4470\n",
      "Epoch: 52, Loss: 0.9811, Val_Loss: 0.9906, Train: 0.4613, Val: 0.4190 Test: 0.4510\n",
      "Epoch: 53, Loss: 0.9811, Val_Loss: 0.9907, Train: 0.4626, Val: 0.4170 Test: 0.4530\n",
      "Epoch: 54, Loss: 0.9810, Val_Loss: 0.9908, Train: 0.4616, Val: 0.4190 Test: 0.4490\n",
      "Epoch: 55, Loss: 0.9809, Val_Loss: 0.9909, Train: 0.4628, Val: 0.4190 Test: 0.4520\n",
      "Early stopping...\n",
      "Median time per epoch: 0.0046s\n"
     ]
    }
   ],
   "source": [
    "# MLP classifier\n",
    "class NeuralNetwork(nn.Module):\n",
    "    def __init__(self):\n",
    "        super().__init__()\n",
    "        self.linear_relu_stack = nn.Sequential(\n",
    "            nn.Linear(16, 16),\n",
    "            nn.ReLU(),\n",
    "            nn.Linear(16, 3),\n",
    "        )\n",
    "\n",
    "    def forward(self, x):\n",
    "        x = self.linear_relu_stack(x)\n",
    "        return F.log_softmax(x, dim=1)\n",
    "    \n",
    "model = NeuralNetwork().to(device)\n",
    "optimizer = torch.optim.Adam(model.parameters(), lr=0.01, weight_decay=0.0005)\n",
    "\n",
    "\n",
    "def train():\n",
    "    model.train()\n",
    "    optimizer.zero_grad()\n",
    "    out = model(train_x)\n",
    "    loss = F.nll_loss(out, train_y)\n",
    "    loss.backward()\n",
    "    optimizer.step()\n",
    "    # Validation\n",
    "    model.eval()  # Set model to evaluation mode\n",
    "    with torch.no_grad():  # Disable gradient calculation for validation\n",
    "        val_output = model(val_x)\n",
    "        val_loss = F.nll_loss(val_output, val_y)\n",
    "    return float(loss), float(val_loss)\n",
    "\n",
    "@torch.no_grad()\n",
    "def test():\n",
    "    model.eval()\n",
    "    pred = model(patient_embedding).argmax(dim=-1)\n",
    "    train_acc = float((pred[:8000] == train_y).float().mean())\n",
    "    val_acc = float((pred[8000:9000] == val_y).float().mean())\n",
    "    test_acc = float((pred[9000:] == test_y).float().mean())\n",
    "    return train_acc, val_acc, test_acc\n",
    "\n",
    "import time\n",
    "\n",
    "times = []\n",
    "best_loss = float('inf')\n",
    "\n",
    "for epoch in range(1, 1001):\n",
    "    start = time.time()\n",
    "    loss, val_loss = train()\n",
    "    # Early stopping\n",
    "    if val_loss < best_loss:\n",
    "        best_loss = val_loss\n",
    "        patience = 10  # Reset patience counter\n",
    "    else:\n",
    "        patience -= 1\n",
    "        if patience == 0:\n",
    "            print(\"Early stopping...\")\n",
    "            break\n",
    "    train_acc, val_acc, test_acc = test()\n",
    "    print(f'Epoch: {epoch:02d}, Loss: {loss:.4f}, Val_Loss: {val_loss:.4f}, Train: {train_acc:.4f}, Val: {val_acc:.4f} '\n",
    "        f'Test: {test_acc:.4f}')\n",
    "        \n",
    "    times.append(time.time() - start)\n",
    "print(f\"Median time per epoch: {torch.tensor(times).median():.4f}s\")"
   ]
  }
 ],
 "metadata": {
  "kernelspec": {
   "display_name": "neurovasc",
   "language": "python",
   "name": "python3"
  },
  "language_info": {
   "codemirror_mode": {
    "name": "ipython",
    "version": 3
   },
   "file_extension": ".py",
   "mimetype": "text/x-python",
   "name": "python",
   "nbconvert_exporter": "python",
   "pygments_lexer": "ipython3",
   "version": "3.11.9"
  }
 },
 "nbformat": 4,
 "nbformat_minor": 2
}
