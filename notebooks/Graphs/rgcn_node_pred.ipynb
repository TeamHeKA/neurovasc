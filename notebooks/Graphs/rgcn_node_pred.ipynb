{
 "cells": [
  {
   "cell_type": "markdown",
   "metadata": {},
   "source": [
    "# Outcome Prediction with RGCN Model"
   ]
  },
  {
   "cell_type": "markdown",
   "metadata": {},
   "source": [
    "## 1. Load data from \"processed_data\" folder"
   ]
  },
  {
   "cell_type": "code",
   "execution_count": 2,
   "metadata": {},
   "outputs": [],
   "source": [
    "import time\n",
    "import joblib\n",
    "import pandas as pd\n",
    "\n",
    "import torch\n",
    "import torch.nn.functional as F\n",
    "\n",
    "from torch_geometric.data import Data\n",
    "from torch_geometric.nn import RGCNConv"
   ]
  },
  {
   "cell_type": "code",
   "execution_count": 3,
   "metadata": {},
   "outputs": [],
   "source": [
    "entity = pd.read_csv('processed_data/sphn_entities_noOutcome.tsv', sep='\\t', index_col=0, header=None)\n",
    "entity = entity.to_dict()[1]\n",
    "num_patients = 10000\n",
    "indices = []\n",
    "for i in range(num_patients):\n",
    "    idx = f'<http://nvasc.org/synth_patient_{i}>'\n",
    "    indices.append(entity[idx])\n",
    "# events = pd.read_csv('../data/SPHN_events_noOutcome.tsv', sep='\\t', header=None)\n",
    "events = pd.read_csv('processed_data/sphn_events_noOutcome.tsv', sep='\\t', header=None)\n",
    "y = joblib.load('../Data Generation/outcomes_1000_0.joblib')\n",
    "\n",
    "edge_index = torch.vstack((torch.Tensor(events[0]).long(),torch.Tensor(events[2]).long()))\n",
    "edge_type = torch.Tensor(events[1]).long()\n",
    "train_idx = torch.Tensor(indices[:int(num_patients*0.8)]).long()\n",
    "train_y = torch.Tensor(y[:int(num_patients*0.8)]).long()\n",
    "test_idx = torch.Tensor(indices[int(num_patients*0.8):]).long()\n",
    "test_y = torch.Tensor(y[int(num_patients*0.8):]).long()\n",
    "num_nodes = len(entity)\n",
    "data = Data(\n",
    "    edge_index=edge_index,\n",
    "    edge_type=edge_type,\n",
    "    train_idx=train_idx,\n",
    "    train_y=train_y,\n",
    "    test_idx=test_idx,\n",
    "    test_y=test_y,\n",
    "    num_nodes=num_nodes,\n",
    ")\n",
    "embedding = torch.nn.Embedding(data.num_nodes, 16)\n",
    "data.x = embedding.weight\n",
    "data.num_relations = data.num_edge_types\n",
    "data.num_classes = 3"
   ]
  },
  {
   "cell_type": "markdown",
   "metadata": {},
   "source": [
    "## 2. Training the model"
   ]
  },
  {
   "cell_type": "code",
   "execution_count": 4,
   "metadata": {},
   "outputs": [],
   "source": [
    "class Net(torch.nn.Module):\n",
    "    def __init__(self):\n",
    "        super().__init__()\n",
    "        self.conv1 = RGCNConv(data.num_nodes, 16, data.num_relations,\n",
    "                          num_bases=10)\n",
    "        self.conv2 = RGCNConv(16, data.num_classes, data.num_relations,\n",
    "                          num_bases=10)\n",
    "\n",
    "    def forward(self, edge_index, edge_type):\n",
    "        x = F.relu(self.conv1(None, edge_index, edge_type))\n",
    "        x = self.conv2(x, edge_index, edge_type)\n",
    "        return F.log_softmax(x, dim=1)\n",
    "\n",
    "\n",
    "if torch.cuda.is_available():\n",
    "    device = torch.device('cuda')\n",
    "elif hasattr(torch.backends, 'mps') and torch.backends.mps.is_available():\n",
    "    device = torch.device('mps')\n",
    "else:\n",
    "    device = torch.device('cpu')\n",
    "\n",
    "model, data = Net().to(device), data.to(device)\n",
    "optimizer = torch.optim.Adam(model.parameters(), lr=0.01, weight_decay=0.0005)"
   ]
  },
  {
   "cell_type": "code",
   "execution_count": 5,
   "metadata": {},
   "outputs": [],
   "source": [
    "def train():\n",
    "    model.train()\n",
    "    optimizer.zero_grad()\n",
    "    out = model(data.edge_index, data.edge_type)\n",
    "    loss = F.nll_loss(out[data.train_idx], data.train_y)\n",
    "    loss.backward()\n",
    "    optimizer.step()\n",
    "    return float(loss)\n",
    "\n",
    "\n",
    "@torch.no_grad()\n",
    "def test():\n",
    "    model.eval()\n",
    "    pred = model(data.edge_index, data.edge_type).argmax(dim=-1)\n",
    "    train_acc = float((pred[data.train_idx] == data.train_y).float().mean())\n",
    "    test_acc = float((pred[data.test_idx] == data.test_y).float().mean())\n",
    "    return train_acc, test_acc"
   ]
  },
  {
   "cell_type": "code",
   "execution_count": 6,
   "metadata": {},
   "outputs": [
    {
     "name": "stdout",
     "output_type": "stream",
     "text": [
      "Epoch: 01, Loss: 1.0990, Train: 0.5459 Test: 0.4445\n",
      "Epoch: 02, Loss: 1.0716, Train: 0.6028 Test: 0.4440\n",
      "Epoch: 03, Loss: 1.0479, Train: 0.4781 Test: 0.4440\n",
      "Epoch: 04, Loss: 1.0246, Train: 0.5688 Test: 0.4440\n",
      "Epoch: 05, Loss: 0.9950, Train: 0.7073 Test: 0.4440\n",
      "Epoch: 06, Loss: 0.9614, Train: 0.8628 Test: 0.4440\n",
      "Epoch: 07, Loss: 0.9224, Train: 0.8753 Test: 0.4440\n",
      "Epoch: 08, Loss: 0.8828, Train: 0.8753 Test: 0.4440\n",
      "Epoch: 09, Loss: 0.8451, Train: 0.8753 Test: 0.4440\n",
      "Epoch: 10, Loss: 0.8114, Train: 0.8753 Test: 0.4440\n",
      "Epoch: 11, Loss: 0.7818, Train: 0.8753 Test: 0.4440\n",
      "Epoch: 12, Loss: 0.7552, Train: 0.8753 Test: 0.4440\n",
      "Epoch: 13, Loss: 0.7288, Train: 0.8753 Test: 0.4440\n",
      "Epoch: 14, Loss: 0.7026, Train: 0.8753 Test: 0.4440\n",
      "Epoch: 15, Loss: 0.6775, Train: 0.8753 Test: 0.4440\n",
      "Epoch: 16, Loss: 0.6531, Train: 0.8753 Test: 0.4440\n",
      "Epoch: 17, Loss: 0.6311, Train: 0.8753 Test: 0.4285\n",
      "Epoch: 18, Loss: 0.6123, Train: 0.8753 Test: 0.4285\n",
      "Epoch: 19, Loss: 0.5962, Train: 0.8753 Test: 0.4285\n",
      "Epoch: 20, Loss: 0.5818, Train: 0.8753 Test: 0.4285\n",
      "Epoch: 21, Loss: 0.5686, Train: 0.8753 Test: 0.4285\n",
      "Epoch: 22, Loss: 0.5560, Train: 0.8753 Test: 0.4285\n",
      "Epoch: 23, Loss: 0.5444, Train: 0.8753 Test: 0.4285\n",
      "Epoch: 24, Loss: 0.5337, Train: 0.8753 Test: 0.4285\n",
      "Epoch: 25, Loss: 0.5235, Train: 0.8753 Test: 0.4440\n",
      "Epoch: 26, Loss: 0.5138, Train: 0.9854 Test: 0.4440\n",
      "Epoch: 27, Loss: 0.5046, Train: 1.0000 Test: 0.4440\n",
      "Epoch: 28, Loss: 0.4957, Train: 1.0000 Test: 0.4440\n",
      "Epoch: 29, Loss: 0.4870, Train: 1.0000 Test: 0.4440\n",
      "Epoch: 30, Loss: 0.4781, Train: 1.0000 Test: 0.4440\n",
      "Epoch: 31, Loss: 0.4686, Train: 1.0000 Test: 0.4440\n",
      "Epoch: 32, Loss: 0.4584, Train: 1.0000 Test: 0.4435\n",
      "Epoch: 33, Loss: 0.4474, Train: 1.0000 Test: 0.4475\n",
      "Epoch: 34, Loss: 0.4360, Train: 1.0000 Test: 0.4180\n",
      "Epoch: 35, Loss: 0.4244, Train: 1.0000 Test: 0.4275\n",
      "Epoch: 36, Loss: 0.4134, Train: 1.0000 Test: 0.4275\n",
      "Epoch: 37, Loss: 0.4033, Train: 1.0000 Test: 0.4270\n",
      "Epoch: 38, Loss: 0.3942, Train: 1.0000 Test: 0.4500\n",
      "Epoch: 39, Loss: 0.3858, Train: 1.0000 Test: 0.4440\n",
      "Epoch: 40, Loss: 0.3773, Train: 1.0000 Test: 0.4440\n",
      "Epoch: 41, Loss: 0.3684, Train: 1.0000 Test: 0.4440\n",
      "Epoch: 42, Loss: 0.3594, Train: 1.0000 Test: 0.4440\n",
      "Epoch: 43, Loss: 0.3509, Train: 1.0000 Test: 0.4440\n",
      "Epoch: 44, Loss: 0.3434, Train: 1.0000 Test: 0.4440\n",
      "Epoch: 45, Loss: 0.3363, Train: 1.0000 Test: 0.4440\n",
      "Epoch: 46, Loss: 0.3293, Train: 1.0000 Test: 0.4440\n",
      "Epoch: 47, Loss: 0.3225, Train: 1.0000 Test: 0.4440\n",
      "Epoch: 48, Loss: 0.3163, Train: 1.0000 Test: 0.4440\n",
      "Epoch: 49, Loss: 0.3104, Train: 1.0000 Test: 0.4440\n",
      "Epoch: 50, Loss: 0.3044, Train: 1.0000 Test: 0.4440\n",
      "Median time per epoch: 0.2057s\n"
     ]
    }
   ],
   "source": [
    "times = []\n",
    "for epoch in range(1, 51):\n",
    "    start = time.time()\n",
    "    loss = train()\n",
    "    train_acc, test_acc = test()\n",
    "    print(f'Epoch: {epoch:02d}, Loss: {loss:.4f}, Train: {train_acc:.4f} '\n",
    "          f'Test: {test_acc:.4f}')\n",
    "    times.append(time.time() - start)\n",
    "print(f\"Median time per epoch: {torch.tensor(times).median():.4f}s\")"
   ]
  },
  {
   "cell_type": "code",
   "execution_count": null,
   "metadata": {},
   "outputs": [],
   "source": []
  }
 ],
 "metadata": {
  "kernelspec": {
   "display_name": "neurovasc",
   "language": "python",
   "name": "python3"
  },
  "language_info": {
   "codemirror_mode": {
    "name": "ipython",
    "version": 3
   },
   "file_extension": ".py",
   "mimetype": "text/x-python",
   "name": "python",
   "nbconvert_exporter": "python",
   "pygments_lexer": "ipython3",
   "version": "3.11.9"
  }
 },
 "nbformat": 4,
 "nbformat_minor": 2
}
