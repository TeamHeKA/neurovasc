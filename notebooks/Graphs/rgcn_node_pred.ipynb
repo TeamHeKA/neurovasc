{
 "cells": [
  {
   "cell_type": "markdown",
   "metadata": {},
   "source": [
    "# Outcome Prediction with RGCN Model"
   ]
  },
  {
   "cell_type": "markdown",
   "metadata": {},
   "source": [
    "## 1. Load data from \"processed_data\" folder"
   ]
  },
  {
   "cell_type": "code",
   "execution_count": 17,
   "metadata": {},
   "outputs": [],
   "source": [
    "import time\n",
    "import math\n",
    "import joblib\n",
    "import pandas as pd\n",
    "from sklearn.model_selection import train_test_split\n",
    "\n",
    "import torch\n",
    "import torch.nn.functional as F\n",
    "\n",
    "from torch_geometric.data import Data\n",
    "from torch_geometric.nn import RGCNConv\n",
    "from torch_geometric.utils import to_undirected"
   ]
  },
  {
   "cell_type": "code",
   "execution_count": 18,
   "metadata": {},
   "outputs": [
    {
     "name": "stdout",
     "output_type": "stream",
     "text": [
      "Data(edge_index=[2, 221870], edge_type=[221870], train_idx=[700], train_y=[700], valid_idx=[100], valid_y=[100], test_idx=[200], test_y=[200], num_nodes=33563, x=[33563, 100], num_relations=10, num_classes=3)\n"
     ]
    }
   ],
   "source": [
    "num_patients = 1000\n",
    "inverse_triples=True\n",
    "embed_dim = 100\n",
    "\n",
    "entity = pd.read_csv(f'processed_data/sphn_entities_{num_patients}_noOutcome.tsv', sep='\\t', index_col=0, header=None)\n",
    "entity = entity.to_dict()[1]\n",
    "\n",
    "indices = []\n",
    "for i in range(num_patients):\n",
    "    idx = f'<http://nvasc.org/synth_patient_{i}>'\n",
    "    indices.append(entity[idx])\n",
    "\n",
    "events = pd.read_csv(f'processed_data/sphn_events_{num_patients}_noOutcome.tsv', sep='\\t', header=None)\n",
    "y = joblib.load(f'../Data Generation/outcomes_{num_patients}_0.joblib')\n",
    "\n",
    "non_test_X, test_X, non_test_y, test_y_ = train_test_split(indices, y, stratify=y, test_size=0.2)\n",
    "train_X, valid_X, train_y_, valid_y_ = train_test_split(non_test_X, non_test_y, stratify=non_test_y, test_size=1./8)\n",
    "\n",
    "edge_index = torch.vstack((torch.Tensor(events[0]).long(),torch.Tensor(events[2]).long()))\n",
    "edge_type = torch.Tensor(events[1]).long()\n",
    "train_idx = torch.Tensor(train_X).long()\n",
    "train_y = torch.Tensor(train_y_).long()\n",
    "valid_idx = torch.Tensor(valid_X).long()\n",
    "valid_y = torch.Tensor(valid_y_).long()\n",
    "test_idx = torch.Tensor(test_X).long()\n",
    "test_y = torch.Tensor(test_y_).long()\n",
    "num_nodes = len(entity)\n",
    "\n",
    "if inverse_triples == True:\n",
    "    edge_index = to_undirected(edge_index)\n",
    "    edge_type = torch.cat((edge_type, edge_type))\n",
    "\n",
    "data = Data(\n",
    "    edge_index=edge_index,\n",
    "    edge_type=edge_type,\n",
    "    train_idx=train_idx,\n",
    "    train_y=train_y,\n",
    "    valid_idx=valid_idx,\n",
    "    valid_y=valid_y,\n",
    "    test_idx=test_idx,\n",
    "    test_y=test_y,\n",
    "    num_nodes=num_nodes,\n",
    ")\n",
    "embedding = torch.nn.Parameter(torch.empty(num_nodes, embed_dim))\n",
    "torch.nn.init.xavier_uniform_(embedding, gain=math.sqrt(2.0))\n",
    "data.x = embedding\n",
    "data.num_relations = data.num_edge_types\n",
    "data.num_classes = 3\n",
    "print(data)"
   ]
  },
  {
   "cell_type": "markdown",
   "metadata": {},
   "source": [
    "## 2. Training the model"
   ]
  },
  {
   "cell_type": "code",
   "execution_count": 19,
   "metadata": {},
   "outputs": [],
   "source": [
    "class Net(torch.nn.Module):\n",
    "    def __init__(self):\n",
    "        super().__init__()\n",
    "        self.conv1 = RGCNConv(embed_dim, 16, data.num_relations,\n",
    "                          num_bases=4)\n",
    "        self.conv2 = RGCNConv(16, data.num_classes, data.num_relations,\n",
    "                          num_bases=4)\n",
    "\n",
    "    def forward(self, edge_index, edge_type):\n",
    "        x = F.elu(self.conv1(data.x, edge_index, edge_type))\n",
    "        x = F.dropout(x, training=self.training)\n",
    "        x = self.conv2(x, edge_index, edge_type)\n",
    "        return F.log_softmax(x, dim=1)\n",
    "\n",
    "\n",
    "if torch.cuda.is_available():\n",
    "    device = torch.device('cuda')\n",
    "elif hasattr(torch.backends, 'mps') and torch.backends.mps.is_available():\n",
    "    device = torch.device('mps')\n",
    "else:\n",
    "    device = torch.device('cpu')\n",
    "\n",
    "model, data = Net().to(device), data.to(device)\n",
    "optimizer = torch.optim.Adam(model.parameters(), lr=0.01, weight_decay=5e-4)"
   ]
  },
  {
   "cell_type": "code",
   "execution_count": 20,
   "metadata": {},
   "outputs": [],
   "source": [
    "def train():\n",
    "    model.train()\n",
    "    optimizer.zero_grad()\n",
    "    out = model(data.edge_index, data.edge_type)\n",
    "    loss = F.nll_loss(out[data.train_idx], data.train_y)\n",
    "    loss.backward()\n",
    "    optimizer.step()\n",
    "    return float(loss)\n",
    "\n",
    "\n",
    "@torch.no_grad()\n",
    "def test():\n",
    "    model.eval()\n",
    "    pred = model(data.edge_index, data.edge_type).argmax(dim=-1)\n",
    "    train_acc = float((pred[data.train_idx] == data.train_y).float().mean())\n",
    "    val_acc = float((pred[data.valid_idx] == data.valid_y).float().mean())\n",
    "    test_acc = float((pred[data.test_idx] == data.test_y).float().mean())\n",
    "    return train_acc, val_acc, test_acc"
   ]
  },
  {
   "cell_type": "code",
   "execution_count": 21,
   "metadata": {},
   "outputs": [
    {
     "name": "stdout",
     "output_type": "stream",
     "text": [
      "Epoch: 10, Loss: 0.9490 | Train: 0.6171 Val: 0.4500 Test: 0.4700\n",
      "Epoch: 20, Loss: 0.8824 | Train: 0.7057 Val: 0.5200 Test: 0.5100\n",
      "Epoch: 30, Loss: 0.7701 | Train: 0.7700 Val: 0.4900 Test: 0.4700\n",
      "Epoch: 40, Loss: 0.6273 | Train: 0.8271 Val: 0.4700 Test: 0.4900\n",
      "Epoch: 50, Loss: 0.4557 | Train: 0.8929 Val: 0.4900 Test: 0.5000\n",
      "Epoch: 60, Loss: 0.3245 | Train: 0.9614 Val: 0.4400 Test: 0.5000\n",
      "Epoch: 70, Loss: 0.2571 | Train: 0.9900 Val: 0.4500 Test: 0.4950\n",
      "Epoch: 80, Loss: 0.1782 | Train: 0.9957 Val: 0.4400 Test: 0.4700\n",
      "Epoch: 90, Loss: 0.1584 | Train: 0.9971 Val: 0.4500 Test: 0.4700\n",
      "Epoch: 100, Loss: 0.1272 | Train: 0.9986 Val: 0.4300 Test: 0.4950\n",
      "Epoch: 110, Loss: 0.1286 | Train: 0.9986 Val: 0.4300 Test: 0.5000\n",
      "Epoch: 120, Loss: 0.1200 | Train: 1.0000 Val: 0.4100 Test: 0.4900\n",
      "Epoch: 130, Loss: 0.1124 | Train: 1.0000 Val: 0.4300 Test: 0.4900\n",
      "Epoch: 140, Loss: 0.0945 | Train: 1.0000 Val: 0.4100 Test: 0.5050\n",
      "Epoch: 150, Loss: 0.0974 | Train: 1.0000 Val: 0.4400 Test: 0.5050\n",
      "Epoch: 160, Loss: 0.0983 | Train: 1.0000 Val: 0.4400 Test: 0.4950\n",
      "Epoch: 170, Loss: 0.0956 | Train: 1.0000 Val: 0.4500 Test: 0.4650\n",
      "Epoch: 180, Loss: 0.0787 | Train: 1.0000 Val: 0.4600 Test: 0.5200\n",
      "Epoch: 190, Loss: 0.0685 | Train: 1.0000 Val: 0.4400 Test: 0.5000\n",
      "Epoch: 200, Loss: 0.0813 | Train: 1.0000 Val: 0.4300 Test: 0.4950\n",
      "Epoch: 210, Loss: 0.0747 | Train: 1.0000 Val: 0.4500 Test: 0.5100\n",
      "Epoch: 220, Loss: 0.0740 | Train: 1.0000 Val: 0.4400 Test: 0.4950\n",
      "Epoch: 230, Loss: 0.0619 | Train: 1.0000 Val: 0.4500 Test: 0.4900\n",
      "Epoch: 240, Loss: 0.0876 | Train: 1.0000 Val: 0.4400 Test: 0.5200\n",
      "Epoch: 250, Loss: 0.0689 | Train: 1.0000 Val: 0.4500 Test: 0.4950\n",
      "Epoch: 260, Loss: 0.0845 | Train: 1.0000 Val: 0.4500 Test: 0.4900\n",
      "Epoch: 270, Loss: 0.0707 | Train: 1.0000 Val: 0.4600 Test: 0.5000\n",
      "Epoch: 280, Loss: 0.0628 | Train: 1.0000 Val: 0.4600 Test: 0.4950\n",
      "Epoch: 290, Loss: 0.0620 | Train: 1.0000 Val: 0.4600 Test: 0.4800\n",
      "Epoch: 300, Loss: 0.0667 | Train: 1.0000 Val: 0.4700 Test: 0.5050\n",
      "Epoch: 310, Loss: 0.0627 | Train: 1.0000 Val: 0.4600 Test: 0.4650\n",
      "Epoch: 320, Loss: 0.0631 | Train: 1.0000 Val: 0.4700 Test: 0.4900\n",
      "Epoch: 330, Loss: 0.0717 | Train: 1.0000 Val: 0.4700 Test: 0.5150\n",
      "Epoch: 340, Loss: 0.0507 | Train: 1.0000 Val: 0.4400 Test: 0.4900\n",
      "Epoch: 350, Loss: 0.0575 | Train: 1.0000 Val: 0.4700 Test: 0.4900\n",
      "Epoch: 360, Loss: 0.0600 | Train: 1.0000 Val: 0.4600 Test: 0.5050\n",
      "Epoch: 370, Loss: 0.0689 | Train: 1.0000 Val: 0.4400 Test: 0.5050\n",
      "Epoch: 380, Loss: 0.0565 | Train: 1.0000 Val: 0.4400 Test: 0.5150\n",
      "Epoch: 390, Loss: 0.0551 | Train: 1.0000 Val: 0.4600 Test: 0.5000\n",
      "Epoch: 400, Loss: 0.0716 | Train: 1.0000 Val: 0.4400 Test: 0.4900\n",
      "Epoch: 410, Loss: 0.0495 | Train: 1.0000 Val: 0.4400 Test: 0.4950\n",
      "Epoch: 420, Loss: 0.0716 | Train: 1.0000 Val: 0.4500 Test: 0.4950\n",
      "Epoch: 430, Loss: 0.0764 | Train: 1.0000 Val: 0.4500 Test: 0.4900\n",
      "Epoch: 440, Loss: 0.0675 | Train: 1.0000 Val: 0.4500 Test: 0.4900\n",
      "Epoch: 450, Loss: 0.0418 | Train: 1.0000 Val: 0.4700 Test: 0.5250\n",
      "Epoch: 460, Loss: 0.0480 | Train: 1.0000 Val: 0.4500 Test: 0.4850\n",
      "Epoch: 470, Loss: 0.0532 | Train: 1.0000 Val: 0.4400 Test: 0.4950\n",
      "Epoch: 480, Loss: 0.0483 | Train: 1.0000 Val: 0.4400 Test: 0.5150\n",
      "Epoch: 490, Loss: 0.0600 | Train: 1.0000 Val: 0.4600 Test: 0.5200\n",
      "Epoch: 500, Loss: 0.0491 | Train: 1.0000 Val: 0.4600 Test: 0.5150\n",
      "Median time per epoch: 0.0392s\n"
     ]
    }
   ],
   "source": [
    "times = []\n",
    "for epoch in range(1, 501):\n",
    "    start = time.time()\n",
    "    loss = train()\n",
    "    if epoch % 10 == 0:\n",
    "        train_acc, val_acc, test_acc = test()\n",
    "        print(f'Epoch: {epoch:02d}, Loss: {loss:.4f} | Train: {train_acc:.4f} '\n",
    "            f'Val: {val_acc:.4f} Test: {test_acc:.4f}')\n",
    "    times.append(time.time() - start)\n",
    "print(f\"Median time per epoch: {torch.tensor(times).median():.4f}s\")"
   ]
  },
  {
   "cell_type": "code",
   "execution_count": 22,
   "metadata": {},
   "outputs": [
    {
     "name": "stdout",
     "output_type": "stream",
     "text": [
      "ROC AUC score: 0.6170\n"
     ]
    }
   ],
   "source": [
    "from sklearn.metrics import roc_auc_score\n",
    "\n",
    "model.eval()\n",
    "with torch.no_grad():\n",
    "    out = model(data.edge_index, data.edge_type).cpu()\n",
    "    prob = F.softmax(out, dim=1)\n",
    "auc = roc_auc_score(data.test_y.cpu(), prob[data.test_idx.cpu()], multi_class='ovr')\n",
    "print(f'ROC AUC score: {auc:.4f}')"
   ]
  }
 ],
 "metadata": {
  "kernelspec": {
   "display_name": "neurovasc",
   "language": "python",
   "name": "python3"
  },
  "language_info": {
   "codemirror_mode": {
    "name": "ipython",
    "version": 3
   },
   "file_extension": ".py",
   "mimetype": "text/x-python",
   "name": "python",
   "nbconvert_exporter": "python",
   "pygments_lexer": "ipython3",
   "version": "3.11.9"
  }
 },
 "nbformat": 4,
 "nbformat_minor": 2
}
