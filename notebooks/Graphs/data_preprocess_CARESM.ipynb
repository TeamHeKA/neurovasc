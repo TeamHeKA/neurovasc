{
 "cells": [
  {
   "cell_type": "markdown",
   "metadata": {},
   "source": [
    "# Preprocess - CARE-SM graph"
   ]
  },
  {
   "cell_type": "code",
   "execution_count": 1,
   "metadata": {},
   "outputs": [],
   "source": [
    "import os\n",
    "from datetime import datetime\n",
    "import numpy as np\n",
    "import pandas as pd\n",
    "from sklearn.preprocessing import QuantileTransformer"
   ]
  },
  {
   "cell_type": "markdown",
   "metadata": {},
   "source": [
    "### Load KG"
   ]
  },
  {
   "cell_type": "code",
   "execution_count": 2,
   "metadata": {},
   "outputs": [],
   "source": [
    "num_patients = 10000\n",
    "df = pd.read_csv(f\"../../data/caresm_{num_patients}.nt\", sep=\" \", header=None)\n",
    "df.drop(columns=df.columns[-1], axis=1, inplace=True)\n",
    "df.columns=['h', 'r', 't']"
   ]
  },
  {
   "cell_type": "markdown",
   "metadata": {},
   "source": [
    "### Map entities and relations"
   ]
  },
  {
   "cell_type": "code",
   "execution_count": 3,
   "metadata": {},
   "outputs": [
    {
     "name": "stdout",
     "output_type": "stream",
     "text": [
      "Triples / Entities / Relations saved.\n"
     ]
    }
   ],
   "source": [
    "path = 'processed_data'\n",
    "if not os.path.exists(path):\n",
    "    os.makedirs(path)\n",
    "\n",
    "node_df = df.copy()\n",
    "\n",
    "# Map id to entities and relations.\n",
    "ent_to_id = {k: v for v, k in enumerate(set(node_df['h']).union(set(node_df['t'])), start=0)}\n",
    "rel_to_id = {k: v for v, k in enumerate(set(node_df['r']), start=0)}\n",
    "\n",
    "triples = node_df.copy()\n",
    "triples[\"h\"] = node_df.h.map(ent_to_id)\n",
    "triples[\"t\"] = node_df.t.map(ent_to_id)\n",
    "triples[\"r\"] = node_df.r.map(rel_to_id)    \n",
    "\n",
    "entity = pd.DataFrame({'id': list(ent_to_id.values()), 'entity': list(ent_to_id)})\n",
    "relation = pd.DataFrame({'id': list(rel_to_id.values()), 'relation': list(rel_to_id)})\n",
    "\n",
    "# Save triples, entities and relations.\n",
    "triples.to_csv(f'processed_data/caresm_triples_{num_patients}.tsv', sep='\\t', index=False, header=None)\n",
    "entity.to_csv(f'processed_data/caresm_entities_{num_patients}.tsv', sep='\\t', index=False, header=None)\n",
    "relation.to_csv(f'processed_data/caresm_relations_{num_patients}.tsv', sep='\\t', index=False, header=None)\n",
    "print(\"Triples / Entities / Relations saved.\")"
   ]
  },
  {
   "cell_type": "markdown",
   "metadata": {},
   "source": [
    "### Get literals"
   ]
  },
  {
   "cell_type": "code",
   "execution_count": 4,
   "metadata": {},
   "outputs": [
    {
     "name": "stdout",
     "output_type": "stream",
     "text": [
      "Literals saved.\n"
     ]
    }
   ],
   "source": [
    "# Get literals.\n",
    "numeric_df = node_df[node_df['r'] == '<http://sphn.org/has-value>'].copy()\n",
    "numeric_df.t.str.removesuffix('^^<http://www.w3.org/2001/XMLSchema#float>')\n",
    "numeric_values = pd.to_numeric(numeric_df.t.values)\n",
    "numeric_df['numeric'] = numeric_values\n",
    "numeric_arr = np.zeros((len(entity), 1))\n",
    "for i, v in numeric_df.t.items():\n",
    "    num_id = entity[entity.entity == v].id\n",
    "    numeric_arr[num_id] = numeric_df.numeric.loc[i]\n",
    "\n",
    "time_df = node_df[node_df['r'].str.contains('<http://semanticscience.org/resource/SIO_000680>|<http://semanticscience.org/resource/SIO_000681>')].copy()\n",
    "time_df['sec'] = time_df.t.str.removesuffix('^^<http://www.w3.org/2001/XMLSchema#dateTime>')\n",
    "times = []\n",
    "for i, t in time_df.sec.items():\n",
    "    time = datetime.strptime(t, '%Y-%m-%dT%H:%M:%S') - datetime(2020,1,1)\n",
    "    times.append(time.total_seconds())\n",
    "time_df['sec'] = times\n",
    "    \n",
    "qt = QuantileTransformer(n_quantiles=10, random_state=0)\n",
    "qt_times = qt.fit_transform(time_df.sec.values.reshape(-1,1))\n",
    "time_df['sec'] = list(qt_times.reshape(-1,))\n",
    "for i, v in time_df.t.items():\n",
    "    num_id = entity[entity.entity == v].id\n",
    "    numeric_arr[num_id] = time_df.sec.loc[i]\n",
    "\n",
    "np.save(f\"processed_data/caresm_numeric_{num_patients}.npy\", numeric_arr)\n",
    "print(\"Literals saved.\")"
   ]
  }
 ],
 "metadata": {
  "kernelspec": {
   "display_name": "neurovasc",
   "language": "python",
   "name": "python3"
  },
  "language_info": {
   "codemirror_mode": {
    "name": "ipython",
    "version": 3
   },
   "file_extension": ".py",
   "mimetype": "text/x-python",
   "name": "python",
   "nbconvert_exporter": "python",
   "pygments_lexer": "ipython3",
   "version": "3.11.9"
  }
 },
 "nbformat": 4,
 "nbformat_minor": 2
}
