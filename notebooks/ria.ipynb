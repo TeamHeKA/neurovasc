{
 "cells": [
  {
   "cell_type": "code",
   "execution_count": 1,
   "metadata": {},
   "outputs": [],
   "source": [
    "import pandas as pd\n",
    "import numpy as np\n",
    "import torch\n",
    "import matplotlib.pyplot as plt\n",
    "import uuid\n",
    "import json\n",
    "import copy\n",
    "\n",
    "from scipy.stats import skewnorm, norm\n",
    "from datetime import datetime, timedelta\n",
    "from tqdm.notebook import tqdm\n",
    "from rdflib import ConjunctiveGraph, Namespace, RDF, RDFS, URIRef, Literal\n",
    "from pykeen.models.inductive import InductiveNodePieceGNN\n",
    "from pykeen.training import SLCWATrainingLoop\n",
    "from pykeen.evaluation.rank_based_evaluator import SampledRankBasedEvaluator\n",
    "from pykeen.stoppers import EarlyStopper\n",
    "from pykeen.triples import TriplesFactory\n",
    "from pykeen.losses import MarginRankingLoss\n",
    "from pykeen.predict import predict_target\n",
    "from torch.optim import Adam\n",
    "from sklearn.metrics import confusion_matrix, ConfusionMatrixDisplay, precision_score, recall_score, f1_score"
   ]
  },
  {
   "cell_type": "markdown",
   "metadata": {},
   "source": [
    "# Intracranial aneurysm ruptures prediction"
   ]
  },
  {
   "cell_type": "markdown",
   "metadata": {},
   "source": [
    "### 1. Synthetic data generation"
   ]
  },
  {
   "cell_type": "code",
   "execution_count": 2,
   "metadata": {},
   "outputs": [],
   "source": [
    "N_PATIENTS = 100"
   ]
  },
  {
   "cell_type": "markdown",
   "metadata": {},
   "source": [
    "##### 1.1 Patients features"
   ]
  },
  {
   "cell_type": "code",
   "execution_count": 3,
   "metadata": {},
   "outputs": [],
   "source": [
    "FEATURES = [\"rupture\", \"sex\", \"age\", \"hta\", \"bmi\", \"sporadic_case\", \"multiple_IA\", \"IA_location\", \"adjusted_size_ratio\", \n",
    "            \"tobacco\", \"alcohol\", \"headaches\", \"diabetes\", \"dyslipidemia\", \"ischemic_stroke_history\", \n",
    "            \"ischemic_heart_disease_history\", \"pad_history\", \"carotid_artery_stenosis_history\", \"aortic_aneurysm_history\", \n",
    "            \"statin_ttt\", \"platelet_aggregation_inhibiting_ttt\", \"vka_or_anticoagulant_ttt\", \"anti_inflammatory_ttt\", \n",
    "            \"hormone_therapy_ttt\", \"allergy\", \"asthma\", \"atopy\", \"eczema\"] "
   ]
  },
  {
   "cell_type": "code",
   "execution_count": 4,
   "metadata": {},
   "outputs": [],
   "source": [
    "def yes_no_var(percentage_yes, nb_samples) :\n",
    "    return np.random.choice([1, 0], nb_samples, p=[percentage_yes, 1-percentage_yes])"
   ]
  },
  {
   "cell_type": "code",
   "execution_count": 5,
   "metadata": {},
   "outputs": [],
   "source": [
    "np.random.seed(111)\n",
    "df = pd.DataFrame()\n",
    "nb_samples = N_PATIENTS\n",
    "nb_choice = nb_samples * 5\n",
    "\n",
    "for f in FEATURES :\n",
    "    if \"rupture\" in f:\n",
    "        df[f] = yes_no_var(0.397, nb_samples)\n",
    "    \n",
    "    if 'sex' in f:\n",
    "        var = np.repeat(None, nb_samples)\n",
    "        var[df[df.rupture == 1].index] = np.random.choice([1, 0], len(df[df.rupture == 1]), p=[0.30, 0.70])\n",
    "        var[df[df.rupture == 0].index] = np.random.choice([1, 0], len(df[df.rupture == 0]), p=[0.27, 0.73])\n",
    "        df[f] = var\n",
    "        \n",
    "    if 'age' in f:\n",
    "        var = np.repeat(None, nb_samples)\n",
    "        mean = 50.3 ; sd = 12.1 ; min_val = 18 ; max_val = 87\n",
    "        random_nb = np.random.normal(loc = mean, scale = sd, size = nb_choice).astype(int)\n",
    "        random_nb = random_nb[np.where((random_nb >= min_val)&(random_nb <= max_val))]\n",
    "        var[df[df.rupture == 1].index] = np.random.choice(random_nb, size = len(df[df.rupture == 1]))\n",
    "        mean = 55.8 ; sd = 11.9 ; min_val = 20 ; max_val = 85\n",
    "        random_nb = np.random.normal(loc = mean, scale = sd, size = nb_choice).astype(int)\n",
    "        random_nb_No = random_nb[np.where((random_nb >= min_val)&(random_nb <= max_val))]\n",
    "        var[df[df.rupture == 0].index] = np.random.choice(random_nb, size = len(df[df.rupture == 0]))\n",
    "        df[f] = var\n",
    "        \n",
    "    if 'sporadic_case' in f:\n",
    "        var = np.repeat(None, nb_samples)\n",
    "        var[df[df.rupture == 1].index] = yes_no_var(0.84, len(df[df.rupture == 1]))\n",
    "        var[df[df.rupture == 0].index] = yes_no_var(0.81, len(df[df.rupture == 0]))\n",
    "        df[f] = var\n",
    "        \n",
    "    if 'multiple_IA' in f:\n",
    "        var = np.repeat(None, nb_samples)\n",
    "        var[df[df.rupture == 1].index] = yes_no_var(0.34, len(df[df.rupture == 1]))\n",
    "        var[df[df.rupture == 0].index] = yes_no_var(0.30, len(df[df.rupture == 0]))\n",
    "        df[f] = var\n",
    "        \n",
    "    if \"IA_location\" in f:\n",
    "        var = np.repeat(None, nb_samples)\n",
    "        var[df[df.rupture == 1].index] = np.random.choice([0, 1, 2, 3], len(df[df.rupture == 1]), p=[0.12, 0.23, 0.39, 0.26])\n",
    "        var[df[df.rupture == 0].index] = np.random.choice([0, 1, 2, 3], len(df[df.rupture == 0]), p=[0.33, 0.29, 0.24, 0.14])\n",
    "        df[f] = var\n",
    "        \n",
    "    if 'adjusted_size_ratio' in f:\n",
    "        select_indiv = []\n",
    "        a = 2.27 ; loc = 0.97 ; scale = 1.29\n",
    "        random_nb = skewnorm.rvs(a, loc, scale, size = nb_choice).round(decimals = 2)\n",
    "        random_nb = random_nb[np.where(random_nb >=0.25)]\n",
    "        size_ICA = np.random.choice(random_nb, size = len(df[df[\"IA_location\"] == 0]))\n",
    "\n",
    "        select_indiv = []\n",
    "        a = 2.88 ; loc = 1.17 ; scale = 1.44\n",
    "        random_nb = skewnorm.rvs(a, loc, scale, size = nb_choice).round(decimals = 2)\n",
    "        random_nb = random_nb[np.where(random_nb >=0.33)]\n",
    "        size_MCA = np.random.choice(random_nb, size = len(df[df[\"IA_location\"] == 1]))\n",
    "\n",
    "        select_indiv = []\n",
    "        a = 7.52 ; loc = 3.05 ; scale = 4.04\n",
    "        random_nb = skewnorm.rvs(a, loc, scale, size = nb_choice).round(decimals = 2)\n",
    "        random_nb = random_nb[np.where(random_nb >=1)]\n",
    "        size_ACA = np.random.choice(random_nb, size = len(df[df[\"IA_location\"] == 2]))\n",
    "\n",
    "        select_indiv = []\n",
    "        a = 2.34 ; loc = 2.48 ; scale = 3.56\n",
    "        random_nb = skewnorm.rvs(a, loc, scale, size = nb_choice).round(decimals = 2)\n",
    "        random_nb = random_nb[np.where(random_nb >=0.66)]\n",
    "        size_PCA = np.random.choice(random_nb, size = len(df[df[\"IA_location\"] == 3]))\n",
    "\n",
    "        size = np.repeat(-1.11, nb_samples)\n",
    "        size[df[df[\"IA_location\"] == 0].index] = size_ICA\n",
    "        size[df[df[\"IA_location\"] == 1].index] = size_MCA\n",
    "        size[df[df[\"IA_location\"] == 2].index] = size_ACA\n",
    "        size[df[df[\"IA_location\"] == 3].index] = size_PCA\n",
    "        df[f] = size\n",
    "        \n",
    "    if \"tobacco\" in f:\n",
    "        var = np.repeat(None, nb_samples)\n",
    "        var[df[df.rupture == 1].index] = np.random.choice([0, 1, 2], len(df[df.rupture == 1]), p=[0.29, 0.46, 0.25])\n",
    "        var[df[df.rupture == 0].index] = np.random.choice([0, 1, 2], len(df[df.rupture == 0]), p=[0.29, 0.42, 0.29])\n",
    "        df[f] = var\n",
    "    \n",
    "    if \"alcohol\" in f:\n",
    "        var = np.repeat(None, nb_samples)\n",
    "        var[df[df.rupture == 1].index] = np.random.choice([0, 1], len(df[df.rupture == 1]), p=[0.87, 0.13])\n",
    "        var[df[df.rupture == 0].index] = np.random.choice([0, 1], len(df[df.rupture == 0]), p=[0.89, 0.11])\n",
    "        df[f] = var\n",
    "        \n",
    "    if \"hta\" in f:\n",
    "        var = np.repeat(None, nb_samples)\n",
    "        var[df[df.rupture == 1].index] = yes_no_var(0.36, len(df[df.rupture == 1]))\n",
    "        var[df[df.rupture == 0].index] = yes_no_var(0.38, len(df[df.rupture == 0]))\n",
    "        df[f] = var\n",
    "        \n",
    "    if \"headaches\" in f:\n",
    "        var = np.repeat(None, nb_samples)\n",
    "        var[df[(df.rupture == 1)&(df.hta == 1)].index] = yes_no_var(0.15, len(df[(df.rupture == 1)&(df.hta == 1)]))\n",
    "        var[df[(df.rupture == 1)&(df.hta == 0)].index] = yes_no_var(0.15, len(df[(df.rupture == 1)&(df.hta == 0)]))\n",
    "        var[df[(df.rupture == 0)&(df.hta == 1)].index] = yes_no_var(0.13, len(df[(df.rupture == 0)&(df.hta == 1)]))\n",
    "        var[df[(df.rupture == 0)&(df.hta == 0)].index] = yes_no_var(0.22, len(df[(df.rupture == 0)&(df.hta == 0)]))\n",
    "        df[f] = var\n",
    "    \n",
    "    if 'bmi' in f:\n",
    "        means = [25.4, 0] # bmi N(25.4, 23.04) , diabetes N(0,1), cov(bmi, diabetes) = 3\n",
    "        covs = [[23.04, 3],\n",
    "                [3, 1]]\n",
    "        \n",
    "        # Generate data\n",
    "        data = np.random.multivariate_normal(means, covs, nb_choice)\n",
    "        random_bmi = data[:,0]\n",
    "        random_diabetes = data[:,1]\n",
    "\n",
    "        # Adjust mix and max values for bmi\n",
    "        min_val = 15.6 ; max_val = 54.8\n",
    "        mask = np.where((random_bmi >= min_val)&(random_bmi <= max_val))\n",
    "        random_bmi = random_bmi[mask]\n",
    "        random_diabetes = random_diabetes[mask]\n",
    "\n",
    "        # Select the desired number of samples\n",
    "        idxs = np.random.choice(np.arange(len(random_bmi)), nb_samples, replace=False)\n",
    "        random_bmi = random_bmi[idxs]\n",
    "        random_diabetes = random_diabetes[idxs]\n",
    "\n",
    "        # Discretize the discrete diabetes variable\n",
    "        mask1 = (df.hta == 0)&(random_diabetes >= norm.ppf(1 - 0.02))\n",
    "        mask2 = (df.rupture == 1)&(df.hta == 1)&(random_diabetes >= norm.ppf(1 - 0.06))\n",
    "        mask3 = (df.rupture == 0)&(df.hta == 1)&(random_diabetes >= norm.ppf(1 - 0.1))\n",
    "        mask = mask1 | mask2 | mask3\n",
    "        random_diabetes[mask] = 1\n",
    "        random_diabetes[~mask] = 0\n",
    "\n",
    "        df['bmi'] = random_bmi\n",
    "        df['diabetes'] = random_diabetes\n",
    "        \n",
    "    if \"dyslipidemia\" in f:\n",
    "        var = np.repeat(None, nb_samples)\n",
    "        var[df[(df.rupture == 1)&(df.hta == 1)].index] = yes_no_var(0.30, len(df[(df.rupture == 1)&(df.hta == 1)]))\n",
    "        var[df[(df.rupture == 1)&(df.hta == 0)].index] = yes_no_var(0.12, len(df[(df.rupture == 1)&(df.hta == 0)]))\n",
    "        var[df[(df.rupture == 0)&(df.hta == 1)].index] = yes_no_var(0.40, len(df[(df.rupture == 0)&(df.hta == 1)]))\n",
    "        var[df[(df.rupture == 0)&(df.hta == 0)].index] = yes_no_var(0.16, len(df[(df.rupture == 0)&(df.hta == 0)]))\n",
    "        df[f] = var\n",
    "    \n",
    "    if \"ischemic_stroke_history\" in f:\n",
    "        var = np.repeat(None, nb_samples)\n",
    "        var[df[(df.rupture == 1)&(df.dyslipidemia == 1)].index] = yes_no_var(0.08, len(df[(df.rupture == 1)&(df.dyslipidemia == 1)]))\n",
    "        var[df[(df.rupture == 1)&(df.dyslipidemia == 0)].index] = yes_no_var(0.02, len(df[(df.rupture == 1)&(df.dyslipidemia == 0)]))\n",
    "        var[df[(df.rupture == 0)&(df.dyslipidemia == 1)].index] = yes_no_var(0.20, len(df[(df.rupture == 0)&(df.dyslipidemia == 1)]))\n",
    "        var[df[(df.rupture == 0)&(df.dyslipidemia == 0)].index] = yes_no_var(0.07, len(df[(df.rupture == 0)&(df.dyslipidemia == 0)]))\n",
    "        df[f] = var\n",
    "        \n",
    "    if \"ischemic_heart_disease_history\" in f:\n",
    "        var = np.repeat(None, nb_samples)\n",
    "        var[df[(df.rupture == 1)&(df.ischemic_stroke_history == 1)].index] = yes_no_var(0.09, len(df[(df.rupture == 1)&(df.ischemic_stroke_history == 1)]))\n",
    "        var[df[(df.rupture == 1)&(df.ischemic_stroke_history == 0)].index] = yes_no_var(0.01, len(df[(df.rupture == 1)&(df.ischemic_stroke_history == 0)]))\n",
    "        var[df[(df.rupture == 0)&(df.ischemic_stroke_history == 1)].index] = yes_no_var(0.12, len(df[(df.rupture == 0)&(df.ischemic_stroke_history == 1)]))\n",
    "        var[df[(df.rupture == 0)&(df.ischemic_stroke_history == 0)].index] = yes_no_var(0.04, len(df[(df.rupture == 0)&(df.ischemic_stroke_history == 0)]))\n",
    "        df[f] = var\n",
    "        \n",
    "    if \"pad_history\" in f:\n",
    "        var = np.repeat(None, nb_samples)\n",
    "        var[df[(df.rupture == 1)&(df.ischemic_heart_disease_history == 1)].index] = yes_no_var(0.33, len(df[(df.rupture == 1)&(df.ischemic_heart_disease_history == 1)]))\n",
    "        var[df[(df.rupture == 1)&(df.ischemic_heart_disease_history == 0)].index] = yes_no_var(0.01, len(df[(df.rupture == 1)&(df.ischemic_heart_disease_history == 0)]))\n",
    "        var[df[(df.rupture == 0)&(df.ischemic_heart_disease_history == 1)].index] = yes_no_var(0.16, len(df[(df.rupture == 0)&(df.ischemic_heart_disease_history == 1)]))\n",
    "        var[df[(df.rupture == 0)&(df.ischemic_heart_disease_history == 0)].index] = yes_no_var(0.02, len(df[(df.rupture == 0)&(df.ischemic_heart_disease_history == 0)]))\n",
    "        df[f] = var\n",
    "        \n",
    "    if \"carotid_artery_stenosis_history\" in f:\n",
    "        df[f] = yes_no_var(0.03, nb_samples)\n",
    "        \n",
    "    if 'aortic_aneurysm_history' in f:\n",
    "        df[f] = yes_no_var(0.005, nb_samples)\n",
    "        \n",
    "    if \"statin_ttt\" in f:\n",
    "        var = np.repeat(None, nb_samples)\n",
    "        var[df[(df.rupture == 1)&(df.dyslipidemia == 1)].index] = yes_no_var(0.46, len(df[(df.rupture == 1)&(df.dyslipidemia == 1)]))\n",
    "        var[df[(df.rupture == 1)&(df.dyslipidemia == 0)].index] = yes_no_var(0.01, len(df[(df.rupture == 1)&(df.dyslipidemia == 0)]))\n",
    "        var[df[(df.rupture == 0)&(df.dyslipidemia == 1)].index] = yes_no_var(0.39, len(df[(df.rupture == 0)&(df.dyslipidemia == 1)]))\n",
    "        var[df[(df.rupture == 0)&(df.dyslipidemia == 0)].index] = yes_no_var(0.03, len(df[(df.rupture == 0)&(df.dyslipidemia == 0)]))\n",
    "        df[f] = var\n",
    "        \n",
    "    if \"platelet_aggregation_inhibiting_ttt\" in f:\n",
    "        var = np.repeat(None, nb_samples)\n",
    "        var[df[(df.rupture == 1)&(df.ischemic_heart_disease_history == 1)].index] = yes_no_var(0.5, len(df[(df.rupture == 1)&(df.ischemic_heart_disease_history == 1)]))\n",
    "        var[df[(df.rupture == 1)&(df.ischemic_heart_disease_history == 0)].index] = yes_no_var(0.09, len(df[(df.rupture == 1)&(df.ischemic_heart_disease_history == 0)]))\n",
    "        var[df[(df.rupture == 0)&(df.ischemic_heart_disease_history == 1)].index] = yes_no_var(0.24, len(df[(df.rupture == 0)&(df.ischemic_heart_disease_history == 1)]))\n",
    "        var[df[(df.rupture == 0)&(df.ischemic_heart_disease_history == 0)].index] = yes_no_var(0.13, len(df[(df.rupture == 0)&(df.ischemic_heart_disease_history == 0)]))\n",
    "        df[f] = var\n",
    "        \n",
    "    if \"vka_or_anticoagulant_ttt\" in f:\n",
    "        df[f] = yes_no_var(0.03, nb_samples)\n",
    "        \n",
    "    if \"anti_inflammatory_ttt\" in f:\n",
    "        df[f] = yes_no_var(0.03, nb_samples)\n",
    "        \n",
    "    if 'hormone_therapy_ttt' in f:\n",
    "        var = np.repeat(None, nb_samples)\n",
    "        var[df[df.rupture == 1].index] = yes_no_var(0.02, len(df[df.rupture == 1]))\n",
    "        var[df[df.rupture == 0].index] = yes_no_var(0.04, len(df[df.rupture == 0]))\n",
    "        df[f] = var\n",
    "    \n",
    "    if \"allergy\" in f:\n",
    "        var = np.repeat(None, nb_samples)\n",
    "        var[df[df.rupture == 1].index] = yes_no_var(0.20, len(df[df.rupture == 1]))\n",
    "        var[df[df.rupture == 0].index] = yes_no_var(0.25, len(df[df.rupture == 0]))\n",
    "        df[f] = var\n",
    "        \n",
    "    if \"asthma\" in f:\n",
    "        var = np.repeat(None, nb_samples)\n",
    "        var[df[(df.rupture == 1)&(df.allergy == 1)].index] = yes_no_var(0.16, len(df[(df.rupture == 1)&(df.allergy == 1)]))\n",
    "        var[df[(df.rupture == 1)&(df.allergy == 0)].index] = yes_no_var(0.03, len(df[(df.rupture == 1)&(df.allergy == 0)]))\n",
    "        var[df[(df.rupture == 0)&(df.allergy == 1)].index] = yes_no_var(0.18, len(df[(df.rupture == 0)&(df.allergy == 1)]))\n",
    "        var[df[(df.rupture == 0)&(df.allergy == 0)].index] = yes_no_var(0.04, len(df[(df.rupture == 0)&(df.allergy == 0)]))\n",
    "        df[f] = var\n",
    "        \n",
    "    if \"atopy\" in f:\n",
    "        var = np.repeat(None, nb_samples)\n",
    "        var[df[(df.rupture == 1)&(df.allergy == 1)].index] = yes_no_var(0.15, len(df[(df.rupture == 1)&(df.allergy == 1)]))\n",
    "        var[df[(df.rupture == 1)&(df.allergy == 0)].index] = yes_no_var(0.02, len(df[(df.rupture == 1)&(df.allergy == 0)]))\n",
    "        var[df[(df.rupture == 0)&(df.allergy == 1)].index] = yes_no_var(0.14, len(df[(df.rupture == 0)&(df.allergy == 1)]))\n",
    "        var[df[(df.rupture == 0)&(df.allergy == 0)].index] = yes_no_var(0.03, len(df[(df.rupture == 0)&(df.allergy == 0)]))\n",
    "        df[f] = var\n",
    "        \n",
    "    if \"eczema\" in f:\n",
    "        var = np.repeat(None, nb_samples)\n",
    "        var[df[(df.rupture == 1)&(df.allergy == 1)].index] = yes_no_var(0.13, len(df[(df.rupture == 1)&(df.allergy == 1)]))\n",
    "        var[df[(df.rupture == 1)&(df.allergy == 0)].index] = yes_no_var(0.04, len(df[(df.rupture == 1)&(df.allergy == 0)]))\n",
    "        var[df[(df.rupture == 0)&(df.allergy == 1)].index] = yes_no_var(0.13, len(df[(df.rupture == 0)&(df.allergy == 1)]))\n",
    "        var[df[(df.rupture == 0)&(df.allergy == 0)].index] = yes_no_var(0.04, len(df[(df.rupture == 0)&(df.allergy == 0)]))\n",
    "        df[f] = var"
   ]
  },
  {
   "cell_type": "code",
   "execution_count": 6,
   "metadata": {},
   "outputs": [
    {
     "data": {
      "text/html": [
       "<div>\n",
       "<style scoped>\n",
       "    .dataframe tbody tr th:only-of-type {\n",
       "        vertical-align: middle;\n",
       "    }\n",
       "\n",
       "    .dataframe tbody tr th {\n",
       "        vertical-align: top;\n",
       "    }\n",
       "\n",
       "    .dataframe thead th {\n",
       "        text-align: right;\n",
       "    }\n",
       "</style>\n",
       "<table border=\"1\" class=\"dataframe\">\n",
       "  <thead>\n",
       "    <tr style=\"text-align: right;\">\n",
       "      <th></th>\n",
       "      <th>rupture</th>\n",
       "      <th>sex</th>\n",
       "      <th>age</th>\n",
       "      <th>hta</th>\n",
       "      <th>bmi</th>\n",
       "      <th>diabetes</th>\n",
       "      <th>sporadic_case</th>\n",
       "      <th>multiple_IA</th>\n",
       "      <th>IA_location</th>\n",
       "      <th>adjusted_size_ratio</th>\n",
       "      <th>...</th>\n",
       "      <th>aortic_aneurysm_history</th>\n",
       "      <th>statin_ttt</th>\n",
       "      <th>platelet_aggregation_inhibiting_ttt</th>\n",
       "      <th>vka_or_anticoagulant_ttt</th>\n",
       "      <th>anti_inflammatory_ttt</th>\n",
       "      <th>hormone_therapy_ttt</th>\n",
       "      <th>allergy</th>\n",
       "      <th>asthma</th>\n",
       "      <th>atopy</th>\n",
       "      <th>eczema</th>\n",
       "    </tr>\n",
       "  </thead>\n",
       "  <tbody>\n",
       "    <tr>\n",
       "      <th>0</th>\n",
       "      <td>0</td>\n",
       "      <td>0</td>\n",
       "      <td>56</td>\n",
       "      <td>0</td>\n",
       "      <td>29.878520</td>\n",
       "      <td>0.0</td>\n",
       "      <td>1</td>\n",
       "      <td>0</td>\n",
       "      <td>2</td>\n",
       "      <td>9.00</td>\n",
       "      <td>...</td>\n",
       "      <td>0</td>\n",
       "      <td>0</td>\n",
       "      <td>0</td>\n",
       "      <td>0</td>\n",
       "      <td>0</td>\n",
       "      <td>0</td>\n",
       "      <td>0</td>\n",
       "      <td>1</td>\n",
       "      <td>0</td>\n",
       "      <td>0</td>\n",
       "    </tr>\n",
       "    <tr>\n",
       "      <th>1</th>\n",
       "      <td>1</td>\n",
       "      <td>1</td>\n",
       "      <td>43</td>\n",
       "      <td>0</td>\n",
       "      <td>27.010343</td>\n",
       "      <td>0.0</td>\n",
       "      <td>1</td>\n",
       "      <td>0</td>\n",
       "      <td>3</td>\n",
       "      <td>4.25</td>\n",
       "      <td>...</td>\n",
       "      <td>0</td>\n",
       "      <td>0</td>\n",
       "      <td>0</td>\n",
       "      <td>0</td>\n",
       "      <td>0</td>\n",
       "      <td>0</td>\n",
       "      <td>0</td>\n",
       "      <td>0</td>\n",
       "      <td>0</td>\n",
       "      <td>0</td>\n",
       "    </tr>\n",
       "    <tr>\n",
       "      <th>2</th>\n",
       "      <td>0</td>\n",
       "      <td>1</td>\n",
       "      <td>65</td>\n",
       "      <td>1</td>\n",
       "      <td>27.418302</td>\n",
       "      <td>0.0</td>\n",
       "      <td>1</td>\n",
       "      <td>0</td>\n",
       "      <td>0</td>\n",
       "      <td>1.16</td>\n",
       "      <td>...</td>\n",
       "      <td>0</td>\n",
       "      <td>0</td>\n",
       "      <td>0</td>\n",
       "      <td>0</td>\n",
       "      <td>0</td>\n",
       "      <td>0</td>\n",
       "      <td>0</td>\n",
       "      <td>0</td>\n",
       "      <td>0</td>\n",
       "      <td>0</td>\n",
       "    </tr>\n",
       "    <tr>\n",
       "      <th>3</th>\n",
       "      <td>0</td>\n",
       "      <td>0</td>\n",
       "      <td>32</td>\n",
       "      <td>0</td>\n",
       "      <td>23.786230</td>\n",
       "      <td>0.0</td>\n",
       "      <td>1</td>\n",
       "      <td>1</td>\n",
       "      <td>1</td>\n",
       "      <td>1.54</td>\n",
       "      <td>...</td>\n",
       "      <td>0</td>\n",
       "      <td>0</td>\n",
       "      <td>0</td>\n",
       "      <td>0</td>\n",
       "      <td>0</td>\n",
       "      <td>0</td>\n",
       "      <td>1</td>\n",
       "      <td>0</td>\n",
       "      <td>0</td>\n",
       "      <td>0</td>\n",
       "    </tr>\n",
       "    <tr>\n",
       "      <th>4</th>\n",
       "      <td>1</td>\n",
       "      <td>0</td>\n",
       "      <td>73</td>\n",
       "      <td>1</td>\n",
       "      <td>20.692629</td>\n",
       "      <td>0.0</td>\n",
       "      <td>1</td>\n",
       "      <td>0</td>\n",
       "      <td>2</td>\n",
       "      <td>4.19</td>\n",
       "      <td>...</td>\n",
       "      <td>0</td>\n",
       "      <td>0</td>\n",
       "      <td>0</td>\n",
       "      <td>0</td>\n",
       "      <td>0</td>\n",
       "      <td>0</td>\n",
       "      <td>1</td>\n",
       "      <td>0</td>\n",
       "      <td>1</td>\n",
       "      <td>0</td>\n",
       "    </tr>\n",
       "    <tr>\n",
       "      <th>...</th>\n",
       "      <td>...</td>\n",
       "      <td>...</td>\n",
       "      <td>...</td>\n",
       "      <td>...</td>\n",
       "      <td>...</td>\n",
       "      <td>...</td>\n",
       "      <td>...</td>\n",
       "      <td>...</td>\n",
       "      <td>...</td>\n",
       "      <td>...</td>\n",
       "      <td>...</td>\n",
       "      <td>...</td>\n",
       "      <td>...</td>\n",
       "      <td>...</td>\n",
       "      <td>...</td>\n",
       "      <td>...</td>\n",
       "      <td>...</td>\n",
       "      <td>...</td>\n",
       "      <td>...</td>\n",
       "      <td>...</td>\n",
       "      <td>...</td>\n",
       "    </tr>\n",
       "    <tr>\n",
       "      <th>95</th>\n",
       "      <td>1</td>\n",
       "      <td>0</td>\n",
       "      <td>22</td>\n",
       "      <td>1</td>\n",
       "      <td>33.395858</td>\n",
       "      <td>1.0</td>\n",
       "      <td>1</td>\n",
       "      <td>1</td>\n",
       "      <td>0</td>\n",
       "      <td>3.22</td>\n",
       "      <td>...</td>\n",
       "      <td>0</td>\n",
       "      <td>1</td>\n",
       "      <td>0</td>\n",
       "      <td>0</td>\n",
       "      <td>0</td>\n",
       "      <td>0</td>\n",
       "      <td>0</td>\n",
       "      <td>0</td>\n",
       "      <td>0</td>\n",
       "      <td>0</td>\n",
       "    </tr>\n",
       "    <tr>\n",
       "      <th>96</th>\n",
       "      <td>0</td>\n",
       "      <td>0</td>\n",
       "      <td>56</td>\n",
       "      <td>0</td>\n",
       "      <td>27.521322</td>\n",
       "      <td>0.0</td>\n",
       "      <td>1</td>\n",
       "      <td>0</td>\n",
       "      <td>0</td>\n",
       "      <td>1.34</td>\n",
       "      <td>...</td>\n",
       "      <td>0</td>\n",
       "      <td>0</td>\n",
       "      <td>0</td>\n",
       "      <td>0</td>\n",
       "      <td>0</td>\n",
       "      <td>0</td>\n",
       "      <td>1</td>\n",
       "      <td>0</td>\n",
       "      <td>1</td>\n",
       "      <td>0</td>\n",
       "    </tr>\n",
       "    <tr>\n",
       "      <th>97</th>\n",
       "      <td>0</td>\n",
       "      <td>0</td>\n",
       "      <td>82</td>\n",
       "      <td>1</td>\n",
       "      <td>20.732158</td>\n",
       "      <td>0.0</td>\n",
       "      <td>1</td>\n",
       "      <td>1</td>\n",
       "      <td>0</td>\n",
       "      <td>2.54</td>\n",
       "      <td>...</td>\n",
       "      <td>0</td>\n",
       "      <td>0</td>\n",
       "      <td>0</td>\n",
       "      <td>0</td>\n",
       "      <td>0</td>\n",
       "      <td>0</td>\n",
       "      <td>0</td>\n",
       "      <td>0</td>\n",
       "      <td>0</td>\n",
       "      <td>0</td>\n",
       "    </tr>\n",
       "    <tr>\n",
       "      <th>98</th>\n",
       "      <td>1</td>\n",
       "      <td>1</td>\n",
       "      <td>64</td>\n",
       "      <td>1</td>\n",
       "      <td>19.552180</td>\n",
       "      <td>0.0</td>\n",
       "      <td>1</td>\n",
       "      <td>1</td>\n",
       "      <td>2</td>\n",
       "      <td>4.08</td>\n",
       "      <td>...</td>\n",
       "      <td>0</td>\n",
       "      <td>0</td>\n",
       "      <td>1</td>\n",
       "      <td>0</td>\n",
       "      <td>0</td>\n",
       "      <td>0</td>\n",
       "      <td>0</td>\n",
       "      <td>0</td>\n",
       "      <td>0</td>\n",
       "      <td>0</td>\n",
       "    </tr>\n",
       "    <tr>\n",
       "      <th>99</th>\n",
       "      <td>0</td>\n",
       "      <td>0</td>\n",
       "      <td>41</td>\n",
       "      <td>0</td>\n",
       "      <td>28.566703</td>\n",
       "      <td>0.0</td>\n",
       "      <td>1</td>\n",
       "      <td>0</td>\n",
       "      <td>0</td>\n",
       "      <td>1.95</td>\n",
       "      <td>...</td>\n",
       "      <td>0</td>\n",
       "      <td>0</td>\n",
       "      <td>0</td>\n",
       "      <td>0</td>\n",
       "      <td>0</td>\n",
       "      <td>0</td>\n",
       "      <td>0</td>\n",
       "      <td>0</td>\n",
       "      <td>0</td>\n",
       "      <td>0</td>\n",
       "    </tr>\n",
       "  </tbody>\n",
       "</table>\n",
       "<p>100 rows × 28 columns</p>\n",
       "</div>"
      ],
      "text/plain": [
       "    rupture sex age hta        bmi  diabetes sporadic_case multiple_IA  \\\n",
       "0         0   0  56   0  29.878520       0.0             1           0   \n",
       "1         1   1  43   0  27.010343       0.0             1           0   \n",
       "2         0   1  65   1  27.418302       0.0             1           0   \n",
       "3         0   0  32   0  23.786230       0.0             1           1   \n",
       "4         1   0  73   1  20.692629       0.0             1           0   \n",
       "..      ...  ..  ..  ..        ...       ...           ...         ...   \n",
       "95        1   0  22   1  33.395858       1.0             1           1   \n",
       "96        0   0  56   0  27.521322       0.0             1           0   \n",
       "97        0   0  82   1  20.732158       0.0             1           1   \n",
       "98        1   1  64   1  19.552180       0.0             1           1   \n",
       "99        0   0  41   0  28.566703       0.0             1           0   \n",
       "\n",
       "   IA_location  adjusted_size_ratio  ... aortic_aneurysm_history statin_ttt  \\\n",
       "0            2                 9.00  ...                       0          0   \n",
       "1            3                 4.25  ...                       0          0   \n",
       "2            0                 1.16  ...                       0          0   \n",
       "3            1                 1.54  ...                       0          0   \n",
       "4            2                 4.19  ...                       0          0   \n",
       "..         ...                  ...  ...                     ...        ...   \n",
       "95           0                 3.22  ...                       0          1   \n",
       "96           0                 1.34  ...                       0          0   \n",
       "97           0                 2.54  ...                       0          0   \n",
       "98           2                 4.08  ...                       0          0   \n",
       "99           0                 1.95  ...                       0          0   \n",
       "\n",
       "   platelet_aggregation_inhibiting_ttt vka_or_anticoagulant_ttt  \\\n",
       "0                                    0                        0   \n",
       "1                                    0                        0   \n",
       "2                                    0                        0   \n",
       "3                                    0                        0   \n",
       "4                                    0                        0   \n",
       "..                                 ...                      ...   \n",
       "95                                   0                        0   \n",
       "96                                   0                        0   \n",
       "97                                   0                        0   \n",
       "98                                   1                        0   \n",
       "99                                   0                        0   \n",
       "\n",
       "   anti_inflammatory_ttt hormone_therapy_ttt allergy  asthma  atopy eczema  \n",
       "0                      0                   0       0       1      0      0  \n",
       "1                      0                   0       0       0      0      0  \n",
       "2                      0                   0       0       0      0      0  \n",
       "3                      0                   0       1       0      0      0  \n",
       "4                      0                   0       1       0      1      0  \n",
       "..                   ...                 ...     ...     ...    ...    ...  \n",
       "95                     0                   0       0       0      0      0  \n",
       "96                     0                   0       1       0      1      0  \n",
       "97                     0                   0       0       0      0      0  \n",
       "98                     0                   0       0       0      0      0  \n",
       "99                     0                   0       0       0      0      0  \n",
       "\n",
       "[100 rows x 28 columns]"
      ]
     },
     "execution_count": 6,
     "metadata": {},
     "output_type": "execute_result"
    }
   ],
   "source": [
    "df"
   ]
  },
  {
   "cell_type": "code",
   "execution_count": 7,
   "metadata": {},
   "outputs": [],
   "source": [
    "df.to_csv('patient_data.csv', encoding='utf8', index = False) "
   ]
  },
  {
   "cell_type": "markdown",
   "metadata": {},
   "source": [
    "##### 1.2 Pathway"
   ]
  },
  {
   "cell_type": "code",
   "execution_count": 8,
   "metadata": {},
   "outputs": [],
   "source": [
    "NVASC = Namespace(\"http://neurovasc#\")\n",
    "SPHN = Namespace(\"https://biomedit.ch/rdf/sphn-schema/sphn#\")\n",
    "TIME = Namespace(\"http://www.w3.org/2006/time#\")"
   ]
  },
  {
   "cell_type": "code",
   "execution_count": 9,
   "metadata": {},
   "outputs": [],
   "source": [
    "states = [\"headache\", \"emergency\", \"samu\", \"transfer\", \"angiography\", \"occlusion\", \"clipping\", \"coiling\", \"flowDiverter\", \"web\", \n",
    "           \"back2home\", \"reabilitation\", \"death\"]\n",
    "classes = [\"Headache\", \"Emergency\", \"SAMU\", \"Transfer\", \"Angiography\", \"Occlusion\", \"Clipping\", \"Coiling\", \"FlowDiverter\", \"Web\", \n",
    "           \"Back2Home\", \"Reabilitation\", \"Death\"]\n",
    "sphn_classes = [\"\", \"\", \"\", \"\", \"ImagingProcedure\", \"MedicalProcedure\", \"MedicalProcedure\", \"MedicalProcedure\", \"MedicalProcedure\", \"MedicalProcedure\", \n",
    "           \"\", \"\", \"\"]\n",
    "\n",
    "map_ont_classes = {}\n",
    "for i in range(0, len(states)):\n",
    "    map_ont_classes[states[i]] = [classes[i], sphn_classes[i]]"
   ]
  },
  {
   "cell_type": "code",
   "execution_count": 10,
   "metadata": {},
   "outputs": [
    {
     "name": "stdout",
     "output_type": "stream",
     "text": [
      "2021-05-16 00:00:00\n"
     ]
    }
   ],
   "source": [
    "def gen_start_event(y_min=2020, y_max=2023):\n",
    "    n_days = (y_max - y_min) * 365\n",
    "    d0 = datetime.fromisoformat(f\"{y_min}-01-01\")\n",
    "    day_rand = round(np.random.uniform(n_days))\n",
    "    delta = timedelta(days=day_rand)\n",
    "    d_out = d0 + delta\n",
    "    return(d_out)\n",
    "\n",
    "print(gen_start_event())"
   ]
  },
  {
   "cell_type": "code",
   "execution_count": 11,
   "metadata": {},
   "outputs": [],
   "source": [
    "def gen_care_step(plan, label, d1, d2):\n",
    "    g = ConjunctiveGraph()\n",
    "    g.bind(\"nvasc\", NVASC)\n",
    "    g.bind(\"sphn\", SPHN)\n",
    "    g.bind(\"time\", TIME)\n",
    "    \n",
    "    uid = uuid.uuid4()\n",
    "    uri = URIRef(str(NVASC)+str(uid))\n",
    "\n",
    "    classes = map_ont_classes[label]\n",
    "    activity_class = URIRef(str(NVASC)+str(classes[0]))\n",
    "    \n",
    "    g.add((uri, RDF.type, activity_class))\n",
    "    g.add((uri, RDF.type, TIME.ProperInterval))\n",
    "    if classes[1] != \"\":\n",
    "        g.add((uri, RDF.type, URIRef(str(SPHN)+str(classes[1]))))\n",
    "    g.add((uri, SPHN.hasStartDateTime, Literal(d1)))\n",
    "    g.add((uri, SPHN.hasEndDateTime, Literal(d2)))\n",
    "    g.add((uri, RDFS.label, Literal(label)))\n",
    "    if plan:\n",
    "        g.add((uri, SPHN.hasSubjectPseudoIdentifier, plan))\n",
    "    return g, uri"
   ]
  },
  {
   "cell_type": "code",
   "execution_count": 12,
   "metadata": {},
   "outputs": [
    {
     "name": "stdout",
     "output_type": "stream",
     "text": [
      "@prefix nvasc: <http://neurovasc#> .\n",
      "@prefix rdfs: <http://www.w3.org/2000/01/rdf-schema#> .\n",
      "@prefix sphn: <https://biomedit.ch/rdf/sphn-schema/sphn#> .\n",
      "@prefix time: <http://www.w3.org/2006/time#> .\n",
      "@prefix xsd: <http://www.w3.org/2001/XMLSchema#> .\n",
      "\n",
      "nvasc:d1e6df1a-ae0e-4662-bbf3-e879375337f3 a nvasc:Angiography,\n",
      "        time:ProperInterval,\n",
      "        sphn:ImagingProcedure ;\n",
      "    rdfs:label \"angiography\" ;\n",
      "    sphn:hasEndDateTime \"2022-07-23T00:00:00\"^^xsd:dateTime ;\n",
      "    sphn:hasStartDateTime \"2022-04-02T00:00:00\"^^xsd:dateTime ;\n",
      "    sphn:hasSubjectPseudoIdentifier nvasc:p1 .\n",
      "\n",
      "\n",
      "http://neurovasc#d1e6df1a-ae0e-4662-bbf3-e879375337f3\n"
     ]
    }
   ],
   "source": [
    "d1 = gen_start_event()\n",
    "pred = URIRef(str(NVASC)+str(uuid.uuid4()))\n",
    "d2 = gen_start_event()\n",
    "g, uri = gen_care_step(NVASC.p1, \"angiography\", d1, d2)\n",
    "print(g.serialize(format=\"turtle\"))\n",
    "print(uri)"
   ]
  },
  {
   "cell_type": "code",
   "execution_count": 13,
   "metadata": {},
   "outputs": [],
   "source": [
    "def gen_patient_info(plan):\n",
    "    g = ConjunctiveGraph()\n",
    "    g.bind(\"nvasc\", NVASC)\n",
    "    g.bind(\"sphn\", SPHN)\n",
    "    \n",
    "    uri = URIRef(str(plan))\n",
    "\n",
    "    # Patient\n",
    "    activity_class = URIRef(str(SPHN) + \"SubjectPseudoIdentifier\")\n",
    "    patient_id = plan.split('#')[1]\n",
    "    patient_num = int(patient_id.split('_')[1])\n",
    "    g.add((uri, RDF.type, activity_class))\n",
    "    g.add((uri, SPHN.hasIdentifier, Literal(patient_id)))\n",
    "\n",
    "    # Age\n",
    "    q1_class = URIRef(str(SPHN) + \"Quantity\")\n",
    "    q1_uri = URIRef(str(NVASC)+str(uuid.uuid4()))\n",
    "    g.add((q1_uri, RDF.type, q1_class))\n",
    "    g.add((q1_uri, SPHN.hasValue, Literal(df.iloc[patient_num]['age'])))\n",
    "    g.add((q1_uri, RDFS.label, Literal(\"Quantity\")))\n",
    "    age_class = URIRef(str(SPHN) + \"Age\")\n",
    "    age_uri = URIRef(str(NVASC)+str(uuid.uuid4()))\n",
    "    g.add((age_uri, RDF.type, age_class))\n",
    "    g.add((age_uri, SPHN.hasQuantity, q1_uri))\n",
    "    g.add((age_uri, SPHN.hasSubjectPseudoIdentifier, plan))\n",
    "    g.add((age_uri, RDFS.label, Literal(\"Age_\"+patient_id)))\n",
    "    \n",
    "    # BMI\n",
    "    q2_class = URIRef(str(SPHN) + \"Quantity\")\n",
    "    q2_uri = URIRef(str(NVASC)+str(uuid.uuid4()))\n",
    "    g.add((q2_uri, RDF.type, q2_class))\n",
    "    g.add((q2_uri, SPHN.hasValue, Literal(df.iloc[patient_num]['bmi'])))\n",
    "    g.add((q2_uri, RDFS.label, Literal(\"Quantity\")))\n",
    "    bmi_class = URIRef(str(SPHN) + \"BodyMassIndex\")\n",
    "    bmi_uri = URIRef(str(NVASC)+str(uuid.uuid4()))\n",
    "    g.add((bmi_uri, RDF.type, bmi_class))\n",
    "    g.add((bmi_uri, SPHN.hasQuantity, q2_uri))\n",
    "    g.add((bmi_uri, SPHN.hasSubjectPseudoIdentifier, plan))\n",
    "    g.add((bmi_uri, RDFS.label, Literal(\"BMI_\"+patient_id)))\n",
    "\n",
    "    # Sex\n",
    "    sex_class = URIRef(str(SPHN) + \"AdministrativeSex\")\n",
    "    sex_uri = URIRef(str(NVASC)+str(uuid.uuid4()))\n",
    "    g.add((sex_uri, RDF.type, sex_class))\n",
    "    g.add((sex_uri, SPHN.hasCode, Literal(df.iloc[patient_num]['sex'])))\n",
    "    g.add((sex_uri, SPHN.hasSubjectPseudoIdentifier, plan))\n",
    "    g.add((sex_uri, RDFS.label, Literal(\"Sex_\"+patient_id)))\n",
    "\n",
    "    # Adjusted Size Ratio\n",
    "    q3_class = URIRef(str(SPHN) + \"Quantity\")\n",
    "    q3_uri = URIRef(str(NVASC)+str(uuid.uuid4()))\n",
    "    g.add((q3_uri, RDF.type, q3_class))\n",
    "    g.add((q3_uri, SPHN.hasValue, Literal(df.iloc[patient_num]['adjusted_size_ratio'])))\n",
    "    g.add((q3_uri, RDFS.label, Literal(\"Quantity\")))\n",
    "    asr_class = URIRef(str(SPHN) + \"BodySurfaceArea\")\n",
    "    asr_uri = URIRef(str(NVASC)+str(uuid.uuid4()))\n",
    "    g.add((asr_uri, RDF.type, asr_class))\n",
    "    g.add((asr_uri, SPHN.hasQuantity, q3_uri))\n",
    "    g.add((asr_uri, SPHN.hasSubjectPseudoIdentifier, plan))\n",
    "    g.add((asr_uri, RDFS.label, Literal(\"Adjusted_Size_Ratio_\"+patient_id)))\n",
    "\n",
    "    # Rest of features\n",
    "    for feature in set(FEATURES) - set([\"age\", \"bmi\", \"sex\", \"adjusted_size_ratio\"]):\n",
    "        f_class = URIRef(str(SPHN) + \"Diagnosis\")\n",
    "        f_uri = URIRef(str(NVASC)+str(uuid.uuid4()))\n",
    "        g.add((f_uri, RDF.type, f_class))\n",
    "        g.add((f_uri, SPHN.hasCode, Literal(df.iloc[patient_num][feature])))\n",
    "        g.add((f_uri, SPHN.hasSubjectPseudoIdentifier, plan))\n",
    "        g.add((f_uri, RDFS.label, Literal(feature+\"_\"+patient_id)))\n",
    "\n",
    "    return g, uri"
   ]
  },
  {
   "cell_type": "code",
   "execution_count": 14,
   "metadata": {},
   "outputs": [
    {
     "name": "stdout",
     "output_type": "stream",
     "text": [
      "@prefix nvasc: <http://neurovasc#> .\n",
      "@prefix rdfs: <http://www.w3.org/2000/01/rdf-schema#> .\n",
      "@prefix sphn: <https://biomedit.ch/rdf/sphn-schema/sphn#> .\n",
      "@prefix xsd: <http://www.w3.org/2001/XMLSchema#> .\n",
      "\n",
      "nvasc:0719937c-c8a3-4cbc-aeaf-9d4150b4920d a sphn:Diagnosis ;\n",
      "    rdfs:label \"statin_ttt_Patient_0\" ;\n",
      "    sphn:hasCode 0 ;\n",
      "    sphn:hasSubjectPseudoIdentifier nvasc:Patient_0 .\n",
      "\n",
      "nvasc:1023bef9-13c1-46b5-80ca-d4c2ee96403d a sphn:Diagnosis ;\n",
      "    rdfs:label \"platelet_aggregation_inhibiting_ttt_Patient_0\" ;\n",
      "    sphn:hasCode 0 ;\n",
      "    sphn:hasSubjectPseudoIdentifier nvasc:Patient_0 .\n",
      "\n",
      "nvasc:2b25059d-fa9a-437f-aba2-1069d71cce78 a sphn:BodySurfaceArea ;\n",
      "    rdfs:label \"Adjusted_Size_Ratio_Patient_0\" ;\n",
      "    sphn:hasQuantity nvasc:523a30aa-0fe9-4d5d-b02e-3f0e5f6897a5 ;\n",
      "    sphn:hasSubjectPseudoIdentifier nvasc:Patient_0 .\n",
      "\n",
      "nvasc:33de826b-e05d-45ae-bcc8-b49cb5d6d523 a sphn:Diagnosis ;\n",
      "    rdfs:label \"IA_location_Patient_0\" ;\n",
      "    sphn:hasCode 2 ;\n",
      "    sphn:hasSubjectPseudoIdentifier nvasc:Patient_0 .\n",
      "\n",
      "nvasc:4188d01e-a501-4e61-b0eb-cf270c69cd92 a sphn:Diagnosis ;\n",
      "    rdfs:label \"rupture_Patient_0\" ;\n",
      "    sphn:hasCode \"0\" ;\n",
      "    sphn:hasSubjectPseudoIdentifier nvasc:Patient_0 .\n",
      "\n",
      "nvasc:430e18da-9c30-4104-a9c8-d2e4856cb035 a sphn:Age ;\n",
      "    rdfs:label \"Age_Patient_0\" ;\n",
      "    sphn:hasQuantity nvasc:306657ae-69cd-4052-a2c6-91412826cd69 ;\n",
      "    sphn:hasSubjectPseudoIdentifier nvasc:Patient_0 .\n",
      "\n",
      "nvasc:43a76ea8-959f-41ba-b90d-69deb46f22d8 a sphn:Diagnosis ;\n",
      "    rdfs:label \"alcohol_Patient_0\" ;\n",
      "    sphn:hasCode 0 ;\n",
      "    sphn:hasSubjectPseudoIdentifier nvasc:Patient_0 .\n",
      "\n",
      "nvasc:587876cb-4f62-4d37-95b9-e450968b945d a sphn:Diagnosis ;\n",
      "    rdfs:label \"hta_Patient_0\" ;\n",
      "    sphn:hasCode 0 ;\n",
      "    sphn:hasSubjectPseudoIdentifier nvasc:Patient_0 .\n",
      "\n",
      "nvasc:58a8b9b0-112a-4f4b-a9c1-55f1826f421e a sphn:Diagnosis ;\n",
      "    rdfs:label \"ischemic_stroke_history_Patient_0\" ;\n",
      "    sphn:hasCode 0 ;\n",
      "    sphn:hasSubjectPseudoIdentifier nvasc:Patient_0 .\n",
      "\n",
      "nvasc:5bb55aec-0d62-4859-a3bd-3eb2c3e2423c a sphn:Diagnosis ;\n",
      "    rdfs:label \"ischemic_heart_disease_history_Patient_0\" ;\n",
      "    sphn:hasCode 0 ;\n",
      "    sphn:hasSubjectPseudoIdentifier nvasc:Patient_0 .\n",
      "\n",
      "nvasc:5c25efde-2cb8-40b4-828b-d3381eef858f a sphn:Diagnosis ;\n",
      "    rdfs:label \"diabetes_Patient_0\" ;\n",
      "    sphn:hasCode 0e+00 ;\n",
      "    sphn:hasSubjectPseudoIdentifier nvasc:Patient_0 .\n",
      "\n",
      "nvasc:5c340e06-9c29-405c-b2ae-8eb6d8647578 a sphn:Diagnosis ;\n",
      "    rdfs:label \"aortic_aneurysm_history_Patient_0\" ;\n",
      "    sphn:hasCode \"0\" ;\n",
      "    sphn:hasSubjectPseudoIdentifier nvasc:Patient_0 .\n",
      "\n",
      "nvasc:60540e43-f851-43fe-9cd2-4846e89199bd a sphn:Diagnosis ;\n",
      "    rdfs:label \"carotid_artery_stenosis_history_Patient_0\" ;\n",
      "    sphn:hasCode \"0\" ;\n",
      "    sphn:hasSubjectPseudoIdentifier nvasc:Patient_0 .\n",
      "\n",
      "nvasc:7af5bad5-13a3-4678-942d-b09140dba5fc a sphn:Diagnosis ;\n",
      "    rdfs:label \"dyslipidemia_Patient_0\" ;\n",
      "    sphn:hasCode 0 ;\n",
      "    sphn:hasSubjectPseudoIdentifier nvasc:Patient_0 .\n",
      "\n",
      "nvasc:7becc476-c9c7-41a9-b457-dc535367db42 a sphn:Diagnosis ;\n",
      "    rdfs:label \"eczema_Patient_0\" ;\n",
      "    sphn:hasCode 0 ;\n",
      "    sphn:hasSubjectPseudoIdentifier nvasc:Patient_0 .\n",
      "\n",
      "nvasc:802c86f3-da29-455b-926a-c3df920b3f31 a sphn:Diagnosis ;\n",
      "    rdfs:label \"pad_history_Patient_0\" ;\n",
      "    sphn:hasCode 0 ;\n",
      "    sphn:hasSubjectPseudoIdentifier nvasc:Patient_0 .\n",
      "\n",
      "nvasc:850b7c43-c1fd-47ec-a483-7a2bf4483e54 a sphn:BodyMassIndex ;\n",
      "    rdfs:label \"BMI_Patient_0\" ;\n",
      "    sphn:hasQuantity nvasc:85b320d6-b1dc-4912-a9d3-e8935f4060e4 ;\n",
      "    sphn:hasSubjectPseudoIdentifier nvasc:Patient_0 .\n",
      "\n",
      "nvasc:8b0bee92-9396-476d-b45d-278201abc7ed a sphn:AdministrativeSex ;\n",
      "    rdfs:label \"Sex_Patient_0\" ;\n",
      "    sphn:hasCode 0 ;\n",
      "    sphn:hasSubjectPseudoIdentifier nvasc:Patient_0 .\n",
      "\n",
      "nvasc:96428ce2-d010-4377-8913-98c36d5d0ed0 a sphn:Diagnosis ;\n",
      "    rdfs:label \"hormone_therapy_ttt_Patient_0\" ;\n",
      "    sphn:hasCode 0 ;\n",
      "    sphn:hasSubjectPseudoIdentifier nvasc:Patient_0 .\n",
      "\n",
      "nvasc:a8dac599-aa8c-43b4-9db3-8c978b4e3380 a sphn:Diagnosis ;\n",
      "    rdfs:label \"multiple_IA_Patient_0\" ;\n",
      "    sphn:hasCode 0 ;\n",
      "    sphn:hasSubjectPseudoIdentifier nvasc:Patient_0 .\n",
      "\n",
      "nvasc:ab09fc28-b222-4a0c-a9f5-ce2784241ed8 a sphn:Diagnosis ;\n",
      "    rdfs:label \"atopy_Patient_0\" ;\n",
      "    sphn:hasCode 0 ;\n",
      "    sphn:hasSubjectPseudoIdentifier nvasc:Patient_0 .\n",
      "\n",
      "nvasc:ae6cf46e-5801-490a-ae1f-02ff8ccfd882 a sphn:Diagnosis ;\n",
      "    rdfs:label \"headaches_Patient_0\" ;\n",
      "    sphn:hasCode 0 ;\n",
      "    sphn:hasSubjectPseudoIdentifier nvasc:Patient_0 .\n",
      "\n",
      "nvasc:cbf29cb9-449e-4693-a02d-ce15de329c3e a sphn:Diagnosis ;\n",
      "    rdfs:label \"asthma_Patient_0\" ;\n",
      "    sphn:hasCode 1 ;\n",
      "    sphn:hasSubjectPseudoIdentifier nvasc:Patient_0 .\n",
      "\n",
      "nvasc:cd53c21e-2755-4bfa-9ec9-53b93158970c a sphn:Diagnosis ;\n",
      "    rdfs:label \"tobacco_Patient_0\" ;\n",
      "    sphn:hasCode 1 ;\n",
      "    sphn:hasSubjectPseudoIdentifier nvasc:Patient_0 .\n",
      "\n",
      "nvasc:d2c8a24b-51fa-48f1-aba8-11551de21ea6 a sphn:Diagnosis ;\n",
      "    rdfs:label \"vka_or_anticoagulant_ttt_Patient_0\" ;\n",
      "    sphn:hasCode \"0\" ;\n",
      "    sphn:hasSubjectPseudoIdentifier nvasc:Patient_0 .\n",
      "\n",
      "nvasc:d3699f6d-d47b-4970-85ea-0340945fb7e5 a sphn:Diagnosis ;\n",
      "    rdfs:label \"sporadic_case_Patient_0\" ;\n",
      "    sphn:hasCode 1 ;\n",
      "    sphn:hasSubjectPseudoIdentifier nvasc:Patient_0 .\n",
      "\n",
      "nvasc:d74fd332-a9e5-45ae-a8ef-9098d9cddada a sphn:Diagnosis ;\n",
      "    rdfs:label \"anti_inflammatory_ttt_Patient_0\" ;\n",
      "    sphn:hasCode \"0\" ;\n",
      "    sphn:hasSubjectPseudoIdentifier nvasc:Patient_0 .\n",
      "\n",
      "nvasc:fa0394d3-41d8-4c93-87a1-6e8c85b5602d a sphn:Diagnosis ;\n",
      "    rdfs:label \"allergy_Patient_0\" ;\n",
      "    sphn:hasCode 0 ;\n",
      "    sphn:hasSubjectPseudoIdentifier nvasc:Patient_0 .\n",
      "\n",
      "nvasc:306657ae-69cd-4052-a2c6-91412826cd69 a sphn:Quantity ;\n",
      "    rdfs:label \"Quantity\" ;\n",
      "    sphn:hasValue 56 .\n",
      "\n",
      "nvasc:523a30aa-0fe9-4d5d-b02e-3f0e5f6897a5 a sphn:Quantity ;\n",
      "    rdfs:label \"Quantity\" ;\n",
      "    sphn:hasValue 9e+00 .\n",
      "\n",
      "nvasc:85b320d6-b1dc-4912-a9d3-e8935f4060e4 a sphn:Quantity ;\n",
      "    rdfs:label \"Quantity\" ;\n",
      "    sphn:hasValue 2.987852e+01 .\n",
      "\n",
      "nvasc:Patient_0 a sphn:SubjectPseudoIdentifier ;\n",
      "    sphn:hasIdentifier \"Patient_0\" .\n",
      "\n",
      "\n",
      "http://neurovasc#Patient_0\n"
     ]
    }
   ],
   "source": [
    "g, uri = gen_patient_info(NVASC.Patient_0)\n",
    "print(g.serialize(format=\"turtle\"))\n",
    "print(uri)"
   ]
  },
  {
   "cell_type": "code",
   "execution_count": 15,
   "metadata": {},
   "outputs": [],
   "source": [
    "class MarkovChain_mat_time(object):\n",
    "    def __init__(self, transition_matrix, states, timing):\n",
    "        \"\"\"\n",
    "        Initialize the MarkovChain instance.\n",
    "        \"\"\"\n",
    "        self.transition_matrix = np.atleast_2d(transition_matrix)\n",
    "        self.states = states\n",
    "        self.timing = timing\n",
    "        self.index_dict = {self.states[index]: index for index in \n",
    "                           range(len(self.states))}\n",
    "        self.state_dict = {index: self.states[index] for index in\n",
    "                           range(len(self.states))}\n",
    "        self.kg = ConjunctiveGraph()\n",
    " \n",
    "    def next_state(self, current_state, current_timepoint):\n",
    "        \"\"\"\n",
    "        Returns the state of the random variable at the next time \n",
    "        instance, and the next timepoint. \n",
    "        \"\"\"\n",
    "        \n",
    "        duration_h = np.random.uniform(low=self.timing[current_state][0], high=self.timing[current_state][1])\n",
    "        delta = timedelta(hours = duration_h)\n",
    "        \n",
    "        next_timepoint = current_timepoint + delta\n",
    "        \n",
    "        return (\n",
    "            np.random.choice(\n",
    "                self.states, \n",
    "                p=self.transition_matrix[self.index_dict[current_state], :]\n",
    "            ), \n",
    "            next_timepoint\n",
    "        )\n",
    " \n",
    "    def generate_states(self, id, current_state, no=10, all_outputs=False):\n",
    "        \"\"\"\n",
    "        Generates the next states of the system.\n",
    "        \"\"\"\n",
    "        source_dest = []\n",
    "        future_states = []\n",
    "        current_time = gen_start_event()\n",
    "\n",
    "        g, uri_pred = gen_care_step(URIRef(str(NVASC)+id), current_state, current_time, current_time)\n",
    "        self.kg += g\n",
    "        states_uris = [uri_pred]\n",
    "        \n",
    "        for i in range(no):\n",
    "            next_state, next_time = self.next_state(current_state, current_time)\n",
    "            final = next_state in states[-3:]\n",
    "            if (next_state != current_state and not all_outputs) or (all_outputs and not final):\n",
    "                g, uri = gen_care_step(URIRef(str(NVASC)+id), next_state, current_time, next_time)\n",
    "                \n",
    "                self.kg += g\n",
    "                future_states.append((next_state,  next_time.strftime(\"%Y-%m-%d %H:%M:%S\")))\n",
    "                source_dest.append([current_state, next_state])\n",
    "                states_uris.append(uri)\n",
    "                \n",
    "                current_state = next_state\n",
    "                current_time = next_time\n",
    "                uri_pred = uri\n",
    "            else :\n",
    "                if all_outputs:\n",
    "                    y_test.append(states[-3:].index(next_state))\n",
    "                    for s in states[-3:]:\n",
    "                        g, uri = gen_care_step(None, s, current_time, next_time)\n",
    "                        self.kg += g\n",
    "                        states_uris.append(uri)\n",
    "\n",
    "                self.kg += gen_patient_info(URIRef(str(NVASC)+id))[0]\n",
    "                return future_states, source_dest, self.kg, states_uris\n",
    "                \n",
    "        return future_states, source_dest"
   ]
  },
  {
   "cell_type": "code",
   "execution_count": 16,
   "metadata": {},
   "outputs": [],
   "source": [
    "def add_temporal_relations(kg, uris, level):\n",
    "    for i in range(len(uris) - 1):\n",
    "        kg.add((uris[i], TIME.intervalMeets, uris[i+1]))\n",
    "\n",
    "    if level == 2:\n",
    "        for i in range(len(uris)-1, 0, -1):\n",
    "            kg.add((uris[i], TIME.intervalMetBy, uris[i-1]))\n",
    "        \n",
    "        for i in range(len(uris) - 1):\n",
    "            for j in range(i+2, len(uris)):\n",
    "                kg.add((uris[i], TIME.intervalBefore, uris[j]))\n",
    "        \n",
    "        for i in range(len(uris)-1, 0, -1):\n",
    "            for j in range(i-2, -1, -1):\n",
    "                kg.add((uris[i], TIME.intervalAfter, uris[j]))\n",
    "    \n",
    "    elif level == 3:\n",
    "        for i in range(len(uris) - 2):\n",
    "            kg.add((uris[i], TIME.intervalBefore, uris[i+2]))"
   ]
  },
  {
   "cell_type": "code",
   "execution_count": 17,
   "metadata": {},
   "outputs": [],
   "source": [
    "with open(\"../data/transition_parameters.json\") as js:\n",
    "    params = json.load(js)\n",
    "transition_matrix = np.zeros((13, 13))\n",
    "transition_matrix[0, 1:4] = params[\"headaches\"]\n",
    "transition_matrix[1:4] = [0, 0, 0, 0, 1, 0, 0, 0, 0, 0, 0, 0, 0]\n",
    "transition_matrix[4, 5:10] = params[\"angiography\"]\n",
    "transition_matrix[5, 10:] = params[\"occlusion\"]\n",
    "transition_matrix[6, 10:] = params[\"clipping\"]\n",
    "transition_matrix[7, 10:] = params[\"coiling\"]\n",
    "transition_matrix[8, 10:] = params[\"flowDiverter\"]\n",
    "transition_matrix[9, 10:] = params[\"web\"]\n",
    "transition_matrix[10, 10] = 1\n",
    "transition_matrix[11, 11] = 1\n",
    "transition_matrix[12, 12] = 1"
   ]
  },
  {
   "cell_type": "code",
   "execution_count": 18,
   "metadata": {},
   "outputs": [],
   "source": [
    "timing = {}\n",
    "timing['headache'] = (1, 168)\n",
    "timing['emergency'] = (1, 24)\n",
    "timing['samu'] = (1, 24)\n",
    "timing['transfer'] = (1, 24)\n",
    "timing['angiography'] = (1, 24)\n",
    "timing['occlusion'] = (1, 48)\n",
    "timing['clipping'] = (1, 48)\n",
    "timing['coiling'] = (1, 48)\n",
    "timing['flowDiverter'] = (1, 48)\n",
    "timing['web'] = (1, 48)\n",
    "timing['back2home'] = (1, 1)\n",
    "timing['reabilitation'] = (1, 1)\n",
    "timing['death'] = (1, 1)"
   ]
  },
  {
   "cell_type": "markdown",
   "metadata": {},
   "source": [
    "### 2. Creating train/test files"
   ]
  },
  {
   "cell_type": "code",
   "execution_count": 19,
   "metadata": {},
   "outputs": [
    {
     "data": {
      "application/vnd.jupyter.widget-view+json": {
       "model_id": "cf0ec03775f040b8a5bafe488f506f9b",
       "version_major": 2,
       "version_minor": 0
      },
      "text/plain": [
       "  0%|          | 0/80 [00:00<?, ?it/s]"
      ]
     },
     "metadata": {},
     "output_type": "display_data"
    },
    {
     "name": "stdout",
     "output_type": "stream",
     "text": [
      "12720 triples in the knowledge graph\n",
      "14000 triples in the knowledge graph\n",
      "12960 triples in the knowledge graph\n"
     ]
    }
   ],
   "source": [
    "stroke_pathway = MarkovChain_mat_time(\n",
    "    transition_matrix=transition_matrix,\n",
    "    states=states, \n",
    "    timing=timing)\n",
    "\n",
    "d = []\n",
    "kg = ConjunctiveGraph()\n",
    "kg.bind(\"nvasc\", NVASC)\n",
    "kg.bind(\"sphn\", SPHN)\n",
    "temp_uris = []\n",
    "training_size = int(0.8 * nb_samples)\n",
    "\n",
    "for i in tqdm(range(0, training_size)):\n",
    "    start = gen_start_event()\n",
    "    pws, source_dest, g, states_uris = stroke_pathway.generate_states(f'Patient_{i}','headache', 10)\n",
    "    kg += g\n",
    "    temp_uris += [states_uris]\n",
    "    for pw in pws:\n",
    "        row = (f\"Patient_{i}\",pw[0], pw[1])\n",
    "        d.append(row)\n",
    "    \n",
    "df_path = pd.DataFrame(d, columns=('Patient_ID', 'Exam', 'Date'))\n",
    "\n",
    "df_path.to_csv(\"pathway_data_train.csv\")\n",
    "\n",
    "for i in range(1, 4):\n",
    "    kg_temp = copy.deepcopy(kg)\n",
    "    for p in range(training_size):\n",
    "        add_temporal_relations(kg_temp, temp_uris[p], level=i)\n",
    "    with open(f\"graph_sphn_{i}_train.xml\", \"w\") as text_file:\n",
    "        text_file.write(kg_temp.serialize(format=\"nt\").replace(\" .\\n\", \"\\n\").replace(\" \", \"\\t\"))\n",
    "    with open(f\"graph_sphn_{i}_train.ttl\", \"w\") as text_file:\n",
    "        text_file.write(kg_temp.serialize(format=\"ttl\"))\n",
    "    print(f\"{len(kg_temp)} triples in the knowledge graph\")"
   ]
  },
  {
   "cell_type": "code",
   "execution_count": 20,
   "metadata": {},
   "outputs": [
    {
     "data": {
      "application/vnd.jupyter.widget-view+json": {
       "model_id": "7a4d70e3851e45d59485dbac1e710729",
       "version_major": 2,
       "version_minor": 0
      },
      "text/plain": [
       "  0%|          | 0/20 [00:00<?, ?it/s]"
      ]
     },
     "metadata": {},
     "output_type": "display_data"
    },
    {
     "name": "stdout",
     "output_type": "stream",
     "text": [
      "3340 triples in the knowledge graph\n",
      "3520 triples in the knowledge graph\n",
      "3380 triples in the knowledge graph\n"
     ]
    }
   ],
   "source": [
    "stroke_pathway = MarkovChain_mat_time(\n",
    "    transition_matrix=transition_matrix,\n",
    "    states=states, \n",
    "    timing=timing)\n",
    "\n",
    "d = []\n",
    "kg = ConjunctiveGraph()\n",
    "kg.bind(\"nvasc\", NVASC)\n",
    "kg.bind(\"sphn\", SPHN)\n",
    "temp_uris = []\n",
    "y_test = []\n",
    "\n",
    "for i in tqdm(range(training_size, nb_samples)):\n",
    "    start = gen_start_event()\n",
    "    pws, source_dest, g, states_uris = stroke_pathway.generate_states(f'Patient_{i}','headache', 10, all_outputs=True)\n",
    "    kg += g\n",
    "    temp_uris += [states_uris]\n",
    "    for pw in pws:\n",
    "        row = (f\"Patient_{i}\",pw[0], pw[1])\n",
    "        d.append(row)\n",
    "    \n",
    "df_path = pd.DataFrame(d, columns=('Patient_ID', 'Exam', 'Date'))\n",
    "\n",
    "df_path.to_csv(\"pathway_data_test.csv\")\n",
    "\n",
    "for i in range(1, 4):\n",
    "    kg_temp = copy.deepcopy(kg)\n",
    "    for p in range(training_size, nb_samples):\n",
    "        add_temporal_relations(kg_temp, temp_uris[p-training_size][:4], level=i)\n",
    "    with open(f\"graph_sphn_{i}_test.xml\", \"w\") as text_file:\n",
    "        text_file.write(kg_temp.serialize(format=\"nt\").replace(\" .\\n\", \"\\n\").replace(\" \", \"\\t\"))\n",
    "    with open(f\"graph_sphn_{i}_test.ttl\", \"w\") as text_file:\n",
    "        text_file.write(kg_temp.serialize(format=\"ttl\"))\n",
    "    print(f\"{len(kg_temp)} triples in the knowledge graph\")"
   ]
  },
  {
   "cell_type": "markdown",
   "metadata": {},
   "source": [
    "### 3. Training the models"
   ]
  },
  {
   "cell_type": "code",
   "execution_count": 21,
   "metadata": {},
   "outputs": [],
   "source": [
    "VERSION = 3"
   ]
  },
  {
   "cell_type": "code",
   "execution_count": 22,
   "metadata": {},
   "outputs": [
    {
     "name": "stderr",
     "output_type": "stream",
     "text": [
      "/home/ameginag/.local/lib/python3.10/site-packages/torch/cuda/__init__.py:118: UserWarning: CUDA initialization: CUDA unknown error - this may be due to an incorrectly set up environment, e.g. changing env variable CUDA_VISIBLE_DEVICES after program start. Setting the available devices to be zero. (Triggered internally at ../c10/cuda/CUDAFunctions.cpp:108.)\n",
      "  return torch._C._cuda_getDeviceCount() > 0\n"
     ]
    },
    {
     "data": {
      "text/plain": [
       "False"
      ]
     },
     "execution_count": 22,
     "metadata": {},
     "output_type": "execute_result"
    }
   ],
   "source": [
    "torch.cuda.is_available()"
   ]
  },
  {
   "cell_type": "code",
   "execution_count": 23,
   "metadata": {},
   "outputs": [],
   "source": [
    "training = TriplesFactory.from_path(\n",
    "    path = f\"./graph_sphn_{VERSION}_train.xml\",\n",
    "    create_inverse_triples=True,\n",
    ")\n",
    "\n",
    "testing = TriplesFactory.from_path(\n",
    "    path = f\"./graph_sphn_{VERSION}_test.xml\", \n",
    "    relation_to_id=training.relation_to_id,\n",
    ")"
   ]
  },
  {
   "cell_type": "code",
   "execution_count": 24,
   "metadata": {},
   "outputs": [
    {
     "data": {
      "application/vnd.jupyter.widget-view+json": {
       "model_id": "56c043e875fe4dcc961335cca1157e79",
       "version_major": 2,
       "version_minor": 0
      },
      "text/plain": [
       "sampling:   0%|          | 0.00/5.91k [00:00<?, ?it/s]"
      ]
     },
     "metadata": {},
     "output_type": "display_data"
    },
    {
     "name": "stderr",
     "output_type": "stream",
     "text": [
      "No symbolic computation of output shape.\n"
     ]
    },
    {
     "data": {
      "application/vnd.jupyter.widget-view+json": {
       "model_id": "4c0077c4fdb94141b1bd392f816ffabf",
       "version_major": 2,
       "version_minor": 0
      },
      "text/plain": [
       "sampling:   0%|          | 0.00/1.56k [00:00<?, ?it/s]"
      ]
     },
     "metadata": {},
     "output_type": "display_data"
    },
    {
     "name": "stderr",
     "output_type": "stream",
     "text": [
      "No symbolic computation of output shape.\n"
     ]
    },
    {
     "data": {
      "application/vnd.jupyter.widget-view+json": {
       "model_id": "b226016849fc4fb0ae3be22b4e00e61b",
       "version_major": 2,
       "version_minor": 0
      },
      "text/plain": [
       "Training epochs on cpu:   0%|          | 0/10 [00:00<?, ?epoch/s]"
      ]
     },
     "metadata": {},
     "output_type": "display_data"
    },
    {
     "data": {
      "application/vnd.jupyter.widget-view+json": {
       "model_id": "e3a932ae2bfd4d358dd38c7265c16601",
       "version_major": 2,
       "version_minor": 0
      },
      "text/plain": [
       "Training batches on cpu:   0%|          | 0/101 [00:00<?, ?batch/s]"
      ]
     },
     "metadata": {},
     "output_type": "display_data"
    },
    {
     "data": {
      "application/vnd.jupyter.widget-view+json": {
       "model_id": "228f2fd51b7f4824bacf16289fc9f284",
       "version_major": 2,
       "version_minor": 0
      },
      "text/plain": [
       "Evaluating on cpu:   0%|          | 0.00/3.38k [00:00<?, ?triple/s]"
      ]
     },
     "metadata": {},
     "output_type": "display_data"
    },
    {
     "name": "stderr",
     "output_type": "stream",
     "text": [
      "Encountered tensors on device_types={'cpu'} while only ['cuda'] are considered safe for automatic memory utilization maximization. This may lead to undocumented crashes (but can be safe, too).\n"
     ]
    },
    {
     "data": {
      "application/vnd.jupyter.widget-view+json": {
       "model_id": "2df57e625812450da7e0ae40a3946bf8",
       "version_major": 2,
       "version_minor": 0
      },
      "text/plain": [
       "Training batches on cpu:   0%|          | 0/101 [00:00<?, ?batch/s]"
      ]
     },
     "metadata": {},
     "output_type": "display_data"
    },
    {
     "data": {
      "application/vnd.jupyter.widget-view+json": {
       "model_id": "a564435bdfa14bb39de15116891ea929",
       "version_major": 2,
       "version_minor": 0
      },
      "text/plain": [
       "Evaluating on cpu:   0%|          | 0.00/3.38k [00:00<?, ?triple/s]"
      ]
     },
     "metadata": {},
     "output_type": "display_data"
    },
    {
     "name": "stderr",
     "output_type": "stream",
     "text": [
      "Encountered tensors on device_types={'cpu'} while only ['cuda'] are considered safe for automatic memory utilization maximization. This may lead to undocumented crashes (but can be safe, too).\n"
     ]
    },
    {
     "data": {
      "application/vnd.jupyter.widget-view+json": {
       "model_id": "9712e00c90b148f389cd76c4eab6a377",
       "version_major": 2,
       "version_minor": 0
      },
      "text/plain": [
       "Training batches on cpu:   0%|          | 0/101 [00:00<?, ?batch/s]"
      ]
     },
     "metadata": {},
     "output_type": "display_data"
    },
    {
     "data": {
      "application/vnd.jupyter.widget-view+json": {
       "model_id": "ca00eb1d27ee4de39407cb718dacf357",
       "version_major": 2,
       "version_minor": 0
      },
      "text/plain": [
       "Evaluating on cpu:   0%|          | 0.00/3.38k [00:00<?, ?triple/s]"
      ]
     },
     "metadata": {},
     "output_type": "display_data"
    },
    {
     "name": "stderr",
     "output_type": "stream",
     "text": [
      "Encountered tensors on device_types={'cpu'} while only ['cuda'] are considered safe for automatic memory utilization maximization. This may lead to undocumented crashes (but can be safe, too).\n"
     ]
    },
    {
     "data": {
      "application/vnd.jupyter.widget-view+json": {
       "model_id": "159faa6260ed473d802658bf81a8b8d5",
       "version_major": 2,
       "version_minor": 0
      },
      "text/plain": [
       "Training batches on cpu:   0%|          | 0/101 [00:00<?, ?batch/s]"
      ]
     },
     "metadata": {},
     "output_type": "display_data"
    },
    {
     "data": {
      "application/vnd.jupyter.widget-view+json": {
       "model_id": "8b93a9469b9a42c2a5a96bf01891c0ec",
       "version_major": 2,
       "version_minor": 0
      },
      "text/plain": [
       "Evaluating on cpu:   0%|          | 0.00/3.38k [00:00<?, ?triple/s]"
      ]
     },
     "metadata": {},
     "output_type": "display_data"
    },
    {
     "name": "stderr",
     "output_type": "stream",
     "text": [
      "Encountered tensors on device_types={'cpu'} while only ['cuda'] are considered safe for automatic memory utilization maximization. This may lead to undocumented crashes (but can be safe, too).\n"
     ]
    },
    {
     "data": {
      "application/vnd.jupyter.widget-view+json": {
       "model_id": "513c7480fa65414cb1a03054d1950845",
       "version_major": 2,
       "version_minor": 0
      },
      "text/plain": [
       "Training batches on cpu:   0%|          | 0/101 [00:00<?, ?batch/s]"
      ]
     },
     "metadata": {},
     "output_type": "display_data"
    },
    {
     "data": {
      "application/vnd.jupyter.widget-view+json": {
       "model_id": "35c624228cf444ea9fb8e128b077ad14",
       "version_major": 2,
       "version_minor": 0
      },
      "text/plain": [
       "Evaluating on cpu:   0%|          | 0.00/3.38k [00:00<?, ?triple/s]"
      ]
     },
     "metadata": {},
     "output_type": "display_data"
    },
    {
     "name": "stderr",
     "output_type": "stream",
     "text": [
      "Encountered tensors on device_types={'cpu'} while only ['cuda'] are considered safe for automatic memory utilization maximization. This may lead to undocumented crashes (but can be safe, too).\n"
     ]
    },
    {
     "data": {
      "application/vnd.jupyter.widget-view+json": {
       "model_id": "73eee5f46c56443c81c482c9602b7fdb",
       "version_major": 2,
       "version_minor": 0
      },
      "text/plain": [
       "Training batches on cpu:   0%|          | 0/101 [00:00<?, ?batch/s]"
      ]
     },
     "metadata": {},
     "output_type": "display_data"
    },
    {
     "data": {
      "application/vnd.jupyter.widget-view+json": {
       "model_id": "c97961ca0ff94ad1b55b912b1a455f93",
       "version_major": 2,
       "version_minor": 0
      },
      "text/plain": [
       "Evaluating on cpu:   0%|          | 0.00/3.38k [00:00<?, ?triple/s]"
      ]
     },
     "metadata": {},
     "output_type": "display_data"
    },
    {
     "name": "stderr",
     "output_type": "stream",
     "text": [
      "Encountered tensors on device_types={'cpu'} while only ['cuda'] are considered safe for automatic memory utilization maximization. This may lead to undocumented crashes (but can be safe, too).\n"
     ]
    },
    {
     "data": {
      "application/vnd.jupyter.widget-view+json": {
       "model_id": "bf284b0370854e55b55d07258285e7ac",
       "version_major": 2,
       "version_minor": 0
      },
      "text/plain": [
       "Training batches on cpu:   0%|          | 0/101 [00:00<?, ?batch/s]"
      ]
     },
     "metadata": {},
     "output_type": "display_data"
    },
    {
     "data": {
      "application/vnd.jupyter.widget-view+json": {
       "model_id": "6efa911887f7421ea4e94903eb964289",
       "version_major": 2,
       "version_minor": 0
      },
      "text/plain": [
       "Evaluating on cpu:   0%|          | 0.00/3.38k [00:00<?, ?triple/s]"
      ]
     },
     "metadata": {},
     "output_type": "display_data"
    },
    {
     "name": "stderr",
     "output_type": "stream",
     "text": [
      "Encountered tensors on device_types={'cpu'} while only ['cuda'] are considered safe for automatic memory utilization maximization. This may lead to undocumented crashes (but can be safe, too).\n"
     ]
    },
    {
     "data": {
      "application/vnd.jupyter.widget-view+json": {
       "model_id": "464f5ca55a094ccdb9397a1851c92a2f",
       "version_major": 2,
       "version_minor": 0
      },
      "text/plain": [
       "Training batches on cpu:   0%|          | 0/101 [00:00<?, ?batch/s]"
      ]
     },
     "metadata": {},
     "output_type": "display_data"
    },
    {
     "data": {
      "application/vnd.jupyter.widget-view+json": {
       "model_id": "ba8d4e264a3940bc8505ca8a8cbdbe0d",
       "version_major": 2,
       "version_minor": 0
      },
      "text/plain": [
       "Evaluating on cpu:   0%|          | 0.00/3.38k [00:00<?, ?triple/s]"
      ]
     },
     "metadata": {},
     "output_type": "display_data"
    },
    {
     "name": "stderr",
     "output_type": "stream",
     "text": [
      "Encountered tensors on device_types={'cpu'} while only ['cuda'] are considered safe for automatic memory utilization maximization. This may lead to undocumented crashes (but can be safe, too).\n"
     ]
    },
    {
     "data": {
      "application/vnd.jupyter.widget-view+json": {
       "model_id": "30f1a6031c2543d5bea003ee102f29d7",
       "version_major": 2,
       "version_minor": 0
      },
      "text/plain": [
       "Training batches on cpu:   0%|          | 0/101 [00:00<?, ?batch/s]"
      ]
     },
     "metadata": {},
     "output_type": "display_data"
    },
    {
     "data": {
      "application/vnd.jupyter.widget-view+json": {
       "model_id": "fcd4eaefbb66406793b1d7fc438e1ea9",
       "version_major": 2,
       "version_minor": 0
      },
      "text/plain": [
       "Evaluating on cpu:   0%|          | 0.00/3.38k [00:00<?, ?triple/s]"
      ]
     },
     "metadata": {},
     "output_type": "display_data"
    },
    {
     "name": "stderr",
     "output_type": "stream",
     "text": [
      "Encountered tensors on device_types={'cpu'} while only ['cuda'] are considered safe for automatic memory utilization maximization. This may lead to undocumented crashes (but can be safe, too).\n"
     ]
    },
    {
     "data": {
      "application/vnd.jupyter.widget-view+json": {
       "model_id": "41b49f0ec71e4f669b3840f092dc3e82",
       "version_major": 2,
       "version_minor": 0
      },
      "text/plain": [
       "Training batches on cpu:   0%|          | 0/101 [00:00<?, ?batch/s]"
      ]
     },
     "metadata": {},
     "output_type": "display_data"
    },
    {
     "data": {
      "application/vnd.jupyter.widget-view+json": {
       "model_id": "eaaedb2d17034a8fa504d90b0cf0ed03",
       "version_major": 2,
       "version_minor": 0
      },
      "text/plain": [
       "Evaluating on cpu:   0%|          | 0.00/3.38k [00:00<?, ?triple/s]"
      ]
     },
     "metadata": {},
     "output_type": "display_data"
    },
    {
     "name": "stderr",
     "output_type": "stream",
     "text": [
      "Encountered tensors on device_types={'cpu'} while only ['cuda'] are considered safe for automatic memory utilization maximization. This may lead to undocumented crashes (but can be safe, too).\n"
     ]
    },
    {
     "data": {
      "application/vnd.jupyter.widget-view+json": {
       "model_id": "7552ccd580044df2922be11a2ad99e69",
       "version_major": 2,
       "version_minor": 0
      },
      "text/plain": [
       "Evaluating on cpu:   0%|          | 0.00/3.38k [00:00<?, ?triple/s]"
      ]
     },
     "metadata": {},
     "output_type": "display_data"
    },
    {
     "name": "stderr",
     "output_type": "stream",
     "text": [
      "Encountered tensors on device_types={'cpu'} while only ['cuda'] are considered safe for automatic memory utilization maximization. This may lead to undocumented crashes (but can be safe, too).\n"
     ]
    },
    {
     "name": "stdout",
     "output_type": "stream",
     "text": [
      "{'head.optimistic.adjusted_arithmetic_mean_rank_index': 0.824698224852071, 'tail.optimistic.adjusted_arithmetic_mean_rank_index': 0.9434674556213019, 'both.optimistic.adjusted_arithmetic_mean_rank_index': 0.8840828402366865, 'head.realistic.adjusted_arithmetic_mean_rank_index': 0.8246804809570313, 'tail.realistic.adjusted_arithmetic_mean_rank_index': 0.9433846187591552, 'both.realistic.adjusted_arithmetic_mean_rank_index': 0.8840325450897217, 'head.pessimistic.adjusted_arithmetic_mean_rank_index': 0.8246627218934912, 'tail.pessimistic.adjusted_arithmetic_mean_rank_index': 0.943301775147929, 'both.pessimistic.adjusted_arithmetic_mean_rank_index': 0.8839822485207101, 'head.optimistic.z_inverse_harmonic_mean_rank': 151.69121720973612, 'tail.optimistic.z_inverse_harmonic_mean_rank': 258.6669119204939, 'both.optimistic.z_inverse_harmonic_mean_rank': 290.16701582301044, 'head.realistic.z_inverse_harmonic_mean_rank': 151.61670161373348, 'tail.realistic.z_inverse_harmonic_mean_rank': 258.58284387229594, 'both.realistic.z_inverse_harmonic_mean_rank': 290.05489606227695, 'head.pessimistic.z_inverse_harmonic_mean_rank': 151.5792307063523, 'tail.pessimistic.z_inverse_harmonic_mean_rank': 258.5299848120397, 'both.pessimistic.z_inverse_harmonic_mean_rank': 289.99100732015023, 'head.optimistic.count': 3380.0, 'tail.optimistic.count': 3380.0, 'both.optimistic.count': 6760.0, 'head.realistic.count': 3380.0, 'tail.realistic.count': 3380.0, 'both.realistic.count': 6760.0, 'head.pessimistic.count': 3380.0, 'tail.pessimistic.count': 3380.0, 'both.pessimistic.count': 6760.0, 'head.optimistic.standard_deviation': 5.587400505933955, 'tail.optimistic.standard_deviation': 3.262917020325641, 'both.optimistic.standard_deviation': 4.810085112329881, 'head.realistic.standard_deviation': 5.587310314178467, 'tail.realistic.standard_deviation': 3.265939712524414, 'both.realistic.standard_deviation': 4.810807228088379, 'head.pessimistic.standard_deviation': 5.587260239070431, 'tail.pessimistic.standard_deviation': 3.2692746656936773, 'both.pessimistic.standard_deviation': 4.81165988084884, 'head.optimistic.arithmetic_mean_rank': 5.382544378698225, 'tail.optimistic.arithmetic_mean_rank': 2.4133136094674557, 'both.optimistic.arithmetic_mean_rank': 3.8979289940828403, 'head.realistic.arithmetic_mean_rank': 5.382987976074219, 'tail.realistic.arithmetic_mean_rank': 2.415384531021118, 'both.realistic.arithmetic_mean_rank': 3.899186372756958, 'head.pessimistic.arithmetic_mean_rank': 5.383431952662722, 'tail.pessimistic.arithmetic_mean_rank': 2.4174556213017753, 'both.pessimistic.arithmetic_mean_rank': 3.9004437869822484, 'head.optimistic.median_rank': 3.0, 'tail.optimistic.median_rank': 1.0, 'both.optimistic.median_rank': 1.0, 'head.realistic.median_rank': 3.0, 'tail.realistic.median_rank': 1.0, 'both.realistic.median_rank': 1.0, 'head.pessimistic.median_rank': 3.0, 'tail.pessimistic.median_rank': 1.0, 'both.pessimistic.median_rank': 1.0, 'head.optimistic.z_arithmetic_mean_rank': 81.43242493149171, 'tail.optimistic.z_arithmetic_mean_rank': 93.15994680232056, 'both.optimistic.z_arithmetic_mean_rank': 123.45544999642114, 'head.realistic.z_arithmetic_mean_rank': 81.43067286224107, 'tail.realistic.z_arithmetic_mean_rank': 93.15176731756478, 'both.realistic.z_arithmetic_mean_rank': 123.44842666136863, 'head.pessimistic.z_arithmetic_mean_rank': 81.42891929522104, 'tail.pessimistic.z_arithmetic_mean_rank': 93.14358716639074, 'both.pessimistic.z_arithmetic_mean_rank': 123.44140312773806, 'head.optimistic.harmonic_mean_rank': 2.028391102477029, 'tail.optimistic.harmonic_mean_rank': 1.2850320000377708, 'both.optimistic.harmonic_mean_rank': 1.5733260707312482, 'head.realistic.harmonic_mean_rank': 2.0292087639112464, 'tail.realistic.harmonic_mean_rank': 1.2854021961499877, 'both.realistic.harmonic_mean_rank': 1.5738494264721499, 'head.pessimistic.harmonic_mean_rank': 2.0296201822258535, 'tail.pessimistic.harmonic_mean_rank': 1.2856350718082452, 'both.pessimistic.harmonic_mean_rank': 1.5741478038798158, 'head.optimistic.inverse_harmonic_mean_rank': 0.4930015709390663, 'tail.optimistic.inverse_harmonic_mean_rank': 0.7781907376396907, 'both.optimistic.inverse_harmonic_mean_rank': 0.6355961542893784, 'head.realistic.inverse_harmonic_mean_rank': 0.49280291795730585, 'tail.realistic.inverse_harmonic_mean_rank': 0.7779666185379028, 'both.realistic.inverse_harmonic_mean_rank': 0.6353847980499268, 'head.pessimistic.inverse_harmonic_mean_rank': 0.4927030233328264, 'tail.pessimistic.inverse_harmonic_mean_rank': 0.7778257002537279, 'both.pessimistic.inverse_harmonic_mean_rank': 0.6352643617932772, 'head.optimistic.median_absolute_deviation': 2.965204437011204, 'tail.optimistic.median_absolute_deviation': 0.0, 'both.optimistic.median_absolute_deviation': 0.0, 'head.realistic.median_absolute_deviation': 2.965204437011204, 'tail.realistic.median_absolute_deviation': 0.0, 'both.realistic.median_absolute_deviation': 0.0, 'head.pessimistic.median_absolute_deviation': 2.965204437011204, 'tail.pessimistic.median_absolute_deviation': 0.0, 'both.pessimistic.median_absolute_deviation': 0.0, 'head.optimistic.adjusted_geometric_mean_rank_index': 0.8853225963730849, 'tail.optimistic.adjusted_geometric_mean_rank_index': 0.9699235682675634, 'both.optimistic.adjusted_geometric_mean_rank_index': 0.9349684958737741, 'head.realistic.adjusted_geometric_mean_rank_index': 0.8852799503608421, 'tail.realistic.adjusted_geometric_mean_rank_index': 0.969878628782607, 'both.realistic.adjusted_geometric_mean_rank_index': 0.9349215602627224, 'head.pessimistic.adjusted_geometric_mean_rank_index': 0.8852490658790042, 'tail.pessimistic.adjusted_geometric_mean_rank_index': 0.9698410065055432, 'both.pessimistic.adjusted_geometric_mean_rank_index': 0.9348839727485406, 'head.optimistic.z_geometric_mean_rank': 55.443343850777836, 'tail.optimistic.z_geometric_mean_rank': 60.7414812687896, 'both.optimistic.z_geometric_mean_rank': 82.80029728258164, 'head.realistic.z_geometric_mean_rank': 55.44067314347823, 'tail.realistic.z_geometric_mean_rank': 60.7386669327192, 'both.realistic.z_geometric_mean_rank': 82.79614069060516, 'head.pessimistic.z_geometric_mean_rank': 55.43873900223615, 'tail.pessimistic.z_geometric_mean_rank': 60.7363108369274, 'both.pessimistic.z_geometric_mean_rank': 82.7928119609612, 'head.optimistic.inverse_geometric_mean_rank': 0.31621250158547887, 'tail.optimistic.inverse_geometric_mean_rank': 0.63810492351707, 'both.optimistic.inverse_geometric_mean_rank': 0.4491956746667797, 'head.realistic.inverse_geometric_mean_rank': 0.316132128238678, 'tail.realistic.inverse_geometric_mean_rank': 0.6377600431442261, 'both.realistic.inverse_geometric_mean_rank': 0.44901716709136963, 'head.pessimistic.inverse_geometric_mean_rank': 0.3160739219373641, 'tail.pessimistic.inverse_geometric_mean_rank': 0.6374716429113639, 'both.pessimistic.inverse_geometric_mean_rank': 0.44887432795700144, 'head.optimistic.adjusted_arithmetic_mean_rank': 0.20702093764223944, 'tail.optimistic.adjusted_arithmetic_mean_rank': 0.09281975421028676, 'both.optimistic.adjusted_arithmetic_mean_rank': 0.1499203459262631, 'head.realistic.adjusted_arithmetic_mean_rank': 0.20703799907977766, 'tail.realistic.adjusted_arithmetic_mean_rank': 0.09289940503927378, 'both.realistic.adjusted_arithmetic_mean_rank': 0.1499687066444984, 'head.pessimistic.adjusted_arithmetic_mean_rank': 0.2070550751024124, 'tail.pessimistic.adjusted_arithmetic_mean_rank': 0.09297906235776059, 'both.pessimistic.adjusted_arithmetic_mean_rank': 0.1500170687300865, 'head.optimistic.adjusted_inverse_harmonic_mean_rank': 0.44371214136473475, 'tail.optimistic.adjusted_inverse_harmonic_mean_rank': 0.7566268601415044, 'both.optimistic.adjusted_inverse_harmonic_mean_rank': 0.6001695007531195, 'head.realistic.adjusted_inverse_harmonic_mean_rank': 0.4434941757153347, 'tail.realistic.adjusted_inverse_harmonic_mean_rank': 0.7563809526039924, 'both.realistic.adjusted_inverse_harmonic_mean_rank': 0.5999375968593115, 'head.pessimistic.adjusted_inverse_harmonic_mean_rank': 0.4433845695241602, 'tail.pessimistic.adjusted_inverse_harmonic_mean_rank': 0.7562263345104187, 'both.pessimistic.adjusted_inverse_harmonic_mean_rank': 0.5998054520172895, 'head.optimistic.variance': 31.21904441371101, 'tail.optimistic.variance': 10.646627481530759, 'both.optimistic.variance': 23.13691878785757, 'head.realistic.variance': 31.21803855895996, 'tail.realistic.variance': 10.666362762451172, 'both.realistic.variance': 23.14386558532715, 'head.pessimistic.variance': 31.21747697909737, 'tail.pessimistic.variance': 10.688156839746506, 'both.pessimistic.variance': 23.152070808970272, 'head.optimistic.inverse_median_rank': 0.3333333333333333, 'tail.optimistic.inverse_median_rank': 1.0, 'both.optimistic.inverse_median_rank': 1.0, 'head.realistic.inverse_median_rank': 0.3333333432674408, 'tail.realistic.inverse_median_rank': 1.0, 'both.realistic.inverse_median_rank': 1.0, 'head.pessimistic.inverse_median_rank': 0.3333333333333333, 'tail.pessimistic.inverse_median_rank': 1.0, 'both.pessimistic.inverse_median_rank': 1.0, 'head.optimistic.inverse_arithmetic_mean_rank': 0.18578574176881218, 'tail.optimistic.inverse_arithmetic_mean_rank': 0.41436802746107637, 'both.optimistic.inverse_arithmetic_mean_rank': 0.25654648956356735, 'head.realistic.inverse_arithmetic_mean_rank': 0.1857704371213913, 'tail.realistic.inverse_arithmetic_mean_rank': 0.41401275992393494, 'both.realistic.inverse_arithmetic_mean_rank': 0.25646376609802246, 'head.pessimistic.inverse_arithmetic_mean_rank': 0.18575511101340955, 'tail.pessimistic.inverse_arithmetic_mean_rank': 0.4136580589891078, 'both.pessimistic.inverse_arithmetic_mean_rank': 0.2563810824136231, 'head.optimistic.geometric_mean_rank': 3.1624303118505233, 'tail.optimistic.geometric_mean_rank': 1.5671403920349924, 'both.optimistic.geometric_mean_rank': 2.226201311359054, 'head.realistic.geometric_mean_rank': 3.1632344722747803, 'tail.realistic.geometric_mean_rank': 1.5679877996444702, 'both.realistic.geometric_mean_rank': 2.227086305618286, 'head.pessimistic.geometric_mean_rank': 3.1638168497753147, 'tail.pessimistic.geometric_mean_rank': 1.5686972293119603, 'both.pessimistic.geometric_mean_rank': 2.2277950368678514, 'head.optimistic.hits_at_1': 0.34289940828402365, 'tail.optimistic.hits_at_1': 0.6816568047337278, 'both.optimistic.hits_at_1': 0.5122781065088757, 'head.realistic.hits_at_1': 0.3423076923076923, 'tail.realistic.hits_at_1': 0.6813609467455621, 'both.realistic.hits_at_1': 0.5118343195266272, 'head.pessimistic.hits_at_1': 0.3423076923076923, 'tail.pessimistic.hits_at_1': 0.6813609467455621, 'both.pessimistic.hits_at_1': 0.5118343195266272, 'head.optimistic.hits_at_3': 0.5606508875739645, 'tail.optimistic.hits_at_3': 0.8455621301775148, 'both.optimistic.hits_at_3': 0.7031065088757397, 'head.realistic.hits_at_3': 0.5606508875739645, 'tail.realistic.hits_at_3': 0.8449704142011835, 'both.realistic.hits_at_3': 0.702810650887574, 'head.pessimistic.hits_at_3': 0.5606508875739645, 'tail.pessimistic.hits_at_3': 0.8449704142011835, 'both.pessimistic.hits_at_3': 0.702810650887574, 'head.optimistic.hits_at_5': 0.6680473372781065, 'tail.optimistic.hits_at_5': 0.8946745562130177, 'both.optimistic.hits_at_5': 0.7813609467455621, 'head.realistic.hits_at_5': 0.6680473372781065, 'tail.realistic.hits_at_5': 0.8946745562130177, 'both.realistic.hits_at_5': 0.7813609467455621, 'head.pessimistic.hits_at_5': 0.6680473372781065, 'tail.pessimistic.hits_at_5': 0.8946745562130177, 'both.pessimistic.hits_at_5': 0.7813609467455621, 'head.optimistic.hits_at_10': 0.8047337278106509, 'tail.optimistic.hits_at_10': 0.9488165680473373, 'both.optimistic.hits_at_10': 0.8767751479289941, 'head.realistic.hits_at_10': 0.8044378698224852, 'tail.realistic.hits_at_10': 0.9488165680473373, 'both.realistic.hits_at_10': 0.8766272189349112, 'head.pessimistic.hits_at_10': 0.8044378698224852, 'tail.pessimistic.hits_at_10': 0.9488165680473373, 'both.pessimistic.hits_at_10': 0.8766272189349112, 'head.optimistic.z_hits_at_k': 89.12673627517614, 'tail.optimistic.z_hits_at_k': 110.22510406841432, 'both.optimistic.z_hits_at_k': 140.96303814897078, 'head.realistic.z_hits_at_k': 89.0834131380237, 'tail.realistic.z_hits_at_k': 110.22510406841432, 'both.realistic.z_hits_at_k': 140.93240406490798, 'head.pessimistic.z_hits_at_k': 89.0834131380237, 'tail.pessimistic.z_hits_at_k': 110.22510406841432, 'both.pessimistic.z_hits_at_k': 140.93240406490798, 'head.optimistic.adjusted_hits_at_k': 0.7571078077644683, 'tail.optimistic.adjusted_hits_at_k': 0.9363328041564439, 'both.optimistic.adjusted_hits_at_k': 0.8467203059604561, 'head.realistic.adjusted_hits_at_k': 0.7567397892913842, 'tail.realistic.adjusted_hits_at_k': 0.9363328041564439, 'both.realistic.adjusted_hits_at_k': 0.8465362967239142, 'head.pessimistic.adjusted_hits_at_k': 0.7567397892913842, 'tail.pessimistic.adjusted_hits_at_k': 0.9363328041564439, 'both.pessimistic.adjusted_hits_at_k': 0.8465362967239142}\n"
     ]
    }
   ],
   "source": [
    "model = InductiveNodePieceGNN(\n",
    "    triples_factory=training,\n",
    "    inference_factory=testing,\n",
    "    num_tokens=12,\n",
    "    aggregation=\"mlp\",\n",
    "    loss=MarginRankingLoss,\n",
    "    random_seed=42,\n",
    "    gnn_encoder=None,\n",
    ")\n",
    "\n",
    "optimizer = Adam(params=model.parameters(), lr=0.0005)\n",
    "\n",
    "training_loop = SLCWATrainingLoop(\n",
    "    triples_factory=training,\n",
    "    model=model,\n",
    "    optimizer=optimizer,\n",
    "    negative_sampler_kwargs=dict(num_negs_per_pos=32),\n",
    "    mode=\"training\",\n",
    ")\n",
    "\n",
    "valid_evaluator = SampledRankBasedEvaluator(\n",
    "    mode=\"validation\",\n",
    "    evaluation_factory=testing,\n",
    "    additional_filter_triples=testing.mapped_triples,\n",
    ")\n",
    "\n",
    "test_evaluator = SampledRankBasedEvaluator(\n",
    "    mode=\"testing\",\n",
    "    evaluation_factory=testing,\n",
    "    additional_filter_triples=testing.mapped_triples,\n",
    ")\n",
    "\n",
    "early_stopper = EarlyStopper(\n",
    "    model=model,\n",
    "    training_triples_factory=testing,\n",
    "    evaluation_triples_factory=testing,\n",
    "    frequency=1,\n",
    "    patience=100000,\n",
    "    result_tracker=None,\n",
    "    evaluation_batch_size=256,\n",
    "    evaluator=valid_evaluator,\n",
    ")\n",
    "\n",
    "training_loop.train(\n",
    "    triples_factory=training,\n",
    "    stopper=early_stopper,\n",
    "    num_epochs=10,\n",
    ")\n",
    "\n",
    "result = test_evaluator.evaluate(\n",
    "    model=model,\n",
    "    mapped_triples=testing.mapped_triples,\n",
    "    additional_filter_triples=testing.mapped_triples,\n",
    "    batch_size=256,\n",
    ")\n",
    "\n",
    "print(result.to_flat_dict())"
   ]
  },
  {
   "cell_type": "markdown",
   "metadata": {},
   "source": [
    "### 4. Evaluation"
   ]
  },
  {
   "cell_type": "code",
   "execution_count": 25,
   "metadata": {},
   "outputs": [
    {
     "data": {
      "text/plain": [
       "0.8766272189349112"
      ]
     },
     "execution_count": 25,
     "metadata": {},
     "output_type": "execute_result"
    }
   ],
   "source": [
    "result.get_metric('hits_at_10')"
   ]
  },
  {
   "cell_type": "code",
   "execution_count": 26,
   "metadata": {},
   "outputs": [],
   "source": [
    "# For all test patients get link prediction scores\n",
    "preds = []\n",
    "for i in range(len(y_test)):\n",
    "    pred = predict_target(\n",
    "        model=model,\n",
    "        tail=f\"<http://neurovasc#Patient_{training_size + i}>\",\n",
    "        relation=\"<https://biomedit.ch/rdf/sphn-schema/sphn#hasSubjectPseudoIdentifier>\",\n",
    "        triples_factory=testing,\n",
    "        mode=\"testing\",\n",
    "    )\n",
    "    pred.filter_triples(testing)\n",
    "    preds += [pred]\n",
    "\n",
    "# From predicted links compute the output with the most score as the model prediction\n",
    "y_pred = [\n",
    "    np.argmin(\n",
    "        [pred.df['head_label'][pred.df['head_label'] == f'<{p[-3:][output]}>'].index[0] for output in range(3)]\n",
    "        ) \n",
    "    for pred, p in zip(preds, temp_uris)\n",
    "    ]"
   ]
  },
  {
   "cell_type": "code",
   "execution_count": 27,
   "metadata": {},
   "outputs": [
    {
     "name": "stdout",
     "output_type": "stream",
     "text": [
      "[0, 2, 0, 0, 2, 2, 1, 1, 2, 1, 1, 1, 2, 0, 0, 2, 2, 1, 2, 0]\n",
      "[1, 0, 0, 0, 0, 0, 1, 1, 0, 1, 0, 2, 0, 0, 0, 0, 0, 0, 1, 0]\n"
     ]
    }
   ],
   "source": [
    "print(y_pred)\n",
    "print(y_test)"
   ]
  },
  {
   "cell_type": "code",
   "execution_count": 28,
   "metadata": {},
   "outputs": [],
   "source": [
    "matrix = confusion_matrix(y_test, y_pred)"
   ]
  },
  {
   "cell_type": "code",
   "execution_count": 29,
   "metadata": {},
   "outputs": [
    {
     "data": {
      "image/png": "[encoded data removed]",
      "text/plain": [
       "<Figure size 640x480 with 2 Axes>"
      ]
     },
     "metadata": {},
     "output_type": "display_data"
    }
   ],
   "source": [
    "disp = ConfusionMatrixDisplay(confusion_matrix=matrix) \n",
    "disp.plot()\n",
    "plt.show()"
   ]
  },
  {
   "cell_type": "code",
   "execution_count": 30,
   "metadata": {},
   "outputs": [
    {
     "name": "stdout",
     "output_type": "stream",
     "text": [
      "Precision: 0.4444444444444445\n",
      "Recall: 0.319047619047619\n",
      "F1 Score: 0.34848484848484845\n"
     ]
    }
   ],
   "source": [
    "precision = precision_score(y_test, y_pred, average=\"macro\")\n",
    "print(\"Precision:\", precision)\n",
    "recall = recall_score(y_test, y_pred, average=\"macro\")\n",
    "print(\"Recall:\", recall)\n",
    "f1 = f1_score(y_test, y_pred, average=\"macro\")\n",
    "print(\"F1 Score:\", f1)"
   ]
  }
 ],
 "metadata": {
  "kernelspec": {
   "display_name": "Python 3 (ipykernel)",
   "language": "python",
   "name": "python3"
  },
  "language_info": {
   "codemirror_mode": {
    "name": "ipython",
    "version": 3
   },
   "file_extension": ".py",
   "mimetype": "text/x-python",
   "name": "python",
   "nbconvert_exporter": "python",
   "pygments_lexer": "ipython3",
   "version": "3.10.12"
  }
 },
 "nbformat": 4,
 "nbformat_minor": 4
}
